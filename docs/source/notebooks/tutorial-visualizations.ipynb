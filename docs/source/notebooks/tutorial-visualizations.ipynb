{
 "cells": [
  {
   "cell_type": "markdown",
   "metadata": {},
   "source": [
    "## Visualizations Tutorial"
   ]
  },
  {
   "cell_type": "markdown",
   "metadata": {},
   "source": [
    "This notebook provides examples on how to carry out data visualization using the post_processing python library. Be sure to go through the [Quick Start](https://nhs-postprocessing.readthedocs.io/en/stable/QuickStart.html) section of the [documentation](https://nhs-postprocessing.readthedocs.io/en/stable/index.html) for instructions on how to access and import the libary and its packages.\n",
    "\n",
    "If you would like to open an editable runnable version of the tutorial click [here](https://mybinder.org/v2/gh/UchechukwuUdenze/NHS_PostProcessing/main?%2FHEAD=&urlpath=%2Fdoc%2Ftree%2Fdocs%2Fsource%2Fnotebooks%2Ftutorial-visualizations.ipynb) to be directed to a binder platform"
   ]
  },
  {
   "cell_type": "markdown",
   "metadata": {},
   "source": [
    "<mark>The Library is still under active development and empty sections will be completed in Due time</mark>"
   ]
  },
  {
   "cell_type": "markdown",
   "metadata": {},
   "source": [
    "### Table of content\n",
    "- [Plots](#line-plots)\n",
    "- [Bounded Plots](#bounded-plots)\n",
    "- [Scatter Plots](#scatter-plots)\n",
    "- [Histogram](#histogram-plots)\n",
    "- [Quantile Quantile Plots](#quantile-quantile-plots)\n",
    "- [Flow Duration Curve](#flow-duration-curve)"
   ]
  },
  {
   "cell_type": "markdown",
   "metadata": {},
   "source": [
    " All files are available in the github repository [here](https://github.com/UchechukwuUdenze/NHS_PostProcessing/tree/main/docs/source/notebooks)"
   ]
  },
  {
   "cell_type": "markdown",
   "metadata": {},
   "source": [
    "### Requirements\n",
    "\n",
    "The conda environmnent contains all libraries associated the post processing library. After setting up the conda environment, you only have to import the visualization modules from postprocessinglib.evaluation.\n",
    "\n",
    "In this example though, I will also be importing other modules to help generate the data that I will be trying to visualize."
   ]
  },
  {
   "cell_type": "code",
   "execution_count": 1,
   "metadata": {},
   "outputs": [],
   "source": [
    "### Remove and modify these later.\n",
    "import sys\n",
    "import pandas as pd\n",
    "sys.path.append(\"../../../\")"
   ]
  },
  {
   "cell_type": "code",
   "execution_count": 2,
   "metadata": {},
   "outputs": [],
   "source": [
    "from postprocessinglib.evaluation import data, visuals"
   ]
  },
  {
   "cell_type": "markdown",
   "metadata": {},
   "source": [
    "Lets use one of the data blocks from the data manipulation tutorial"
   ]
  },
  {
   "cell_type": "markdown",
   "metadata": {},
   "source": [
    "Now that we have our data, let's jump right in!"
   ]
  },
  {
   "cell_type": "code",
   "execution_count": 3,
   "metadata": {},
   "outputs": [
    {
     "name": "stdout",
     "output_type": "stream",
     "text": [
      "The start date for the Data is 1982-10-02\n"
     ]
    },
    {
     "name": "stderr",
     "output_type": "stream",
     "text": [
      "C:\\Users\\udenzeU\\Desktop\\JUPYTER\\postprocessing\\docs\\source\\notebooks\\../../..\\postprocessinglib\\evaluation\\data.py:361: PerformanceWarning: dropping on a non-lexsorted multi-index without a level parameter may impact performance.\n",
      "  df_copy = df_copy.drop(columns=['placeholder'])\n"
     ]
    }
   ],
   "source": [
    "# passing a controlled csv file for testing\n",
    "path_output = \"MESH_output_streamflow_3.csv\"\n",
    "path_input = \"Station_data.xlsx\"\n",
    "\n",
    "DATAFRAMES = data.generate_dataframes(csv_fpaths=path_output, warm_up=365,\n",
    "                                      daily_agg = True, da_method = 'min',\n",
    "                                      weekly_agg = True, wa_method = 'min',\n",
    "                                      monthly_agg = True, ma_method = 'inst',\n",
    "                                      yearly_agg = True, ya_method = 'sum',\n",
    "                                      seasonal_p = True, sp_dperiod = ('04-01', '08-30'), sp_subset = ('1981-01-01', '1985-12-31'),\n",
    "                                      long_term = True, lt_method = [\"mean\" ,'q75' ,'Q25', 'q10', 'q90'],)\n",
    "Stations = pd.read_excel(io=path_input)\n",
    "\n",
    "ignore = []\n",
    "for i in range(0, len(Stations)):\n",
    "    if Stations['Properties'][i] == 'X':\n",
    "        ignore.append(i)\n",
    "\n",
    "Stations = Stations.drop(Stations[Stations['Properties'] == 'X'].index)\n",
    "Stations = Stations.set_index('Station Number')\n",
    "\n",
    "for i in reversed(ignore):\n",
    "        DATAFRAMES[\"DF_OBSERVED\"] = DATAFRAMES[\"DF_OBSERVED\"].drop(columns = DATAFRAMES['DF_OBSERVED'].columns[i])\n",
    "        DATAFRAMES['DF_SIMULATED']  = DATAFRAMES[\"DF_SIMULATED\"].drop(columns = DATAFRAMES['DF_SIMULATED'].columns[i])\n",
    "        for key, dataframe in DATAFRAMES.items():\n",
    "            if key != \"DF_SIMULATED\" and key != \"DF_OBSERVED\" and key != \"NUM_SIMS\":\n",
    "                DATAFRAMES[key] = dataframe.drop(columns = dataframe.columns[[2*i, 2*i+1]])\n",
    "            \n",
    "\n",
    "# for key, value in DATAFRAMES.items():\n",
    "#     print(f\"{key}:\\n{value.head}\")"
   ]
  },
  {
   "cell_type": "markdown",
   "metadata": {},
   "source": [
    "### LINE PLOTS"
   ]
  },
  {
   "cell_type": "markdown",
   "metadata": {},
   "source": [
    "Starting off simple - one of the most important plots when working with hydrology and flow forecasting is the line plot of stream flow, stage or discharge.\n",
    "Using the data generated above we can plot these using our plot function.\n",
    "We are able to plot just single line data - "
   ]
  },
  {
   "cell_type": "code",
   "execution_count": 4,
   "metadata": {},
   "outputs": [
    {
     "ename": "TypeError",
     "evalue": "'NoneType' object is not subscriptable",
     "output_type": "error",
     "traceback": [
      "\u001b[1;31m---------------------------------------------------------------------------\u001b[0m",
      "\u001b[1;31mTypeError\u001b[0m                                 Traceback (most recent call last)",
      "Cell \u001b[1;32mIn[4], line 3\u001b[0m\n\u001b[0;32m      1\u001b[0m \u001b[38;5;66;03m# A very simple line plot can be generated as shown below\u001b[39;00m\n\u001b[0;32m      2\u001b[0m \u001b[38;5;66;03m# Just plotting the simulated data from the first station\u001b[39;00m\n\u001b[1;32m----> 3\u001b[0m visuals\u001b[38;5;241m.\u001b[39mplot(\n\u001b[0;32m      4\u001b[0m     df \u001b[38;5;241m=\u001b[39m DATAFRAMES[\u001b[38;5;124m\"\u001b[39m\u001b[38;5;124mDF_SIMULATED\u001b[39m\u001b[38;5;124m\"\u001b[39m]\u001b[38;5;241m.\u001b[39miloc[:, [\u001b[38;5;241m0\u001b[39m]],\n\u001b[0;32m      5\u001b[0m     num_sim\u001b[38;5;241m=\u001b[39mDATAFRAMES[\u001b[38;5;124m\"\u001b[39m\u001b[38;5;124mNUM_SIMS\u001b[39m\u001b[38;5;124m\"\u001b[39m],\n\u001b[0;32m      6\u001b[0m     title\u001b[38;5;241m=\u001b[39m\u001b[38;5;124m'\u001b[39m\u001b[38;5;124mHydrograph of the Simulated Data\u001b[39m\u001b[38;5;124m'\u001b[39m,\n\u001b[0;32m      7\u001b[0m     grid\u001b[38;5;241m=\u001b[39m\u001b[38;5;28;01mTrue\u001b[39;00m,\n\u001b[0;32m      8\u001b[0m )\n",
      "File \u001b[1;32m~\\Desktop\\JUPYTER\\postprocessing\\docs\\source\\notebooks\\../../..\\postprocessinglib\\evaluation\\visuals.py:291\u001b[0m, in \u001b[0;36mplot\u001b[1;34m(merged_df, df, sim_df, num_sim, legend, metrices, grid, title, labels, padding, linestyles, linewidth, fig_size, metrics_adjust, plot_adjust, save, save_as, dir)\u001b[0m\n\u001b[0;32m    288\u001b[0m     \u001b[38;5;28;01mfor\u001b[39;00m i \u001b[38;5;129;01min\u001b[39;00m \u001b[38;5;28mrange\u001b[39m (\u001b[38;5;241m0\u001b[39m, \u001b[38;5;28mlen\u001b[39m(line_df\u001b[38;5;241m.\u001b[39mcolumns)):\n\u001b[0;32m    289\u001b[0m         \u001b[38;5;66;03m# Plotting the Data     \u001b[39;00m\n\u001b[0;32m    290\u001b[0m         fig, ax \u001b[38;5;241m=\u001b[39m plt\u001b[38;5;241m.\u001b[39msubplots(figsize\u001b[38;5;241m=\u001b[39mfig_size, facecolor\u001b[38;5;241m=\u001b[39m\u001b[38;5;124m'\u001b[39m\u001b[38;5;124mw\u001b[39m\u001b[38;5;124m'\u001b[39m, edgecolor\u001b[38;5;241m=\u001b[39m\u001b[38;5;124m'\u001b[39m\u001b[38;5;124mk\u001b[39m\u001b[38;5;124m'\u001b[39m)\n\u001b[1;32m--> 291\u001b[0m         ax\u001b[38;5;241m.\u001b[39mplot(time, line_df\u001b[38;5;241m.\u001b[39miloc[:, i], linestyles[\u001b[38;5;241m0\u001b[39m], label\u001b[38;5;241m=\u001b[39mlegend[\u001b[38;5;241m0\u001b[39m], linewidth \u001b[38;5;241m=\u001b[39m linewidth[\u001b[38;5;241m0\u001b[39m])\n\u001b[0;32m    292\u001b[0m \u001b[38;5;28;01melse\u001b[39;00m:\n\u001b[0;32m    293\u001b[0m     \u001b[38;5;66;03m# In either case of merged or sim_df, we will alwaays have simulated data, so we plot the obs first if we have it.\u001b[39;00m\n\u001b[0;32m    294\u001b[0m     \u001b[38;5;28;01mfor\u001b[39;00m i \u001b[38;5;129;01min\u001b[39;00m \u001b[38;5;28mrange\u001b[39m (\u001b[38;5;241m0\u001b[39m, \u001b[38;5;28mlen\u001b[39m(sims[\u001b[38;5;124m\"\u001b[39m\u001b[38;5;124msim_1\u001b[39m\u001b[38;5;124m\"\u001b[39m]\u001b[38;5;241m.\u001b[39mcolumns)):\n\u001b[0;32m    295\u001b[0m         \u001b[38;5;66;03m# Plotting the Data     \u001b[39;00m\n",
      "\u001b[1;31mTypeError\u001b[0m: 'NoneType' object is not subscriptable"
     ]
    },
    {
     "data": {
      "image/png": "[encoded data removed]",
      "text/plain": [
       "<Figure size 1000x600 with 1 Axes>"
      ]
     },
     "metadata": {},
     "output_type": "display_data"
    }
   ],
   "source": [
    "# A very simple line plot can be generated as shown below\n",
    "# Just plotting the simulated data from the first station\n",
    "visuals.plot(\n",
    "    df = DATAFRAMES[\"DF_SIMULATED\"].iloc[:, [0]],\n",
    "    title='Hydrograph of the Simulated Data',\n",
    "    grid=True,\n",
    ")"
   ]
  },
  {
   "cell_type": "markdown",
   "metadata": {},
   "source": [
    "...and combined observed and simulated data - "
   ]
  },
  {
   "cell_type": "code",
   "execution_count": null,
   "metadata": {},
   "outputs": [],
   "source": [
    "# Plotting both Observed and Simulated combined\n",
    "visuals.plot(\n",
    "    merged_df = DATAFRAMES[\"DF\"].iloc[:, [0, 1]],\n",
    "    title='Hydrograph of the Data',\n",
    "    grid=True,\n",
    ")"
   ]
  },
  {
   "cell_type": "markdown",
   "metadata": {},
   "source": [
    "Lets zoom into a few years, say 2000-2005"
   ]
  },
  {
   "cell_type": "code",
   "execution_count": null,
   "metadata": {},
   "outputs": [],
   "source": [
    "visuals.plot(\n",
    "    merged_df = DATAFRAMES[\"DF\"]['2000-01-01':'2005-12-31'].iloc[:, [0, 1]],\n",
    "    title='Hydrograph of the Data(2000-2005)',\n",
    "    grid=True,\n",
    ")"
   ]
  },
  {
   "cell_type": "markdown",
   "metadata": {},
   "source": [
    "We are also able to plot the observed and simulated data in cases where we are not able to obtain them already merged together. This way we are not limited to a merged dataframe. This is shown below:"
   ]
  },
  {
   "cell_type": "code",
   "execution_count": null,
   "metadata": {},
   "outputs": [],
   "source": [
    "# plotting the first and fourth stations..\n",
    "visuals.plot(\n",
    "    sim_df = DATAFRAMES[\"DF_SIMULATED\"]['2000-01-01':'2005-12-31'].iloc[:, [0, 3]],\n",
    "    obs_df = DATAFRAMES[\"DF_OBSERVED\"]['2000-01-01':'2005-12-31'].iloc[:, [0, 3]],\n",
    "    title=['Hydrograph from seperate Observed and Simulated Data (First Station)',\n",
    "           'Hydrograph from seperate Observed and Simulated Data (Fourth Station)'],\n",
    "    grid=True,\n",
    ")"
   ]
  },
  {
   "cell_type": "markdown",
   "metadata": {},
   "source": [
    "The plot function also gives us complete control of the plot parameters. It allows you the flexibility to change the line colors, line width, axis labels, add grid lines, each plots title, the line legends and much more. There also exists an option to save the files as png images each with its own distinct name! \n",
    "\n",
    "All the posibilities can be found over at the documentation website linked [here](https://nhs-postprocessing.readthedocs.io/en/latest/api/postprocessinglib.evaluation.visuals.plot.html#postprocessinglib.evaluation.visuals.plot). Some examples of these are shown below:"
   ]
  },
  {
   "cell_type": "code",
   "execution_count": null,
   "metadata": {},
   "outputs": [],
   "source": [
    "# Changing the default naming conventions\n",
    "visuals.plot(\n",
    "    merged_df =DATAFRAMES[\"DF\"]['2000-01-01':'2005-12-31'].iloc[:, [0, 1, 2, 3]],\n",
    "    title='Hydrograph of the time series from 2000 till 2005',\n",
    "    linestyles=('r-', 'b-'),\n",
    "    legend=('Sim_Data', 'Obs_Data'),\n",
    "    labels=('Datetime', 'Streamflow'),\n",
    "    grid=True,\n",
    "    )"
   ]
  },
  {
   "cell_type": "code",
   "execution_count": null,
   "metadata": {
    "scrolled": true
   },
   "outputs": [],
   "source": [
    "# Including the metrics in the plots for the 1st and 4th Stations\n",
    "visuals.plot(\n",
    "    merged_df =DATAFRAMES[\"DF\"]['2000-01-01':'2005-12-31'].iloc[:, [0, 1, 6, 7]],\n",
    "    # including multiple plot titles\n",
    "    title=['Streamflow at Station A from 2000-2005', 'Streamflow at Station D from 2000-2005'],\n",
    "    fig_size=(10, 6),\n",
    "    linestyles=['k-', 'c-'],\n",
    "    labels=['Datetime', 'Streamflow Values'],\n",
    "    linewidth=(0.7, 1.3),\n",
    "    # include metrics\n",
    "    metrices = ['KGE', 'RMSE', 'NSE'],\n",
    "    grid=True,\n",
    "    # To save, uncomment the two lines below\n",
    "    # save = True, \n",
    "    # save_as = [station_a(2000-2005), station_b(2000-2005)],\n",
    "    # The two images will be saved as png files with names as entered above in the current directory\n",
    "    )"
   ]
  },
  {
   "cell_type": "markdown",
   "metadata": {},
   "source": [
    "### BOUNDED PLOTS"
   ]
  },
  {
   "cell_type": "markdown",
   "metadata": {},
   "source": [
    "Another really important plot is the bounded plot. The bounded plot is much like the line plot except it allows you to compare not just exact values but also the range of values. Within the MESH models evaluations, we use this when aggregating the data into days of the month, months of the year, etc. Its especially useful when trying to guage how accurate the range of values compared to say its median or mean for example. An exmaple is shown below"
   ]
  },
  {
   "cell_type": "code",
   "execution_count": null,
   "metadata": {},
   "outputs": [],
   "source": [
    "visuals.bounded_plot(\n",
    "    lines = DATAFRAMES[\"LONG_TERM_MEDIAN\"].iloc[:, [0,1]],\n",
    "    upper_bounds = [DATAFRAMES[\"LONG_TERM_MAX\"].iloc[:, [0,1]]],\n",
    "    lower_bounds = [DATAFRAMES[\"LONG_TERM_MIN\"].iloc[:, [0,1]]],\n",
    "    linestyles=['b', 'r-'],\n",
    "    labels=['Datetime', 'Streamflow'],\n",
    "    grid=True,\n",
    "    transparency = [0.4, 0.3],\n",
    "    title = 'Long term Median Aggregation compared to its max and min values'\n",
    "    )"
   ]
  },
  {
   "cell_type": "markdown",
   "metadata": {},
   "source": [
    "As you can see above, we compare the median of the long term aggregation to its max and min values. Below, lets compare it to the 25th and 75th Quartile values"
   ]
  },
  {
   "cell_type": "code",
   "execution_count": null,
   "metadata": {},
   "outputs": [],
   "source": [
    "visuals.bounded_plot(\n",
    "  lines = DATAFRAMES[\"LONG_TERM_MEDIAN\"].iloc[:, [6,7]],\n",
    "  upper_bounds = [DATAFRAMES[\"LONG_TERM_Q75\"].iloc[:, [6,7]]],\n",
    "  lower_bounds = [DATAFRAMES[\"LONG_TERM_Q25\"].iloc[:, [6,7]]],\n",
    "  title=['Long term Median Aggregation compared to its 75th and 25th Quartile values'],\n",
    "  legend = ['Predicted Streamflow','Recorded Streamflow'],\n",
    "  linestyles=['k', 'r-'],\n",
    "  labels=['Days of the year', 'Streamflow Values'],\n",
    "  transparency = [0.4, 0.7],\n",
    "  grid = 'True'\n",
    "#   To save, uncomment the two lines below\n",
    "#   save = True,\n",
    "#   save_as = \"b_plot_1\", dir= '../b_plots'\n",
    ")"
   ]
  },
  {
   "cell_type": "markdown",
   "metadata": {},
   "source": [
    "We can also use multiple bounds."
   ]
  },
  {
   "cell_type": "code",
   "execution_count": null,
   "metadata": {},
   "outputs": [],
   "source": [
    "visuals.bounded_plot(\n",
    "  lines = DATAFRAMES[\"LONG_TERM_MEDIAN\"].iloc[:, [6,7]],\n",
    "  upper_bounds = [DATAFRAMES[\"LONG_TERM_Q75\"].iloc[:, [6,7]], DATAFRAMES[\"LONG_TERM_Q90\"].iloc[:, [6,7]]],\n",
    "  lower_bounds = [DATAFRAMES[\"LONG_TERM_Q25\"].iloc[:, [6,7]], DATAFRAMES[\"LONG_TERM_Q10\"].iloc[:, [6,7]]],\n",
    "  title=['Long term Median Aggregation compared to its 90th, 75th, 25th and 10th Quartile values'],\n",
    "  legend = ['Sim Strflw','Obs Strflw'],\n",
    "  linestyles=['m-', 'r-'],\n",
    "  labels=['Days of the year', 'Streamflow Values'],\n",
    "  transparency = [0.4, 0.25],\n",
    ")"
   ]
  },
  {
   "cell_type": "markdown",
   "metadata": {},
   "source": [
    "### SCATTER PLOTS"
   ]
  },
  {
   "cell_type": "markdown",
   "metadata": {},
   "source": [
    "The library provides us with two types of scatter plots. You select the one you want based on the inputs you pass into it. "
   ]
  },
  {
   "cell_type": "markdown",
   "metadata": {},
   "source": [
    "The first kind directly compares simulated or predcicted data (i.e., data generated by using the models) to actual oberved or measure data. It is used to visually show how accurately the model predicts the data. The closer the points are to the 45 degree line the more accurate the model is. Its is also used to show areas and time periods where the data does better which might point to a different problem such as weather anomalies, instrument errors, etc.\n",
    "\n",
    "An example is shown below"
   ]
  },
  {
   "cell_type": "code",
   "execution_count": null,
   "metadata": {},
   "outputs": [],
   "source": [
    "visuals.scatter(merged_df = DATAFRAMES['DF']['1981-01-01':'1985-01-31'].iloc[:, [26, 27]],\n",
    "               grid = True,\n",
    "               labels = (\"Simulated Data\", \"Observed Data\"),\n",
    "               markerstyle = 'b.',\n",
    "               title = \"Scatterplot of the data from January 1981 to January 1985\",\n",
    "               line45 = True,\n",
    "               metrices = ['KGE', 'RMSE'],\n",
    "#                save = True,\n",
    "               )"
   ]
  },
  {
   "cell_type": "markdown",
   "metadata": {},
   "source": [
    "Similar to the other plots, there's ways to save the images using the save, save as and dir parameters passed into the function. It also allows the calculations of metrics as shown above. \n",
    "\n",
    "Another way to use the function would be using to show variations in certain metrics to show where the models performs better for that particular metric. You will have to provide some sort of shapefile and the parameters you'd need to plot it like x and y axis values, and the metric you'd be comparing. \n",
    "\n",
    "An example is shown below:"
   ]
  },
  {
   "cell_type": "code",
   "execution_count": null,
   "metadata": {},
   "outputs": [],
   "source": [
    "shapefile_path = r\"SaskRB_SubDrainage2.shp\"\n",
    "\n",
    "visuals.scatter(shapefile_path = shapefile_path,\n",
    "    title = \"SRB SubDrainage showing the KGE distribution\",\n",
    "    x_axis = Stations[\"Lon\"],\n",
    "    y_axis = Stations[\"Lat\"],\n",
    "    metric = \"KGE\",\n",
    "    fig_size = (24, 30),\n",
    "    observed = DATAFRAMES[\"DF_OBSERVED\"],\n",
    "    simulated = DATAFRAMES[\"DF_SIMULATED\"],\n",
    "    labels=['Longitude', 'Latitude'],\n",
    "#     cmap = 'viridis',\n",
    "#     vmin = 0,\n",
    "#     vmax=0.8,\n",
    ")"
   ]
  },
  {
   "cell_type": "markdown",
   "metadata": {},
   "source": [
    "The graph above shows the location of various stations and how accurately the models predict the streamflow by using the KGE (Kling - Gupta Efficiency) metric. You are also allowed to change the color scheme of your cmap, the maximum and minimum values of your color map and just like the ones above, you can also save using the respective parameters like the above visualizations tools."
   ]
  },
  {
   "cell_type": "markdown",
   "metadata": {},
   "source": [
    "### HISTOGRAM PLOTS"
   ]
  },
  {
   "cell_type": "markdown",
   "metadata": {},
   "source": [
    "The histogram compares the distribution of observed and simulated data, providing insights into their statistical characteristics and variability. Its allows users to analyze the frequency distribution of hydrological data, assess model performance, and identify biases in the simulated dataset.\n",
    "\n",
    "its features are very similar to that of the line plot where we are able to plot single data using the ``df`` argument and plot observed and simulated data. Some of these functionality is shown below"
   ]
  },
  {
   "cell_type": "code",
   "execution_count": null,
   "metadata": {},
   "outputs": [],
   "source": [
    "visuals.histogram(\n",
    "    merged_df =DATAFRAMES[\"DF\"]['2000-01-01':'2005-12-31'].iloc[:, [0, 1]],\n",
    "    grid = True,\n",
    "    title = \"Histogram Plot of a simulated Dataset compared to the observed from 2000 till 2005\",\n",
    ")"
   ]
  },
  {
   "cell_type": "code",
   "execution_count": null,
   "metadata": {},
   "outputs": [],
   "source": [
    "visuals.histogram(\n",
    "    obs_df =DATAFRAMES[\"DF_OBSERVED\"]['2000-01-01':'2005-12-31'].iloc[:, [0]],\n",
    "    sim_df =DATAFRAMES[\"DF_SIMULATED\"]['2000-01-01':'2005-12-31'].iloc[:, [0]],\n",
    "    grid = True,\n",
    "    title = \"Histogram Plot of a simulated Dataset compared to the observed from 2000 till 2005 from seperate dataframes\",\n",
    ")"
   ]
  },
  {
   "cell_type": "code",
   "execution_count": null,
   "metadata": {},
   "outputs": [],
   "source": [
    "visuals.histogram(\n",
    "    df =DATAFRAMES[\"DF_SIMULATED\"]['2000-01-01':'2005-12-31'].iloc[:, [8]],\n",
    "    grid = True,\n",
    "    title = \"Single Histogram Plot of a simulated Dataset from 2000 till 2005\",\n",
    ")"
   ]
  },
  {
   "cell_type": "markdown",
   "metadata": {},
   "source": [
    "You are able to modify the numbers of bins/bars, you are able to specify if you want the data z-normalized as well as specify if you want the data normalized to form a probability density as shown below:"
   ]
  },
  {
   "cell_type": "code",
   "execution_count": null,
   "metadata": {},
   "outputs": [],
   "source": [
    "visuals.histogram(\n",
    "    df =DATAFRAMES[\"DF_SIMULATED\"]['2000-01-01':'2005-12-31'].iloc[:, [8]],\n",
    "    grid = True,\n",
    "    title = \"Histogram Plot of the simulated Dataset from 2000 till 2005\",\n",
    "    prob_dens = True, bins = 75,\n",
    "    colors = ['', 'g']\n",
    ")"
   ]
  },
  {
   "cell_type": "markdown",
   "metadata": {},
   "source": [
    "By setting the probability density to true, the plot gets normalized to a state where the area under the graph equals to 1. i.e the area of each bar summed up will equal 1.  "
   ]
  },
  {
   "cell_type": "code",
   "execution_count": null,
   "metadata": {},
   "outputs": [],
   "source": [
    "visuals.histogram(\n",
    "    df =DATAFRAMES[\"DF_SIMULATED\"]['2000-01-01':'2005-12-31'].iloc[:, [8]],\n",
    "    grid = True,\n",
    "    title = \"Histogram Plot of the simulated Dataset from 2000 till 2005\",\n",
    "    z_norm = True, bins = 75,\n",
    "    colors = ['', 'g']\n",
    ")"
   ]
  },
  {
   "cell_type": "markdown",
   "metadata": {},
   "source": [
    "As observed, the data has been z score normalized. \n",
    "\n",
    "As usual you are also able to modify the color, transparency of the bars and size of the figure, amongst others. You are also able to save the figures "
   ]
  },
  {
   "cell_type": "code",
   "execution_count": null,
   "metadata": {},
   "outputs": [],
   "source": [
    "visuals.histogram(\n",
    "    merged_df =DATAFRAMES[\"DF\"]['2000-01-01':'2005-12-31'].iloc[:, [8, 9, 10, 11]],\n",
    "    grid = True,\n",
    "    title = \"Histogram Plot of the simulated Dataset from 2000 till 2005\",\n",
    "    prob_dens = True, bins = 125,\n",
    "    colors = ['red', 'magenta'],\n",
    "    transparency = 0.5,\n",
    "#     save=True,\n",
    "#     save_as=\"histogramplot_example\",\n",
    "#     dir = '../Figures'    \n",
    ")"
   ]
  },
  {
   "cell_type": "markdown",
   "metadata": {},
   "source": [
    "### QUANTILE QUANTILE PLOTS"
   ]
  },
  {
   "cell_type": "markdown",
   "metadata": {},
   "source": [
    "The Quantile plot allow us to immediately see if the observed and simulated datsets - when plotted against each other - follow the normal distribution by comparing their quantiles i.e., we compare the quantiles of the simulated dataset to that of the observed and see how accurately they fall on the y = x line. "
   ]
  },
  {
   "cell_type": "code",
   "execution_count": null,
   "metadata": {},
   "outputs": [],
   "source": [
    "visuals.qqplot(\n",
    "    merged_df =DATAFRAMES[\"DF\"]['2000-01-01':'2005-12-31'].iloc[:, [0, 1]],\n",
    "    labels=[\"Quantiles (Simulated)\", \"Quantiles (Observed)\"],\n",
    "    title=\"QQ Plot of the simulated Dataset compared to the observed from 2000 till 2005\",\n",
    "    grid = True\n",
    ")"
   ]
  },
  {
   "cell_type": "markdown",
   "metadata": {},
   "source": [
    "Our library also allows us to plot a quantile range within which certain qauntiles will exist. Its default is the interquartile range of the 25th to the 75th Quartile but you are able to adjust it to whatever you want and name it how ever you want. For example: "
   ]
  },
  {
   "cell_type": "code",
   "execution_count": null,
   "metadata": {},
   "outputs": [],
   "source": [
    "visuals.qqplot(\n",
    "    merged_df =DATAFRAMES[\"DF\"]['2000-01-01':'2005-12-31'].iloc[:, [16, 17]],\n",
    "    labels=[\"Quantiles (Simulated)\", \"Quantiles (Observed)\"],\n",
    "    title=\"QQ Plot of the simulated Dataset comapred to the observed from 2000 till 2005\",\n",
    "    legend = True,\n",
    "    quantile = [75, 100],\n",
    "    q_labels= ['','','Upper Quantile'],\n",
    "    grid = True\n",
    ")"
   ]
  },
  {
   "cell_type": "markdown",
   "metadata": {},
   "source": [
    "As usual you able to modify the shape, color and thickness of your lines as you see fit and you are able to save the images as well as shown in previous plots"
   ]
  },
  {
   "cell_type": "code",
   "execution_count": null,
   "metadata": {},
   "outputs": [],
   "source": [
    "visuals.qqplot(\n",
    "    merged_df =DATAFRAMES[\"DF\"]['2000-01-01':'2005-12-31'].iloc[:, [16, 17]],\n",
    "    linestyle = ['bo','c-.','k-'],\n",
    "    labels=[\"Quantiles (Simulated)\", \"Quantiles (Observed)\"],\n",
    "    title=\"QQ Plot of the simulated Dataset comapred to the observed from 2000 till 2005\",\n",
    "    linewidth = [.75, 1.25],\n",
    "    legend = True,\n",
    "    quantile = [0, 50],\n",
    "    q_labels= ['Quantiles','Range of Quantiles','Lower Half'],\n",
    "    grid = True,\n",
    "#     save=True,\n",
    "#     save_as=\"qqplot_example\",\n",
    "#     dir = '../Figures'\n",
    ")"
   ]
  },
  {
   "cell_type": "markdown",
   "metadata": {},
   "source": [
    "### FLOW DURATION CURVE"
   ]
  },
  {
   "cell_type": "markdown",
   "metadata": {},
   "source": [
    "The Flow Duration Curve (FDC) is a graphical representation of the frequency distribution of flow values, showing the relationship between exceedance probability and streamflow magnitude. This function compares the observed and simulated data sets and generates the FDC for each column in the provided data. This is shown below:"
   ]
  },
  {
   "cell_type": "code",
   "execution_count": null,
   "metadata": {},
   "outputs": [],
   "source": [
    "visuals.flow_duration_curve(\n",
    "    merged_df = DATAFRAMES[\"DF\"].iloc[:, [0, 1]],\n",
    "    title='Flow Duration Curve of the Model Result',\n",
    "    grid = True\n",
    ")"
   ]
  },
  {
   "cell_type": "markdown",
   "metadata": {},
   "source": [
    "As usual you are able to modify the plot parameters as you see fit - everything from colors to names to labels names and plot size - and of course, you can save the images generated"
   ]
  },
  {
   "cell_type": "code",
   "execution_count": null,
   "metadata": {},
   "outputs": [],
   "source": [
    "visuals.flow_duration_curve(\n",
    "    merged_df = DATAFRAMES[\"DF\"].iloc[:, [0, 1]],\n",
    "    title='Flow Duration Curve of the Model Result',\n",
    "    legend=['Predicted','Measured'],\n",
    "    labels=('Percentage Probability (%)', 'StreamFlow (m³/s)'),\n",
    "    linestyles=('c-', 'k-'),\n",
    "    grid = True,\n",
    "#     save=True,\n",
    "#     save_as=\"FDC_example\",\n",
    "#     dir = '../Figures'\n",
    ")"
   ]
  },
  {
   "cell_type": "code",
   "execution_count": null,
   "metadata": {},
   "outputs": [],
   "source": []
  }
 ],
 "metadata": {
  "kernelspec": {
   "display_name": "Python 3 (ipykernel)",
   "language": "python",
   "name": "python3"
  },
  "language_info": {
   "codemirror_mode": {
    "name": "ipython",
    "version": 3
   },
   "file_extension": ".py",
   "mimetype": "text/x-python",
   "name": "python",
   "nbconvert_exporter": "python",
   "pygments_lexer": "ipython3",
   "version": "3.11.9"
  }
 },
 "nbformat": 4,
 "nbformat_minor": 4
}
