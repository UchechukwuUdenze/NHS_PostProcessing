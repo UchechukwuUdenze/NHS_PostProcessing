{
 "cells": [
  {
   "cell_type": "markdown",
   "id": "59b665b0-bb3d-4d0e-a068-41fcf8d86767",
   "metadata": {},
   "source": [
    "## NHS Post processing Library"
   ]
  },
  {
   "cell_type": "markdown",
   "id": "96e227fe-f756-4348-94eb-f6f0e9415c0c",
   "metadata": {},
   "source": [
    "This notebook provides examples on how to carry out data evaluation, visualization and analysis using the post_processing python library. Be sure to go through the [Quick Start](https://nhs-postprocessing.readthedocs.io/en/latest/QuickStart.html) section of the [documentation](https://nhs-postprocessing.readthedocs.io/en/latest/index.html) for instructions on how to access and import the libary and its packages."
   ]
  },
  {
   "cell_type": "markdown",
   "id": "cb625051-179d-4dbc-99be-9330195a6a3d",
   "metadata": {},
   "source": [
    "##### Note: \n",
    "The Library is still under active development and empty sections will be completed in Due time"
   ]
  },
  {
   "cell_type": "markdown",
   "id": "97d26aea-9801-4e45-bd16-fa798d7653fe",
   "metadata": {},
   "source": [
    "### Table of content\n",
    "- Requirements\n",
    "- DataTypes(csv, DF, etc)\n",
    "- Organizations(MESH, TB EVAL, EOD, etc)\n",
    "- Analysis\n",
    "- Viaualizations\n"
   ]
  },
  {
   "cell_type": "markdown",
   "id": "d461430d-90a0-49c4-9f00-d63b3be689ed",
   "metadata": {},
   "source": [
    "### Requirements\n",
    "\n",
    "The conda environmnent contains all libraries associated the post processing library. After setting up the conda environment, you only have to import the metrics and visualization modules from postprocessinglib.evaluation"
   ]
  },
  {
   "cell_type": "code",
   "execution_count": 1,
   "id": "3a8a04fa-76e9-4087-abdd-43624d882750",
   "metadata": {},
   "outputs": [],
   "source": [
    "### Remove and modify these later.\n",
    "import ipywidgets as widgets\n",
    "from ipywidgets import interactive, ToggleButtons\n",
    "import datetime\n",
    "import sys\n",
    "sys.path.append(\"../../../../postprocessing\")"
   ]
  },
  {
   "cell_type": "code",
   "execution_count": 2,
   "id": "e5e8f878",
   "metadata": {},
   "outputs": [],
   "source": [
    "from postprocessinglib.evaluation import metrics, visuals"
   ]
  },
  {
   "cell_type": "markdown",
   "id": "1ceff7d7-826a-408e-8ca1-0c7b2825ab45",
   "metadata": {},
   "source": [
    "From this point on, the function you use will depend on which project you are working on and what sort of data i.e., the datatype of the data, you have."
   ]
  },
  {
   "cell_type": "markdown",
   "id": "ad7da2ff-5f95-4854-8762-cb507aa9688b",
   "metadata": {},
   "source": [
    "### MESH CSV files"
   ]
  },
  {
   "cell_type": "markdown",
   "id": "45d6a99e-d83b-4ce0-8250-33ae2f3962e9",
   "metadata": {},
   "source": [
    "Assuming you have a csv file containing an csv file with observed and simulated values for a list of stations of the form:\n",
    "| Some datetime  | station1_obs | station1_sim | station2_obs | station2_sim |\n",
    "| -------------- | ------------ | ------------ | ------------ | ------------ | \n",
    "\n",
    "We simply pass it into our generate dataframes function as shown below:\n"
   ]
  },
  {
   "cell_type": "code",
   "execution_count": 3,
   "id": "65104fc1",
   "metadata": {},
   "outputs": [],
   "source": [
    "# passing a controlled csv file for testing\n",
    "path = \"MESH_output_streamflow.csv\"\n",
    "\n",
    "# assuming the simulation model needs 365 days to warm up and account for erros during the learning phase.\n",
    "observed, simulated = metrics.generate_dataframes(csv_fpath=path, warm_up=365)"
   ]
  },
  {
   "cell_type": "markdown",
   "id": "75906704-57b6-498e-9248-17be0f9e3b69",
   "metadata": {},
   "source": [
    "In this case we generate two dataframes, one for the observed and measured values and another for the values being generated from the model"
   ]
  },
  {
   "cell_type": "code",
   "execution_count": 4,
   "id": "241edcc1",
   "metadata": {},
   "outputs": [
    {
     "name": "stdout",
     "output_type": "stream",
     "text": [
      "The Observed dataframe: \n",
      "\n",
      "           QOMEAS_05BB001  QOMEAS_05BA001\n",
      "YEAR JDAY                                \n",
      "1980 366            10.20            -1.0\n",
      "1981 1               9.85            -1.0\n",
      "     2              10.20            -1.0\n",
      "     3              10.00            -1.0\n",
      "     4              10.10            -1.0\n",
      "...                   ...             ...\n",
      "2017 361            -1.00            -1.0\n",
      "     362            -1.00            -1.0\n",
      "     363            -1.00            -1.0\n",
      "     364            -1.00            -1.0\n",
      "     365            -1.00            -1.0\n",
      "\n",
      "[13515 rows x 2 columns]\n",
      "\n",
      "The Simulated dataframe: \n",
      "\n",
      "           QOSIM_05BB001  QOSIM_05BA001\n",
      "YEAR JDAY                              \n",
      "1980 366        2.530770       1.006860\n",
      "1981 1          2.518999       1.001954\n",
      "     2          2.507289       0.997078\n",
      "     3          2.495637       0.992233\n",
      "     4          2.484073       0.987417\n",
      "...                  ...            ...\n",
      "2017 361        4.418050       1.380227\n",
      "     362        4.393084       1.372171\n",
      "     363        4.368303       1.364174\n",
      "     364        4.343699       1.356237\n",
      "     365        4.319275       1.348359\n",
      "\n",
      "[13515 rows x 2 columns]\n"
     ]
    }
   ],
   "source": [
    "print(\"The Observed dataframe: \\n\")\n",
    "print(observed)\n",
    "print(\"\\nThe Simulated dataframe: \\n\")\n",
    "print(simulated)"
   ]
  },
  {
   "cell_type": "markdown",
   "id": "b3dee15b-ce4b-466e-9a90-2369e19a7471",
   "metadata": {},
   "source": [
    "You are immediately presented with two dataframes, one containing simulated values and the other containing observed values. It is important to have these two dataframes as they are both necessary for use in the analysis calculations."
   ]
  },
  {
   "cell_type": "code",
   "execution_count": 5,
   "id": "befeb6ac-5584-4634-90aa-e9b89e81b0c7",
   "metadata": {},
   "outputs": [
    {
     "name": "stdout",
     "output_type": "stream",
     "text": [
      "           QOMEAS_05BB001  QOSIM_05BB001\n",
      "YEAR JDAY                               \n",
      "1980 366            10.20       2.530770\n",
      "1981 1               9.85       2.518999\n",
      "     2              10.20       2.507289\n",
      "     3              10.00       2.495637\n",
      "     4              10.10       2.484073\n",
      "...                   ...            ...\n",
      "2017 361            -1.00       4.418050\n",
      "     362            -1.00       4.393084\n",
      "     363            -1.00       4.368303\n",
      "     364            -1.00       4.343699\n",
      "     365            -1.00       4.319275\n",
      "\n",
      "[13515 rows x 2 columns]\n",
      "           QOMEAS_05BA001  QOSIM_05BA001\n",
      "YEAR JDAY                               \n",
      "1980 366             -1.0       1.006860\n",
      "1981 1               -1.0       1.001954\n",
      "     2               -1.0       0.997078\n",
      "     3               -1.0       0.992233\n",
      "     4               -1.0       0.987417\n",
      "...                   ...            ...\n",
      "2017 361             -1.0       1.380227\n",
      "     362             -1.0       1.372171\n",
      "     363             -1.0       1.364174\n",
      "     364             -1.0       1.356237\n",
      "     365             -1.0       1.348359\n",
      "\n",
      "[13515 rows x 2 columns]\n"
     ]
    }
   ],
   "source": [
    "# You are also able to split the data into their respective stations in the cases where you might want to do so\n",
    "for station in metrics.station_dataframe(observed=observed, simulated=simulated, station_num=2):\n",
    "    print(station)"
   ]
  },
  {
   "cell_type": "markdown",
   "id": "e6602fb8-1897-4dc8-914f-b943a8dcb6ad",
   "metadata": {},
   "source": [
    "<mark>Note: As it stands, that is the only kind of data that we it is currently able to handle. In future releases, It will be able to handle more file types including, netcdf file, shape file, arrays, and more.<mark/>"
   ]
  },
  {
   "cell_type": "markdown",
   "id": "0fd4e62c-e241-445e-852e-d6947276d0d6",
   "metadata": {},
   "source": [
    "### Analysis"
   ]
  },
  {
   "cell_type": "markdown",
   "id": "43384892-63fe-491b-9fc7-8dda53be87ff",
   "metadata": {},
   "source": [
    "Because the library is in active development, there will be regular removals and additions to its features. As a rule of thumb therefore it is always a good idea to check what it can do at the time of use."
   ]
  },
  {
   "cell_type": "code",
   "execution_count": 6,
   "id": "db52d1b3-16f4-4628-94b4-104b75977d7d",
   "metadata": {},
   "outputs": [
    {
     "name": "stdout",
     "output_type": "stream",
     "text": [
      "MSE\n",
      "RMSE\n",
      "MAE\n",
      "NSE\n",
      "NegNSE\n",
      "LogNSE\n",
      "NegLogNSE\n",
      "KGE\n",
      "NegKGE\n",
      "KGE 2012\n",
      "BIAS\n",
      "AbsBIAS\n",
      "TTP\n",
      "TTCoM\n",
      "SPOD\n"
     ]
    }
   ],
   "source": [
    "# We do this by calling on its available metrics\n",
    "for metric in metrics.available_metrics():\n",
    "    print(metric)"
   ]
  },
  {
   "cell_type": "markdown",
   "id": "4d8f7f5a-df66-42ce-b27a-ff86589adc1d",
   "metadata": {},
   "source": [
    "Now that we know what it can currently do, we know what we want to ask for."
   ]
  },
  {
   "cell_type": "markdown",
   "id": "995eace1-082f-47eb-9663-92bae5fc042e",
   "metadata": {},
   "source": [
    "##### Mean Square Error"
   ]
  },
  {
   "cell_type": "code",
   "execution_count": 7,
   "id": "9e5447fe-c907-4f96-905c-37c511d949b6",
   "metadata": {},
   "outputs": [
    {
     "name": "stdout",
     "output_type": "stream",
     "text": [
      "[1656.685638835447]\n"
     ]
    }
   ],
   "source": [
    "# Mean square error for the first station in the data we were given\n",
    "print(metrics.mse(observed=observed, simulated=simulated, num_stations=1))"
   ]
  },
  {
   "cell_type": "markdown",
   "id": "1c791ee4-a104-42bf-9912-2544ab33a533",
   "metadata": {},
   "source": [
    "##### Root Mean Square Error"
   ]
  },
  {
   "cell_type": "code",
   "execution_count": 8,
   "id": "89beaa4d-602b-4463-a884-c95c05f71f36",
   "metadata": {},
   "outputs": [
    {
     "name": "stdout",
     "output_type": "stream",
     "text": [
      "[40.702403354537275]\n"
     ]
    }
   ],
   "source": [
    "# lets calculate for the root mean square error for the first station in the data we were given\n",
    "# The syntax goes:-\n",
    "print(metrics.rmse(observed=observed, simulated=simulated, num_stations=1))"
   ]
  },
  {
   "cell_type": "markdown",
   "id": "5fbce470-00f5-4421-928d-373ddc473cde",
   "metadata": {},
   "source": [
    "##### Mean Average Error"
   ]
  },
  {
   "cell_type": "code",
   "execution_count": 9,
   "id": "814750eb-20a6-4c3d-a9a2-337f4ef56266",
   "metadata": {},
   "outputs": [
    {
     "name": "stdout",
     "output_type": "stream",
     "text": [
      "[22.12912878335626]\n"
     ]
    }
   ],
   "source": [
    "# Similarly, the mean absolute error for the first station in the data we were given will look like \n",
    "print(metrics.mae(observed=observed, simulated=simulated, num_stations=1))"
   ]
  },
  {
   "cell_type": "markdown",
   "id": "b8b89a01-0f13-4f67-bfc7-eb9621d1a5bb",
   "metadata": {},
   "source": [
    "##### Nash-Sutcliffe Efficiency"
   ]
  },
  {
   "cell_type": "code",
   "execution_count": 10,
   "id": "ed477e2e-0475-468d-867e-50c48cf2008b",
   "metadata": {},
   "outputs": [
    {
     "name": "stdout",
     "output_type": "stream",
     "text": [
      "[0.0021806971124596064]\n"
     ]
    }
   ],
   "source": [
    "# Similarly, the Nash-Sutcliffe Efficiency for the first station in the data we were given will look like \n",
    "print(metrics.nse(observed=observed, simulated=simulated, num_stations=1))"
   ]
  },
  {
   "cell_type": "markdown",
   "id": "2b477635-31ad-4086-99bc-1b3a6884b536",
   "metadata": {},
   "source": [
    "##### Kling-Gupta Efficiency"
   ]
  },
  {
   "cell_type": "code",
   "execution_count": 11,
   "id": "add8b858-1cf2-4795-9b6c-3f3ce1e9e46a",
   "metadata": {},
   "outputs": [
    {
     "name": "stdout",
     "output_type": "stream",
     "text": [
      "[0.49061085454963205]\n"
     ]
    }
   ],
   "source": [
    "# Similarly, the Kling-Gupta Efficiency for the first station in the data we were given will look like \n",
    "print(metrics.kge(observed=observed, simulated=simulated, num_stations=1))"
   ]
  },
  {
   "cell_type": "markdown",
   "id": "63a1b546-4b01-4b92-980a-34df9350517c",
   "metadata": {},
   "source": [
    "##### The Updated Kling-Gupta Efficiency (2012)"
   ]
  },
  {
   "cell_type": "code",
   "execution_count": 12,
   "id": "b853f560-412f-479b-b3d0-f80183d9c607",
   "metadata": {},
   "outputs": [
    {
     "name": "stdout",
     "output_type": "stream",
     "text": [
      "[0.27812840065858213]\n"
     ]
    }
   ],
   "source": [
    "# Similarly, the Kling-Gupta Efficiency for the first station in the data we were given will look like \n",
    "print(metrics.kge_2012(observed=observed, simulated=simulated, num_stations=1))"
   ]
  },
  {
   "cell_type": "markdown",
   "id": "5c74bf29-d59c-4d4e-a466-536e3144f8e0",
   "metadata": {},
   "source": [
    "##### Percentage Bias"
   ]
  },
  {
   "cell_type": "code",
   "execution_count": 13,
   "id": "c94f7f0c-92c6-40c4-944a-2d0645ae071b",
   "metadata": {},
   "outputs": [
    {
     "name": "stdout",
     "output_type": "stream",
     "text": [
      "[-27.052012466427488]\n"
     ]
    }
   ],
   "source": [
    "# Similarly, the Percentage Bias for the first station in the data we were given will look like \n",
    "print(metrics.bias(observed=observed, simulated=simulated, num_stations=1))\n",
    "\n",
    "# Observed that it returns the percentage not the actual value i.e 27% not 0.27"
   ]
  },
  {
   "cell_type": "markdown",
   "id": "4cc8d77f-1c31-42a8-9274-d8e1dc5666f0",
   "metadata": {},
   "source": [
    "##### Time to Peak"
   ]
  },
  {
   "cell_type": "code",
   "execution_count": 14,
   "id": "7e68e931-55b6-476b-bd34-ada6b2d19fc4",
   "metadata": {},
   "outputs": [
    {
     "name": "stdout",
     "output_type": "stream",
     "text": [
      "[186.61111111111111]\n",
      "[167.375]\n"
     ]
    }
   ],
   "source": [
    "# Similarly, the Time to Peak for the simulated data from the first station in the data we were given will look like \n",
    "print(metrics.time_to_peak(df=simulated, num_stations=1))\n",
    "\n",
    "# The time to peak for the observed data for the same station looks like:-\n",
    "print(metrics.time_to_peak(df=observed, num_stations=1))"
   ]
  },
  {
   "cell_type": "markdown",
   "id": "b59691e4-ec08-488a-a413-6f8a7ce4c994",
   "metadata": {},
   "source": [
    "##### Time to Centre of Mass"
   ]
  },
  {
   "cell_type": "code",
   "execution_count": 15,
   "id": "a1de9ecf-a3d1-4c04-a020-8723c760fd69",
   "metadata": {},
   "outputs": [
    {
     "name": "stdout",
     "output_type": "stream",
     "text": [
      "[192.78635358563776]\n",
      "[193.911419943451]\n"
     ]
    }
   ],
   "source": [
    "# Similarly, the Time to Peak for the simulated data from the first station in the data we were given will look like \n",
    "print(metrics.time_to_centre_of_mass(df=simulated, num_stations=1))\n",
    "\n",
    "# The time to peak for the observed data for the same station looks like:-\n",
    "print(metrics.time_to_centre_of_mass(df=observed, num_stations=1))"
   ]
  },
  {
   "cell_type": "markdown",
   "id": "74c76437-7fa0-44ea-b14a-761169021b38",
   "metadata": {},
   "source": [
    "##### Spring Pulse Onset Delay"
   ]
  },
  {
   "cell_type": "code",
   "execution_count": null,
   "id": "ac3ed735-2d5b-4b67-99ea-c97b086bcbd3",
   "metadata": {},
   "outputs": [],
   "source": [
    "# Similarly, the Time to Peak for the simulated data from the first station in the data we were given will look like \n",
    "print(metrics.SpringPulseOnset(df=simulated, num_stations=1))\n",
    "\n",
    "# The time to peak for the observed data for the same station looks like:-\n",
    "print(metrics.SpringPulseOnset(df=observed, num_stations=1))"
   ]
  },
  {
   "cell_type": "markdown",
   "id": "b4a5a056-06bd-48cd-aaef-1fc2e9a9d74e",
   "metadata": {},
   "source": [
    "#### Multiple metrics"
   ]
  },
  {
   "cell_type": "code",
   "execution_count": null,
   "id": "97a45d1a-f68a-4054-ac33-b292f8a88b2f",
   "metadata": {},
   "outputs": [],
   "source": [
    "# You are also able to calculate possible available metrics \n",
    "for key, value in metrics.calculate_all_metrics(observed=observed, simulated=simulated, num_stations=2).items():\n",
    "    print(f\"{key}: {value}\")"
   ]
  },
  {
   "cell_type": "markdown",
   "id": "25b9fcbb-8b15-4cfe-91d3-d7162f687a0d",
   "metadata": {},
   "source": [
    "Note: There till be an option to have this returned in a text file for easy observation in the coming days"
   ]
  },
  {
   "cell_type": "code",
   "execution_count": null,
   "id": "17a78000-a835-4c5e-805c-7cb6be5dad0b",
   "metadata": {},
   "outputs": [],
   "source": [
    "# Naturally, you are also able to calculate a few metrics at a time but putting then in a list and passing them into the function\n",
    "# as shown below\n",
    "metrices = [\"MSE\", \"RMSE\", \"MAE\", \"NSE\", \"NegNSE\", \"LogNSE\"]\n",
    "for key, value in metrics.calculate_metrics(observed=observed, simulated=simulated, num_stations=1, metrices=metrices).items():\n",
    "    print(f\"{key}: {value}\")"
   ]
  },
  {
   "cell_type": "markdown",
   "id": "32179ebc-cf81-4081-ba4c-75c95464f11e",
   "metadata": {},
   "source": [
    "### Visualizations"
   ]
  },
  {
   "cell_type": "markdown",
   "id": "792c39d0-1fd3-4235-97da-e1ab6fd3e5eb",
   "metadata": {},
   "source": [
    "<mark>Note: The visualization modules are not yet at a point where it can be put into public use.<mark/>"
   ]
  },
  {
   "cell_type": "code",
   "execution_count": null,
   "id": "1951be90-62d5-461c-a946-4ef60573d9d0",
   "metadata": {},
   "outputs": [],
   "source": []
  }
 ],
 "metadata": {
  "kernelspec": {
   "display_name": "Python 3 (ipykernel)",
   "language": "python",
   "name": "python3"
  },
  "language_info": {
   "codemirror_mode": {
    "name": "ipython",
    "version": 3
   },
   "file_extension": ".py",
   "mimetype": "text/x-python",
   "name": "python",
   "nbconvert_exporter": "python",
   "pygments_lexer": "ipython3",
   "version": "3.11.7"
  },
  "widgets": {
   "application/vnd.jupyter.widget-state+json": {
    "state": {
     "01fd6d9c6cad401abe54f3aa28aad6b7": {
      "model_module": "@jupyter-widgets/base",
      "model_module_version": "2.0.0",
      "model_name": "LayoutModel",
      "state": {}
     },
     "05beb67dcf94427899bde7e8cd786482": {
      "model_module": "@jupyter-widgets/controls",
      "model_module_version": "2.0.0",
      "model_name": "ComboboxModel",
      "state": {
       "description": "Combobox:",
       "ensure_option": true,
       "layout": "IPY_MODEL_0e95ac20d46647a481e17ae48810ee21",
       "options": [
        "Paul",
        "John",
        "George",
        "Ringo"
       ],
       "placeholder": "Choose Someone",
       "style": "IPY_MODEL_5ff57f9503ec4a9db51716f4ff48f31f"
      }
     },
     "0c65255fb21b41ee9b87be112bf93f95": {
      "model_module": "@jupyter-widgets/base",
      "model_module_version": "2.0.0",
      "model_name": "LayoutModel",
      "state": {}
     },
     "0e95ac20d46647a481e17ae48810ee21": {
      "model_module": "@jupyter-widgets/base",
      "model_module_version": "2.0.0",
      "model_name": "LayoutModel",
      "state": {}
     },
     "29643db66ea44e839a1ed82687118610": {
      "model_module": "@jupyter-widgets/output",
      "model_module_version": "1.0.0",
      "model_name": "OutputModel",
      "state": {
       "layout": "IPY_MODEL_ce4b703e32a04f819265d8100efde752",
       "outputs": [
        {
         "name": "stdout",
         "output_type": "stream",
         "text": "\n\n\n"
        }
       ]
      }
     },
     "2ba9dc412dda427ab4a6d314a8652348": {
      "model_module": "@jupyter-widgets/base",
      "model_module_version": "2.0.0",
      "model_name": "LayoutModel",
      "state": {}
     },
     "399beafc12a64a8193001ae5ec7ef941": {
      "model_module": "@jupyter-widgets/controls",
      "model_module_version": "2.0.0",
      "model_name": "VBoxModel",
      "state": {
       "_dom_classes": [
        "widget-interact"
       ],
       "children": [
        "IPY_MODEL_5369e4452e9247b295da925c94f75ffc",
        "IPY_MODEL_8d14ed96a2d84d89bba4a944967e6d45",
        "IPY_MODEL_cc0c8a9379744255b3a3e6d7497e7b3e",
        "IPY_MODEL_8ae6159752864a8680dc8ed8ed1eee2b"
       ],
       "layout": "IPY_MODEL_aa256992f7694954b920f8dcd7126909"
      }
     },
     "4ba5e97ea94b4f2a83d2fbcfc34120b6": {
      "model_module": "@jupyter-widgets/base",
      "model_module_version": "2.0.0",
      "model_name": "LayoutModel",
      "state": {}
     },
     "4d4d020a62914c93985c494be6739fc6": {
      "model_module": "@jupyter-widgets/controls",
      "model_module_version": "2.0.0",
      "model_name": "ComboboxModel",
      "state": {
       "description": "Combobox:",
       "ensure_option": true,
       "layout": "IPY_MODEL_4ba5e97ea94b4f2a83d2fbcfc34120b6",
       "options": [
        "Paul",
        "John",
        "George",
        "Ringo"
       ],
       "placeholder": "Choose Someone",
       "style": "IPY_MODEL_ff8e76ecc6ad4b9f908ec8036c7149b2"
      }
     },
     "5369e4452e9247b295da925c94f75ffc": {
      "model_module": "@jupyter-widgets/controls",
      "model_module_version": "2.0.0",
      "model_name": "ToggleButtonsModel",
      "state": {
       "_options_labels": [
        "Not Included",
        "Included",
        "Favorite"
       ],
       "button_style": "",
       "description": "choice1",
       "icons": [],
       "index": 0,
       "layout": "IPY_MODEL_2ba9dc412dda427ab4a6d314a8652348",
       "style": "IPY_MODEL_cb20186aca564d7faeaf6cbcee45ce0d",
       "tooltips": []
      }
     },
     "58aacec898fa4098a9db90d7fc0bef74": {
      "model_module": "@jupyter-widgets/controls",
      "model_module_version": "2.0.0",
      "model_name": "TextStyleModel",
      "state": {
       "description_width": "",
       "font_size": null,
       "text_color": null
      }
     },
     "5d476058d03540bd83aed85989607be3": {
      "model_module": "@jupyter-widgets/controls",
      "model_module_version": "2.0.0",
      "model_name": "DescriptionStyleModel",
      "state": {
       "description_width": ""
      }
     },
     "5ff57f9503ec4a9db51716f4ff48f31f": {
      "model_module": "@jupyter-widgets/controls",
      "model_module_version": "2.0.0",
      "model_name": "TextStyleModel",
      "state": {
       "description_width": "",
       "font_size": null,
       "text_color": null
      }
     },
     "70fad96799aa4ca0a8ba72ff08c2f64a": {
      "model_module": "@jupyter-widgets/controls",
      "model_module_version": "2.0.0",
      "model_name": "ComboboxModel",
      "state": {
       "description": "choice2",
       "ensure_option": true,
       "layout": "IPY_MODEL_0c65255fb21b41ee9b87be112bf93f95",
       "options": [
        "Not Included",
        "Included",
        "Favorite"
       ],
       "placeholder": "Choose Someone",
       "style": "IPY_MODEL_8b3cef81d1d744d98cbb8d157160743a"
      }
     },
     "76be316692b441b9aaeb77ffc28633ba": {
      "model_module": "@jupyter-widgets/base",
      "model_module_version": "2.0.0",
      "model_name": "LayoutModel",
      "state": {}
     },
     "7989b76e4fbe4735afba0094fe29966e": {
      "model_module": "@jupyter-widgets/base",
      "model_module_version": "2.0.0",
      "model_name": "LayoutModel",
      "state": {}
     },
     "7b84300fae1242079118ccee1f5c6cdc": {
      "model_module": "@jupyter-widgets/base",
      "model_module_version": "2.0.0",
      "model_name": "LayoutModel",
      "state": {}
     },
     "8ae6159752864a8680dc8ed8ed1eee2b": {
      "model_module": "@jupyter-widgets/output",
      "model_module_version": "1.0.0",
      "model_name": "OutputModel",
      "state": {
       "layout": "IPY_MODEL_76be316692b441b9aaeb77ffc28633ba",
       "outputs": [
        {
         "name": "stdout",
         "output_type": "stream",
         "text": "Not Included\nNot Included\nNot Included\n"
        }
       ]
      }
     },
     "8b3cef81d1d744d98cbb8d157160743a": {
      "model_module": "@jupyter-widgets/controls",
      "model_module_version": "2.0.0",
      "model_name": "TextStyleModel",
      "state": {
       "description_width": "",
       "font_size": null,
       "text_color": null
      }
     },
     "8d14ed96a2d84d89bba4a944967e6d45": {
      "model_module": "@jupyter-widgets/controls",
      "model_module_version": "2.0.0",
      "model_name": "ToggleButtonsModel",
      "state": {
       "_options_labels": [
        "Not Included",
        "Included",
        "Favorite"
       ],
       "button_style": "",
       "description": "choice2",
       "icons": [],
       "index": 0,
       "layout": "IPY_MODEL_7b84300fae1242079118ccee1f5c6cdc",
       "style": "IPY_MODEL_dfcb158c677d41d0bcf217f2540a9208",
       "tooltips": []
      }
     },
     "8eb7a8148be7403b87817d0056bab5d5": {
      "model_module": "@jupyter-widgets/controls",
      "model_module_version": "2.0.0",
      "model_name": "ComboboxModel",
      "state": {
       "description": "choice1",
       "ensure_option": true,
       "layout": "IPY_MODEL_01fd6d9c6cad401abe54f3aa28aad6b7",
       "options": [
        "Not Included",
        "Included",
        "Favorite"
       ],
       "placeholder": "Choose Someone",
       "style": "IPY_MODEL_58aacec898fa4098a9db90d7fc0bef74"
      }
     },
     "a13fedeaba944bf0bf0b481bf2182d3a": {
      "model_module": "@jupyter-widgets/base",
      "model_module_version": "2.0.0",
      "model_name": "LayoutModel",
      "state": {}
     },
     "aa256992f7694954b920f8dcd7126909": {
      "model_module": "@jupyter-widgets/base",
      "model_module_version": "2.0.0",
      "model_name": "LayoutModel",
      "state": {}
     },
     "ab789ad39e9f44cb97863f71defe0ba6": {
      "model_module": "@jupyter-widgets/base",
      "model_module_version": "2.0.0",
      "model_name": "LayoutModel",
      "state": {}
     },
     "b7c18009d2ad4627b4d2b64a09dd85e7": {
      "model_module": "@jupyter-widgets/controls",
      "model_module_version": "2.0.0",
      "model_name": "RadioButtonsModel",
      "state": {
       "_options_labels": [
        "QOMEAS_05BB001",
        "QOMEAS_05BA001"
       ],
       "description": "Stations:",
       "index": 0,
       "layout": "IPY_MODEL_ab789ad39e9f44cb97863f71defe0ba6",
       "style": "IPY_MODEL_5d476058d03540bd83aed85989607be3"
      }
     },
     "c81051665ae04a00855666edee3a2547": {
      "model_module": "@jupyter-widgets/controls",
      "model_module_version": "2.0.0",
      "model_name": "DropdownModel",
      "state": {
       "_options_labels": [
        "QOMEAS_05BB001",
        "QOMEAS_05BA001"
       ],
       "description": "Station:",
       "index": 0,
       "layout": "IPY_MODEL_a13fedeaba944bf0bf0b481bf2182d3a",
       "style": "IPY_MODEL_cc673e0984ec450f8cf6548bdc98f7d6"
      }
     },
     "cb20186aca564d7faeaf6cbcee45ce0d": {
      "model_module": "@jupyter-widgets/controls",
      "model_module_version": "2.0.0",
      "model_name": "ToggleButtonsStyleModel",
      "state": {
       "button_width": "",
       "description_width": "300px"
      }
     },
     "cb63420e07ea43a3b83642d668076c5e": {
      "model_module": "@jupyter-widgets/controls",
      "model_module_version": "2.0.0",
      "model_name": "TextStyleModel",
      "state": {
       "description_width": "",
       "font_size": null,
       "text_color": null
      }
     },
     "cc0c8a9379744255b3a3e6d7497e7b3e": {
      "model_module": "@jupyter-widgets/controls",
      "model_module_version": "2.0.0",
      "model_name": "ToggleButtonsModel",
      "state": {
       "_options_labels": [
        "Not Included",
        "Included",
        "Favorite"
       ],
       "button_style": "",
       "description": "choice3",
       "icons": [],
       "index": 0,
       "layout": "IPY_MODEL_7989b76e4fbe4735afba0094fe29966e",
       "style": "IPY_MODEL_cf6b5af89d3541ba91d7f05b4c247418",
       "tooltips": []
      }
     },
     "cc673e0984ec450f8cf6548bdc98f7d6": {
      "model_module": "@jupyter-widgets/controls",
      "model_module_version": "2.0.0",
      "model_name": "DescriptionStyleModel",
      "state": {
       "description_width": ""
      }
     },
     "ce4b703e32a04f819265d8100efde752": {
      "model_module": "@jupyter-widgets/base",
      "model_module_version": "2.0.0",
      "model_name": "LayoutModel",
      "state": {}
     },
     "cf6b5af89d3541ba91d7f05b4c247418": {
      "model_module": "@jupyter-widgets/controls",
      "model_module_version": "2.0.0",
      "model_name": "ToggleButtonsStyleModel",
      "state": {
       "button_width": "",
       "description_width": "300px"
      }
     },
     "d00815ddbe2c4d26916edb8fdc5fae90": {
      "model_module": "@jupyter-widgets/controls",
      "model_module_version": "2.0.0",
      "model_name": "VBoxModel",
      "state": {
       "_dom_classes": [
        "widget-interact"
       ],
       "children": [
        "IPY_MODEL_8eb7a8148be7403b87817d0056bab5d5",
        "IPY_MODEL_70fad96799aa4ca0a8ba72ff08c2f64a",
        "IPY_MODEL_faf461f7e24b454fa2d70e011823d890",
        "IPY_MODEL_29643db66ea44e839a1ed82687118610"
       ],
       "layout": "IPY_MODEL_f9ed9c2dc0df4a42a5de8428cf7dedf6"
      }
     },
     "d27555baee154d87a3711d1f5f27a5ff": {
      "model_module": "@jupyter-widgets/base",
      "model_module_version": "2.0.0",
      "model_name": "LayoutModel",
      "state": {}
     },
     "dfcb158c677d41d0bcf217f2540a9208": {
      "model_module": "@jupyter-widgets/controls",
      "model_module_version": "2.0.0",
      "model_name": "ToggleButtonsStyleModel",
      "state": {
       "button_width": "",
       "description_width": "300px"
      }
     },
     "f9ed9c2dc0df4a42a5de8428cf7dedf6": {
      "model_module": "@jupyter-widgets/base",
      "model_module_version": "2.0.0",
      "model_name": "LayoutModel",
      "state": {}
     },
     "faf461f7e24b454fa2d70e011823d890": {
      "model_module": "@jupyter-widgets/controls",
      "model_module_version": "2.0.0",
      "model_name": "ComboboxModel",
      "state": {
       "description": "choice3",
       "ensure_option": true,
       "layout": "IPY_MODEL_d27555baee154d87a3711d1f5f27a5ff",
       "options": [
        "Not Included",
        "Included",
        "Favorite"
       ],
       "placeholder": "Choose Someone",
       "style": "IPY_MODEL_cb63420e07ea43a3b83642d668076c5e"
      }
     },
     "ff8e76ecc6ad4b9f908ec8036c7149b2": {
      "model_module": "@jupyter-widgets/controls",
      "model_module_version": "2.0.0",
      "model_name": "TextStyleModel",
      "state": {
       "description_width": "",
       "font_size": null,
       "text_color": null
      }
     }
    },
    "version_major": 2,
    "version_minor": 0
   }
  }
 },
 "nbformat": 4,
 "nbformat_minor": 5
}
