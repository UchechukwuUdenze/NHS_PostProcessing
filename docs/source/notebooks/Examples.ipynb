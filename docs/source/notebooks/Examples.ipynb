{
 "cells": [
  {
   "cell_type": "markdown",
   "id": "59b665b0-bb3d-4d0e-a068-41fcf8d86767",
   "metadata": {},
   "source": [
    "## NHS Post processing Library"
   ]
  },
  {
   "cell_type": "markdown",
   "id": "96e227fe-f756-4348-94eb-f6f0e9415c0c",
   "metadata": {},
   "source": [
    "This notebook provides examples on how to carry out data evaluation, visualization and analysis using the post_processing python library. Be sure to go through the [Quick Start](https://nhs-postprocessing.readthedocs.io/en/latest/QuickStart.html) section of the [documentation](https://nhs-postprocessing.readthedocs.io/en/latest/index.html) for instructions on how to access and import the libary and its packages."
   ]
  },
  {
   "cell_type": "markdown",
   "id": "cb625051-179d-4dbc-99be-9330195a6a3d",
   "metadata": {},
   "source": [
    "##### Note: \n",
    "The Library is still under active development and empty sections will be completed in Due time"
   ]
  },
  {
   "cell_type": "markdown",
   "id": "97d26aea-9801-4e45-bd16-fa798d7653fe",
   "metadata": {},
   "source": [
    "### Table of content\n",
    "- Requirements\n",
    "- Data Manipulation(generating and obtaining the Dataframes required)\n",
    "- Analysis\n",
    "- Visualizations\n"
   ]
  },
  {
   "cell_type": "markdown",
   "id": "67be96ac",
   "metadata": {},
   "source": [
    "##### All files are available in the docs/source/notebooks folder where the notebook is located"
   ]
  },
  {
   "cell_type": "markdown",
   "id": "d461430d-90a0-49c4-9f00-d63b3be689ed",
   "metadata": {},
   "source": [
    "### Requirements\n",
    "\n",
    "The conda environmnent contains all libraries associated the post processing library. After setting up the conda environment, you only have to import the metrics and visualization modules from postprocessinglib.evaluation"
   ]
  },
  {
   "cell_type": "code",
   "execution_count": 1,
   "id": "3a8a04fa-76e9-4087-abdd-43624d882750",
   "metadata": {},
   "outputs": [],
   "source": [
    "### Remove and modify these later.\n",
    "import sys\n",
    "import pandas as pd\n",
    "sys.path.append(\"../../../\")"
   ]
  },
  {
   "cell_type": "code",
   "execution_count": 2,
   "id": "e5e8f878",
   "metadata": {},
   "outputs": [],
   "source": [
    "from postprocessinglib.evaluation import data, metrics, visuals\n",
    "# from postprocessinglib.utilities import helper_functions as hlp"
   ]
  },
  {
   "cell_type": "markdown",
   "id": "1ceff7d7-826a-408e-8ca1-0c7b2825ab45",
   "metadata": {},
   "source": [
    "From this point on, the function you use will depend on which project you are working on and what sort of data i.e., the datatype of the data, you have."
   ]
  },
  {
   "cell_type": "markdown",
   "id": "13fa3771",
   "metadata": {},
   "source": [
    "### DATA MANIPULATION"
   ]
  },
  {
   "cell_type": "markdown",
   "id": "ad7da2ff-5f95-4854-8762-cb507aa9688b",
   "metadata": {},
   "source": [
    "### MESH CSV files"
   ]
  },
  {
   "cell_type": "markdown",
   "id": "45d6a99e-d83b-4ce0-8250-33ae2f3962e9",
   "metadata": {},
   "source": [
    "Assuming you have a csv file containing an csv file with observed and simulated values for a list of stations of the form:\n",
    "| Some datetime  | station1_obs | station1_sim | station2_obs | station2_sim |\n",
    "| -------------- | ------------ | ------------ | ------------ | ------------ | \n",
    "\n",
    "We simply pass it into our generate dataframes function as shown below:\n"
   ]
  },
  {
   "cell_type": "code",
   "execution_count": 3,
   "id": "65104fc1",
   "metadata": {},
   "outputs": [
    {
     "name": "stdout",
     "output_type": "stream",
     "text": [
      "All Observed rows are consistent across DataFrames.\n",
      "DF_1\n",
      "DF_OBSERVED\n",
      "DF_SIMULATED_1\n",
      "DF_MERGED\n",
      "DF_1:\n",
      "            QOMEAS_05AA024  QOSIM_05AA024  QOMEAS_05AB046  QOSIM_05AB046  \\\n",
      "1982-10-02           15.00      12.727950             NaN       2.151088   \n",
      "1982-10-03           14.80      12.070300             NaN       1.282258   \n",
      "1982-10-04           15.20      11.928440             NaN       0.864993   \n",
      "1982-10-05           15.00      11.873910             NaN       0.662052   \n",
      "1982-10-06           14.10      11.845160             NaN       0.560041   \n",
      "...                    ...            ...             ...            ...   \n",
      "2016-12-27            8.62       0.626161             NaN       0.426263   \n",
      "2016-12-28            8.64       0.619734             NaN       0.425050   \n",
      "2016-12-29            8.63       0.612944             NaN       0.423842   \n",
      "2016-12-30            8.64       0.606437             NaN       0.422638   \n",
      "2016-12-31            8.61       0.599758             NaN       0.421438   \n",
      "\n",
      "            QOMEAS_05AC003  QOSIM_05AC003  QOMEAS_05AD007  QOSIM_05AD007  \\\n",
      "1982-10-02           1.840       1.452520            37.6      41.470610   \n",
      "1982-10-03           1.840       1.230331            39.6      28.868720   \n",
      "1982-10-04           1.690       1.087916            38.7      23.806940   \n",
      "1982-10-05           1.580       0.993243            37.6      21.888450   \n",
      "1982-10-06           1.430       0.918875            29.8      21.085320   \n",
      "...                    ...            ...             ...            ...   \n",
      "2016-12-27           0.966       0.341739            20.7       6.993578   \n",
      "2016-12-28           1.010       0.339073            22.0       6.978570   \n",
      "2016-12-29           1.030       0.336443            24.5       6.963836   \n",
      "2016-12-30           1.030       0.333846            25.5       6.949335   \n",
      "2016-12-31           1.010       0.331275            25.1       6.935077   \n",
      "\n",
      "            QOMEAS_05AE006  QOSIM_05AE006  ...  QOMEAS_05KB003  QOSIM_05KB003  \\\n",
      "1982-10-02           10.70       7.882280  ...           0.032       0.292633   \n",
      "1982-10-03           11.80       7.821773  ...           0.038       0.331423   \n",
      "1982-10-04           11.30       7.813555  ...           0.047       0.408661   \n",
      "1982-10-05            8.40       7.810593  ...           0.040       0.496929   \n",
      "1982-10-06            3.12       7.807860  ...           0.035       0.571135   \n",
      "...                    ...            ...  ...             ...            ...   \n",
      "2016-12-27            9.80       2.704071  ...             NaN       1.966892   \n",
      "2016-12-28            9.88       2.704070  ...             NaN       1.962993   \n",
      "2016-12-29            9.89       2.704069  ...             NaN       1.959016   \n",
      "2016-12-30            9.86       2.704068  ...             NaN       1.954979   \n",
      "2016-12-31            9.82       2.704067  ...             NaN       1.950883   \n",
      "\n",
      "            QOMEAS_05KC001  QOSIM_05KC001  QOMEAS_05KD003  QOSIM_05KD003  \\\n",
      "1982-10-02            1.29       4.522949           359.0       378.7940   \n",
      "1982-10-03            1.16       4.225453           209.0       375.5247   \n",
      "1982-10-04            1.36       4.403022           316.0       372.8839   \n",
      "1982-10-05            1.57       4.743589           351.0       371.0161   \n",
      "1982-10-06            1.66       3.613402           319.0       372.7308   \n",
      "...                    ...            ...             ...            ...   \n",
      "2016-12-27             NaN      10.546220           301.0       347.1989   \n",
      "2016-12-28             NaN      10.569290           424.0       346.5004   \n",
      "2016-12-29             NaN      10.587600           450.0       346.5625   \n",
      "2016-12-30             NaN      10.602230           413.0       345.2052   \n",
      "2016-12-31             NaN      10.613740           415.0       344.2019   \n",
      "\n",
      "            QOMEAS_05KE002  QOSIM_05KE002  QOMEAS_05KJ001  QOSIM_05KJ001  \n",
      "1982-10-02            5.49       3.542509           345.0       471.4854  \n",
      "1982-10-03            6.50       4.084993           354.0       458.5116  \n",
      "1982-10-04            7.69       6.119847           416.0       441.2670  \n",
      "1982-10-05            9.33      10.667590           422.0       430.9001  \n",
      "1982-10-06           10.50      13.339480           382.0       425.5986  \n",
      "...                    ...            ...             ...            ...  \n",
      "2016-12-27             NaN       0.788829           646.0       374.4542  \n",
      "2016-12-28             NaN       0.786149           628.0       373.7992  \n",
      "2016-12-29             NaN       0.783223           615.0       373.6897  \n",
      "2016-12-30             NaN       0.780030           603.0       373.3807  \n",
      "2016-12-31             NaN       0.776684           597.0       372.4619  \n",
      "\n",
      "[12510 rows x 108 columns]\n",
      "DF_OBSERVED:\n",
      "            QOMEAS_05AA024  QOMEAS_05AB046  QOMEAS_05AC003  QOMEAS_05AD007  \\\n",
      "1982-10-02           15.00             NaN           1.840            37.6   \n",
      "1982-10-03           14.80             NaN           1.840            39.6   \n",
      "1982-10-04           15.20             NaN           1.690            38.7   \n",
      "1982-10-05           15.00             NaN           1.580            37.6   \n",
      "1982-10-06           14.10             NaN           1.430            29.8   \n",
      "...                    ...             ...             ...             ...   \n",
      "2016-12-27            8.62             NaN           0.966            20.7   \n",
      "2016-12-28            8.64             NaN           1.010            22.0   \n",
      "2016-12-29            8.63             NaN           1.030            24.5   \n",
      "2016-12-30            8.64             NaN           1.030            25.5   \n",
      "2016-12-31            8.61             NaN           1.010            25.1   \n",
      "\n",
      "            QOMEAS_05AE006  QOMEAS_05AG006  QOMEAS_05AH005  QOMEAS_05AJ001  \\\n",
      "1982-10-02           10.70            31.2            1.75            85.4   \n",
      "1982-10-03           11.80            39.7            1.76            65.8   \n",
      "1982-10-04           11.30            41.9            1.65            60.9   \n",
      "1982-10-05            8.40            42.2            1.49            56.9   \n",
      "1982-10-06            3.12            42.4            1.44            59.2   \n",
      "...                    ...             ...             ...             ...   \n",
      "2016-12-27            9.80            21.7             NaN            82.6   \n",
      "2016-12-28            9.88            22.6             NaN            85.5   \n",
      "2016-12-29            9.89            24.3             NaN            86.4   \n",
      "2016-12-30            9.86            25.7             NaN            85.6   \n",
      "2016-12-31            9.82            25.8             NaN            83.5   \n",
      "\n",
      "            QOMEAS_05BA001  QOMEAS_05BB001  ...  QOMEAS_05GF002  \\\n",
      "1982-10-02            7.91            31.5  ...           0.890   \n",
      "1982-10-03            7.88            31.6  ...           0.873   \n",
      "1982-10-04            7.35            30.8  ...           1.010   \n",
      "1982-10-05            6.87            29.5  ...           0.918   \n",
      "1982-10-06            6.51            28.6  ...           0.943   \n",
      "...                    ...             ...  ...             ...   \n",
      "2016-12-27             NaN            11.7  ...             NaN   \n",
      "2016-12-28             NaN            12.2  ...             NaN   \n",
      "2016-12-29             NaN            11.8  ...             NaN   \n",
      "2016-12-30             NaN            11.5  ...             NaN   \n",
      "2016-12-31             NaN            11.2  ...             NaN   \n",
      "\n",
      "            QOMEAS_05GG001  QOMEAS_05HD039  QOMEAS_05HG001  QOMEAS_05KA001  \\\n",
      "1982-10-02           210.0            1.48           161.0           0.063   \n",
      "1982-10-03           197.0            1.36           162.0           0.065   \n",
      "1982-10-04           190.0            1.29           154.0           0.085   \n",
      "1982-10-05           180.0            1.31           147.0           0.116   \n",
      "1982-10-06           181.0            1.48           169.0           0.118   \n",
      "...                    ...             ...             ...             ...   \n",
      "2016-12-27           191.0            1.65           294.0             NaN   \n",
      "2016-12-28           197.0            1.67           291.0             NaN   \n",
      "2016-12-29           197.0            1.70           290.0             NaN   \n",
      "2016-12-30           189.0            1.70           291.0             NaN   \n",
      "2016-12-31           181.0            1.71           296.0             NaN   \n",
      "\n",
      "            QOMEAS_05KB003  QOMEAS_05KC001  QOMEAS_05KD003  QOMEAS_05KE002  \\\n",
      "1982-10-02           0.032            1.29           359.0            5.49   \n",
      "1982-10-03           0.038            1.16           209.0            6.50   \n",
      "1982-10-04           0.047            1.36           316.0            7.69   \n",
      "1982-10-05           0.040            1.57           351.0            9.33   \n",
      "1982-10-06           0.035            1.66           319.0           10.50   \n",
      "...                    ...             ...             ...             ...   \n",
      "2016-12-27             NaN             NaN           301.0             NaN   \n",
      "2016-12-28             NaN             NaN           424.0             NaN   \n",
      "2016-12-29             NaN             NaN           450.0             NaN   \n",
      "2016-12-30             NaN             NaN           413.0             NaN   \n",
      "2016-12-31             NaN             NaN           415.0             NaN   \n",
      "\n",
      "            QOMEAS_05KJ001  \n",
      "1982-10-02           345.0  \n",
      "1982-10-03           354.0  \n",
      "1982-10-04           416.0  \n",
      "1982-10-05           422.0  \n",
      "1982-10-06           382.0  \n",
      "...                    ...  \n",
      "2016-12-27           646.0  \n",
      "2016-12-28           628.0  \n",
      "2016-12-29           615.0  \n",
      "2016-12-30           603.0  \n",
      "2016-12-31           597.0  \n",
      "\n",
      "[12510 rows x 54 columns]\n",
      "DF_SIMULATED_1:\n",
      "            QOSIM_05AA024  QOSIM_05AB046  QOSIM_05AC003  QOSIM_05AD007  \\\n",
      "1982-10-02      12.727950       2.151088       1.452520      41.470610   \n",
      "1982-10-03      12.070300       1.282258       1.230331      28.868720   \n",
      "1982-10-04      11.928440       0.864993       1.087916      23.806940   \n",
      "1982-10-05      11.873910       0.662052       0.993243      21.888450   \n",
      "1982-10-06      11.845160       0.560041       0.918875      21.085320   \n",
      "...                   ...            ...            ...            ...   \n",
      "2016-12-27       0.626161       0.426263       0.341739       6.993578   \n",
      "2016-12-28       0.619734       0.425050       0.339073       6.978570   \n",
      "2016-12-29       0.612944       0.423842       0.336443       6.963836   \n",
      "2016-12-30       0.606437       0.422638       0.333846       6.949335   \n",
      "2016-12-31       0.599758       0.421438       0.331275       6.935077   \n",
      "\n",
      "            QOSIM_05AE006  QOSIM_05AG006  QOSIM_05AH005  QOSIM_05AJ001  \\\n",
      "1982-10-02       7.882280      82.633610       0.586384      221.63040   \n",
      "1982-10-03       7.821773      72.782590       0.457176      194.35790   \n",
      "1982-10-04       7.813555      58.236480       0.354255      169.19080   \n",
      "1982-10-05       7.810593      45.029110       0.267057      140.63650   \n",
      "1982-10-06       7.807860      35.632970       0.202217      114.57850   \n",
      "...                   ...            ...            ...            ...   \n",
      "2016-12-27       2.704071       7.146379       0.021221       27.92496   \n",
      "2016-12-28       2.704070       7.128211       0.019380       27.29509   \n",
      "2016-12-29       2.704069       7.110573       0.017837       26.89507   \n",
      "2016-12-30       2.704068       7.093432       0.016536       26.61276   \n",
      "2016-12-31       2.704067       7.076759       0.015432       26.38714   \n",
      "\n",
      "            QOSIM_05BA001  QOSIM_05BB001  ...  QOSIM_05GF002  QOSIM_05GG001  \\\n",
      "1982-10-02       2.287444       9.522259  ...       0.118124       138.8791   \n",
      "1982-10-03       2.312526      10.002810  ...       0.146382       136.5933   \n",
      "1982-10-04       2.064803       9.619368  ...       0.187640       134.8002   \n",
      "1982-10-05       1.884399       8.541642  ...       0.223217       133.0535   \n",
      "1982-10-06       1.751974       7.669628  ...       0.556881       131.3290   \n",
      "...                   ...            ...  ...            ...            ...   \n",
      "2016-12-27       0.378100       2.201314  ...       0.197280       110.2660   \n",
      "2016-12-28       0.373522       2.172311  ...       0.195952       110.0245   \n",
      "2016-12-29       0.369035       2.143977  ...       0.194724       109.7813   \n",
      "2016-12-30       0.364645       2.111674  ...       0.193582       109.5422   \n",
      "2016-12-31       0.360348       2.080352  ...       0.192511       109.3090   \n",
      "\n",
      "            QOSIM_05HD039  QOSIM_05HG001  QOSIM_05KA001  QOSIM_05KB003  \\\n",
      "1982-10-02       0.004145       211.1882       0.043692       0.292633   \n",
      "1982-10-03       0.101997       221.3527       0.069693       0.331423   \n",
      "1982-10-04       0.120259       231.0193       0.231897       0.408661   \n",
      "1982-10-05       0.106829       231.2442       0.514727       0.496929   \n",
      "1982-10-06       0.302513       228.5721       0.485923       0.571135   \n",
      "...                   ...            ...            ...            ...   \n",
      "2016-12-27       0.113367       223.7898       0.157078       1.966892   \n",
      "2016-12-28       0.105351       223.8707       0.155982       1.962993   \n",
      "2016-12-29       0.097989       223.1373       0.154899       1.959016   \n",
      "2016-12-30       0.091243       223.2267       0.153827       1.954979   \n",
      "2016-12-31       0.085089       223.6875       0.152767       1.950883   \n",
      "\n",
      "            QOSIM_05KC001  QOSIM_05KD003  QOSIM_05KE002  QOSIM_05KJ001  \n",
      "1982-10-02       4.522949       378.7940       3.542509       471.4854  \n",
      "1982-10-03       4.225453       375.5247       4.084993       458.5116  \n",
      "1982-10-04       4.403022       372.8839       6.119847       441.2670  \n",
      "1982-10-05       4.743589       371.0161      10.667590       430.9001  \n",
      "1982-10-06       3.613402       372.7308      13.339480       425.5986  \n",
      "...                   ...            ...            ...            ...  \n",
      "2016-12-27      10.546220       347.1989       0.788829       374.4542  \n",
      "2016-12-28      10.569290       346.5004       0.786149       373.7992  \n",
      "2016-12-29      10.587600       346.5625       0.783223       373.6897  \n",
      "2016-12-30      10.602230       345.2052       0.780030       373.3807  \n",
      "2016-12-31      10.613740       344.2019       0.776684       372.4619  \n",
      "\n",
      "[12510 rows x 54 columns]\n",
      "DF_MERGED:\n",
      "            QOMEAS_05AA024  QOSIM_05AA024  QOMEAS_05AB046  QOSIM_05AB046  \\\n",
      "1982-10-02           15.00      12.727950             NaN       2.151088   \n",
      "1982-10-03           14.80      12.070300             NaN       1.282258   \n",
      "1982-10-04           15.20      11.928440             NaN       0.864993   \n",
      "1982-10-05           15.00      11.873910             NaN       0.662052   \n",
      "1982-10-06           14.10      11.845160             NaN       0.560041   \n",
      "...                    ...            ...             ...            ...   \n",
      "2016-12-27            8.62       0.626161             NaN       0.426263   \n",
      "2016-12-28            8.64       0.619734             NaN       0.425050   \n",
      "2016-12-29            8.63       0.612944             NaN       0.423842   \n",
      "2016-12-30            8.64       0.606437             NaN       0.422638   \n",
      "2016-12-31            8.61       0.599758             NaN       0.421438   \n",
      "\n",
      "            QOMEAS_05AC003  QOSIM_05AC003  QOMEAS_05AD007  QOSIM_05AD007  \\\n",
      "1982-10-02           1.840       1.452520            37.6      41.470610   \n",
      "1982-10-03           1.840       1.230331            39.6      28.868720   \n",
      "1982-10-04           1.690       1.087916            38.7      23.806940   \n",
      "1982-10-05           1.580       0.993243            37.6      21.888450   \n",
      "1982-10-06           1.430       0.918875            29.8      21.085320   \n",
      "...                    ...            ...             ...            ...   \n",
      "2016-12-27           0.966       0.341739            20.7       6.993578   \n",
      "2016-12-28           1.010       0.339073            22.0       6.978570   \n",
      "2016-12-29           1.030       0.336443            24.5       6.963836   \n",
      "2016-12-30           1.030       0.333846            25.5       6.949335   \n",
      "2016-12-31           1.010       0.331275            25.1       6.935077   \n",
      "\n",
      "            QOMEAS_05AE006  QOSIM_05AE006  ...  QOSIM_05GF002  QOSIM_05GG001  \\\n",
      "1982-10-02           10.70       7.882280  ...       0.118124       138.8791   \n",
      "1982-10-03           11.80       7.821773  ...       0.146382       136.5933   \n",
      "1982-10-04           11.30       7.813555  ...       0.187640       134.8002   \n",
      "1982-10-05            8.40       7.810593  ...       0.223217       133.0535   \n",
      "1982-10-06            3.12       7.807860  ...       0.556881       131.3290   \n",
      "...                    ...            ...  ...            ...            ...   \n",
      "2016-12-27            9.80       2.704071  ...       0.197280       110.2660   \n",
      "2016-12-28            9.88       2.704070  ...       0.195952       110.0245   \n",
      "2016-12-29            9.89       2.704069  ...       0.194724       109.7813   \n",
      "2016-12-30            9.86       2.704068  ...       0.193582       109.5422   \n",
      "2016-12-31            9.82       2.704067  ...       0.192511       109.3090   \n",
      "\n",
      "            QOSIM_05HD039  QOSIM_05HG001  QOSIM_05KA001  QOSIM_05KB003  \\\n",
      "1982-10-02       0.004145       211.1882       0.043692       0.292633   \n",
      "1982-10-03       0.101997       221.3527       0.069693       0.331423   \n",
      "1982-10-04       0.120259       231.0193       0.231897       0.408661   \n",
      "1982-10-05       0.106829       231.2442       0.514727       0.496929   \n",
      "1982-10-06       0.302513       228.5721       0.485923       0.571135   \n",
      "...                   ...            ...            ...            ...   \n",
      "2016-12-27       0.113367       223.7898       0.157078       1.966892   \n",
      "2016-12-28       0.105351       223.8707       0.155982       1.962993   \n",
      "2016-12-29       0.097989       223.1373       0.154899       1.959016   \n",
      "2016-12-30       0.091243       223.2267       0.153827       1.954979   \n",
      "2016-12-31       0.085089       223.6875       0.152767       1.950883   \n",
      "\n",
      "            QOSIM_05KC001  QOSIM_05KD003  QOSIM_05KE002  QOSIM_05KJ001  \n",
      "1982-10-02       4.522949       378.7940       3.542509       471.4854  \n",
      "1982-10-03       4.225453       375.5247       4.084993       458.5116  \n",
      "1982-10-04       4.403022       372.8839       6.119847       441.2670  \n",
      "1982-10-05       4.743589       371.0161      10.667590       430.9001  \n",
      "1982-10-06       3.613402       372.7308      13.339480       425.5986  \n",
      "...                   ...            ...            ...            ...  \n",
      "2016-12-27      10.546220       347.1989       0.788829       374.4542  \n",
      "2016-12-28      10.569290       346.5004       0.786149       373.7992  \n",
      "2016-12-29      10.587600       346.5625       0.783223       373.6897  \n",
      "2016-12-30      10.602230       345.2052       0.780030       373.3807  \n",
      "2016-12-31      10.613740       344.2019       0.776684       372.4619  \n",
      "\n",
      "[12510 rows x 216 columns]\n"
     ]
    }
   ],
   "source": [
    "# passing a controlled csv file for testing\n",
    "path = \"MESH_output_streamflow_3.csv\"\n",
    "\n",
    "# assuming the simulation model needs 365 days to warm up and account for errors during the learning phase.\n",
    "DATAFRAMES = data.generate_dataframes(csv_fpaths=path, warm_up=365)\n",
    "\n",
    "for key, value in DATAFRAMES.items():\n",
    "    print(f\"{key}\")\n",
    "for key, value in DATAFRAMES.items():\n",
    "    print(f\"{key}:\\n{value}\")"
   ]
  },
  {
   "cell_type": "markdown",
   "id": "75906704-57b6-498e-9248-17be0f9e3b69",
   "metadata": {},
   "source": [
    "In this case, because we dont pass in aggregation parameters, we end up with the three default dataframnes in our dictionary; the merged dataframe, the observed data and the simulated data"
   ]
  },
  {
   "cell_type": "code",
   "execution_count": 4,
   "id": "241edcc1",
   "metadata": {},
   "outputs": [
    {
     "name": "stdout",
     "output_type": "stream",
     "text": [
      "            QOSIM_05AA024  QOSIM_05AB046  QOSIM_05AC003  QOSIM_05AD007  \\\n",
      "1982-10-02      12.727950       2.151088       1.452520      41.470610   \n",
      "1982-10-03      12.070300       1.282258       1.230331      28.868720   \n",
      "1982-10-04      11.928440       0.864993       1.087916      23.806940   \n",
      "1982-10-05      11.873910       0.662052       0.993243      21.888450   \n",
      "1982-10-06      11.845160       0.560041       0.918875      21.085320   \n",
      "...                   ...            ...            ...            ...   \n",
      "2016-12-27       0.626161       0.426263       0.341739       6.993578   \n",
      "2016-12-28       0.619734       0.425050       0.339073       6.978570   \n",
      "2016-12-29       0.612944       0.423842       0.336443       6.963836   \n",
      "2016-12-30       0.606437       0.422638       0.333846       6.949335   \n",
      "2016-12-31       0.599758       0.421438       0.331275       6.935077   \n",
      "\n",
      "            QOSIM_05AE006  QOSIM_05AG006  QOSIM_05AH005  QOSIM_05AJ001  \\\n",
      "1982-10-02       7.882280      82.633610       0.586384      221.63040   \n",
      "1982-10-03       7.821773      72.782590       0.457176      194.35790   \n",
      "1982-10-04       7.813555      58.236480       0.354255      169.19080   \n",
      "1982-10-05       7.810593      45.029110       0.267057      140.63650   \n",
      "1982-10-06       7.807860      35.632970       0.202217      114.57850   \n",
      "...                   ...            ...            ...            ...   \n",
      "2016-12-27       2.704071       7.146379       0.021221       27.92496   \n",
      "2016-12-28       2.704070       7.128211       0.019380       27.29509   \n",
      "2016-12-29       2.704069       7.110573       0.017837       26.89507   \n",
      "2016-12-30       2.704068       7.093432       0.016536       26.61276   \n",
      "2016-12-31       2.704067       7.076759       0.015432       26.38714   \n",
      "\n",
      "            QOSIM_05BA001  QOSIM_05BB001  ...  QOSIM_05GF002  QOSIM_05GG001  \\\n",
      "1982-10-02       2.287444       9.522259  ...       0.118124       138.8791   \n",
      "1982-10-03       2.312526      10.002810  ...       0.146382       136.5933   \n",
      "1982-10-04       2.064803       9.619368  ...       0.187640       134.8002   \n",
      "1982-10-05       1.884399       8.541642  ...       0.223217       133.0535   \n",
      "1982-10-06       1.751974       7.669628  ...       0.556881       131.3290   \n",
      "...                   ...            ...  ...            ...            ...   \n",
      "2016-12-27       0.378100       2.201314  ...       0.197280       110.2660   \n",
      "2016-12-28       0.373522       2.172311  ...       0.195952       110.0245   \n",
      "2016-12-29       0.369035       2.143977  ...       0.194724       109.7813   \n",
      "2016-12-30       0.364645       2.111674  ...       0.193582       109.5422   \n",
      "2016-12-31       0.360348       2.080352  ...       0.192511       109.3090   \n",
      "\n",
      "            QOSIM_05HD039  QOSIM_05HG001  QOSIM_05KA001  QOSIM_05KB003  \\\n",
      "1982-10-02       0.004145       211.1882       0.043692       0.292633   \n",
      "1982-10-03       0.101997       221.3527       0.069693       0.331423   \n",
      "1982-10-04       0.120259       231.0193       0.231897       0.408661   \n",
      "1982-10-05       0.106829       231.2442       0.514727       0.496929   \n",
      "1982-10-06       0.302513       228.5721       0.485923       0.571135   \n",
      "...                   ...            ...            ...            ...   \n",
      "2016-12-27       0.113367       223.7898       0.157078       1.966892   \n",
      "2016-12-28       0.105351       223.8707       0.155982       1.962993   \n",
      "2016-12-29       0.097989       223.1373       0.154899       1.959016   \n",
      "2016-12-30       0.091243       223.2267       0.153827       1.954979   \n",
      "2016-12-31       0.085089       223.6875       0.152767       1.950883   \n",
      "\n",
      "            QOSIM_05KC001  QOSIM_05KD003  QOSIM_05KE002  QOSIM_05KJ001  \n",
      "1982-10-02       4.522949       378.7940       3.542509       471.4854  \n",
      "1982-10-03       4.225453       375.5247       4.084993       458.5116  \n",
      "1982-10-04       4.403022       372.8839       6.119847       441.2670  \n",
      "1982-10-05       4.743589       371.0161      10.667590       430.9001  \n",
      "1982-10-06       3.613402       372.7308      13.339480       425.5986  \n",
      "...                   ...            ...            ...            ...  \n",
      "2016-12-27      10.546220       347.1989       0.788829       374.4542  \n",
      "2016-12-28      10.569290       346.5004       0.786149       373.7992  \n",
      "2016-12-29      10.587600       346.5625       0.783223       373.6897  \n",
      "2016-12-30      10.602230       345.2052       0.780030       373.3807  \n",
      "2016-12-31      10.613740       344.2019       0.776684       372.4619  \n",
      "\n",
      "[12510 rows x 54 columns]\n"
     ]
    }
   ],
   "source": [
    "# print(\"The Merged dataframe: \\n\")\n",
    "# print(DATAFRAMES[\"DF_1\"])\n",
    "# print(\"The Observed dataframe: \\n\")\n",
    "# print(DATAFRAMES[\"DF_OBSERVED\"])\n",
    "# print(\"\\nThe Simulated dataframe: \\n\")\n",
    "# print(DATAFRAMES[\"DF_SIMULATED\"])\n",
    "print(DATAFRAMES[\"DF_SIMULATED_1\"])"
   ]
  },
  {
   "cell_type": "markdown",
   "id": "b3dee15b-ce4b-466e-9a90-2369e19a7471",
   "metadata": {},
   "source": [
    "The Simulated and Observed dataframes are particularly important in the calculation of our metrics"
   ]
  },
  {
   "cell_type": "code",
   "execution_count": 5,
   "id": "1ea8b99f-a3a4-4f28-95cb-84407a25e2e8",
   "metadata": {},
   "outputs": [
    {
     "ename": "TypeError",
     "evalue": "generate_dataframes() got an unexpected keyword argument 'csv_fpath'",
     "output_type": "error",
     "traceback": [
      "\u001b[1;31m---------------------------------------------------------------------------\u001b[0m",
      "\u001b[1;31mTypeError\u001b[0m                                 Traceback (most recent call last)",
      "Cell \u001b[1;32mIn[5], line 3\u001b[0m\n\u001b[0;32m      1\u001b[0m \u001b[38;5;66;03m# You are also  able to generate the dataframes for a given period of time i.e from a start date, till an end date\u001b[39;00m\n\u001b[0;32m      2\u001b[0m \u001b[38;5;66;03m# and everything in between\u001b[39;00m\n\u001b[1;32m----> 3\u001b[0m DATAFRAMES_January2010 \u001b[38;5;241m=\u001b[39m data\u001b[38;5;241m.\u001b[39mgenerate_dataframes(csv_fpath\u001b[38;5;241m=\u001b[39mpath, warm_up\u001b[38;5;241m=\u001b[39m\u001b[38;5;241m365\u001b[39m, start_date\u001b[38;5;241m=\u001b[39m\u001b[38;5;124m'\u001b[39m\u001b[38;5;124m2010-01-01\u001b[39m\u001b[38;5;124m'\u001b[39m , end_date\u001b[38;5;241m=\u001b[39m\u001b[38;5;124m'\u001b[39m\u001b[38;5;124m2010-1-31\u001b[39m\u001b[38;5;124m'\u001b[39m)\n\u001b[0;32m      4\u001b[0m DATAFRAMES_till2009 \u001b[38;5;241m=\u001b[39m data\u001b[38;5;241m.\u001b[39mgenerate_dataframes(csv_fpath\u001b[38;5;241m=\u001b[39mpath, warm_up\u001b[38;5;241m=\u001b[39m\u001b[38;5;241m365\u001b[39m, end_date\u001b[38;5;241m=\u001b[39m\u001b[38;5;124m'\u001b[39m\u001b[38;5;124m2009-12-31\u001b[39m\u001b[38;5;124m'\u001b[39m)\n\u001b[0;32m      5\u001b[0m DATAFRAMES_from1995 \u001b[38;5;241m=\u001b[39m data\u001b[38;5;241m.\u001b[39mgenerate_dataframes(csv_fpath\u001b[38;5;241m=\u001b[39mpath, warm_up\u001b[38;5;241m=\u001b[39m\u001b[38;5;241m365\u001b[39m, start_date\u001b[38;5;241m=\u001b[39m\u001b[38;5;124m'\u001b[39m\u001b[38;5;124m1995-01-01\u001b[39m\u001b[38;5;124m'\u001b[39m)\n",
      "\u001b[1;31mTypeError\u001b[0m: generate_dataframes() got an unexpected keyword argument 'csv_fpath'"
     ]
    }
   ],
   "source": [
    "# You are also  able to generate the dataframes for a given period of time i.e from a start date, till an end date\n",
    "# and everything in between\n",
    "DATAFRAMES_January2010 = data.generate_dataframes(csv_fpath=path, warm_up=365, start_date='2010-01-01' , end_date='2010-1-31')\n",
    "DATAFRAMES_till2009 = data.generate_dataframes(csv_fpath=path, warm_up=365, end_date='2009-12-31')\n",
    "DATAFRAMES_from1995 = data.generate_dataframes(csv_fpath=path, warm_up=365, start_date='1995-01-01')"
   ]
  },
  {
   "cell_type": "code",
   "execution_count": null,
   "id": "4e75fcaa-cd5c-49b3-a7e4-64b4e3e0d581",
   "metadata": {},
   "outputs": [],
   "source": [
    "print(\"The Merged dataframe for January 2010: \\n\")\n",
    "print(DATAFRAMES_January2010[\"DF\"])\n",
    "print(\"The Observed dataframe for January 2010: \\n\")\n",
    "print(DATAFRAMES_January2010[\"DF_OBSERVED\"])\n",
    "print(\"\\nThe Simulated dataframe for January 2010: \\n\")\n",
    "print(DATAFRAMES_January2010[\"DF_OBSERVED\"])"
   ]
  },
  {
   "cell_type": "code",
   "execution_count": null,
   "id": "4178af61-532c-4486-8f5b-531df6187ef9",
   "metadata": {},
   "outputs": [],
   "source": [
    "print(\"The Merged dataframe until 2009: \\n\")\n",
    "print(DATAFRAMES_till2009[\"DF\"])\n",
    "print(\"The Observed dataframe until 2009: \\n\")\n",
    "print(DATAFRAMES_till2009[\"DF_OBSERVED\"])\n",
    "print(\"\\nThe Simulated dataframe until 2009: \\n\")\n",
    "print(DATAFRAMES_till2009[\"DF_SIMULATED\"])"
   ]
  },
  {
   "cell_type": "code",
   "execution_count": null,
   "id": "fedf6244-257c-41b6-91a8-e2a35a4427da",
   "metadata": {},
   "outputs": [],
   "source": [
    "print(\"The Merged dataframe from 1995: \\n\")\n",
    "print(DATAFRAMES_from1995[\"DF\"])\n",
    "print(\"The Observed dataframe from 1995: \\n\")\n",
    "print(DATAFRAMES_from1995[\"DF_OBSERVED\"])\n",
    "print(\"\\nThe Simulated dataframe from 1995: \\n\")\n",
    "print(DATAFRAMES_from1995[\"DF_SIMULATED\"])"
   ]
  },
  {
   "cell_type": "markdown",
   "id": "a8ef70c7-9f03-485c-a682-b3c9d30b9f01",
   "metadata": {},
   "source": [
    "You are also able to go a step further by aggregating your data right from the beggining by using the optional arguments "
   ]
  },
  {
   "cell_type": "code",
   "execution_count": null,
   "id": "9f088fda-6c2b-4b7c-a7cb-2cd78ff38083",
   "metadata": {},
   "outputs": [],
   "source": [
    "## Lets use a time period of 1981 to 1990 to demonstrate this\n",
    "DATAFRAMES = data.generate_dataframes(csv_fpath=path, warm_up=365, start_date = \"1981-01-01\", end_date = \"1990-12-31\",\n",
    "                                      # optional arguments\n",
    "                                      # lets see a weekly aggregation\n",
    "                                      daily_agg = True, da_method = 'min',\n",
    "                                      # lets see a weekly aggregation\n",
    "                                      weekly_agg = True, wa_method = 'min',\n",
    "                                      # lets also see monthly aggregation\n",
    "                                      monthly_agg = True, ma_method = 'inst',\n",
    "                                      # lets also see yearly aggregation\n",
    "                                      yearly_agg = True, ya_method = 'sum'\n",
    "                                      # note that without inputing the respective methods,\n",
    "                                      # the functions default to mean as the method of aggregation\n",
    "                                     )\n",
    "for key, value in DATAFRAMES.items():\n",
    "    print(f\"{key}:\\n{value}\")\n",
    "    \n",
    "# You can uncomment these lines to help with manual confirmation of the data generated \n",
    "# DATAFRAMES[\"DF_WEEKLY\"].to_csv('weekly_df.csv')\n",
    "# DATAFRAMES[\"DF_MONTHLY\"].to_csv('monthly_df.csv')\n",
    "# DATAFRAMES[\"DF_YEARLY\"].to_csv('yearly_df.csv')"
   ]
  },
  {
   "cell_type": "markdown",
   "id": "48af3507-3148-4123-8404-e7a08c18f8a5",
   "metadata": {},
   "source": [
    "Observe how the methods inputed dictate the means of aggregation"
   ]
  },
  {
   "cell_type": "markdown",
   "id": "eacc2ffc-34d0-4e51-9869-1d7328e2521c",
   "metadata": {},
   "source": [
    "We are also able to obtain a seasonal period from this step as show below "
   ]
  },
  {
   "cell_type": "code",
   "execution_count": null,
   "id": "26d93b73-f4e5-48d3-b2a6-17e57e510b1b",
   "metadata": {},
   "outputs": [],
   "source": [
    "DATAFRAMES = data.generate_dataframes(csv_fpath=path, warm_up=365, start_date = \"1981-01-01\", end_date = \"1990-12-31\",\n",
    "                                      # seasonal aggregation\n",
    "                                      # obtaining the month of January from every year from 1981 to 1985\n",
    "                                      seasonal_p = True, sp_dperiod = ('04-01', '08-30'),\n",
    "                                      sp_subset = ('1981-01-01', '1985-12-31')\n",
    "                                      # if the time range is not specified, it will return the daily period\n",
    "                                      # for the whole data whose time frame might be specified by the start and\n",
    "                                      # end date parameters\n",
    "                                     )\n",
    "for key, value in DATAFRAMES.items():\n",
    "    print(f\"{key}:\\n{value}\")\n",
    "\n",
    "# You can uncomment this line to help with manual confirmation of the data generated \n",
    "# DATAFRAMES[\"DF_CUSTOM\"].to_csv('seasonal_df.csv')\n",
    "# DATAFRAMES[\"DF_CUSTOM\"].head(40)"
   ]
  },
  {
   "cell_type": "markdown",
   "id": "64fe3686-b2a7-43ed-b10a-4ff4509a14ba",
   "metadata": {},
   "source": [
    "Again observe how there is always an observed and simulated dataframe"
   ]
  },
  {
   "cell_type": "markdown",
   "id": "dd8d0588-2c90-49d3-a85d-2a62dec47c47",
   "metadata": {},
   "source": [
    "If the above weekly and daily aggregations werent done at the beginning you are also able to do them whenever you want during your evaluation using their respective functions "
   ]
  },
  {
   "cell_type": "code",
   "execution_count": null,
   "id": "a1bfb767-2bd4-4bc7-919b-61a496beb0cf",
   "metadata": {},
   "outputs": [],
   "source": [
    "# calculating the daily aggregate outside the generate dataframe function\n",
    "merged_df = DATAFRAMES[\"DF\"]\n",
    "print(merged_df)\n",
    "print(data.daily_aggregate(df=merged_df))"
   ]
  },
  {
   "cell_type": "code",
   "execution_count": null,
   "id": "8f1d4a7c-d265-4a08-9755-4eadad8707a8",
   "metadata": {},
   "outputs": [],
   "source": [
    "# We are also able to do the same weekly...\n",
    "# Recall that the default method is mean\n",
    "print(data.weekly_aggregate(df=merged_df, method=\"min\"))"
   ]
  },
  {
   "cell_type": "code",
   "execution_count": null,
   "id": "3d55a08a-b8e0-4e6f-9092-ebdcd16d56d7",
   "metadata": {},
   "outputs": [],
   "source": [
    "# Monthly...\n",
    "print(data.monthly_aggregate(df=merged_df, method=\"inst\"))"
   ]
  },
  {
   "cell_type": "code",
   "execution_count": null,
   "id": "f0d59e07-cf4f-4135-a884-ba4e10721e92",
   "metadata": {},
   "outputs": [],
   "source": [
    "# Yearly...\n",
    "print(data.yearly_aggregate(df=merged_df, method=\"sum\"))"
   ]
  },
  {
   "cell_type": "code",
   "execution_count": null,
   "id": "fe0a7e37-9305-49cd-8073-5474e5e4e701",
   "metadata": {},
   "outputs": [],
   "source": [
    "# and we are also able to obtaining a customized seasonal period from every year in a period...\n",
    "print(data.seasonal_period(df=merged_df, daily_period=('01-01', '01-31'), subset = ('1981-01-01', '1985-12-31')))"
   ]
  },
  {
   "cell_type": "code",
   "execution_count": null,
   "id": "09995bd7-22c6-4613-a275-be2f396dc092",
   "metadata": {},
   "outputs": [],
   "source": [
    "# and we are also able to obtaining a customized seasonal period or from select years...\n",
    "print(data.seasonal_period(df=merged_df, daily_period=('01-01', '01-31'), years = [1981, 1983, 1990]))"
   ]
  },
  {
   "cell_type": "markdown",
   "id": "cf2d6d1d-0106-4265-8d13-5c2a17700051",
   "metadata": {},
   "source": [
    "Finally, we are able to extract each station from the data"
   ]
  },
  {
   "cell_type": "code",
   "execution_count": null,
   "id": "eeffe6a0-0454-423b-bd6f-4ca9b098ea7b",
   "metadata": {},
   "outputs": [],
   "source": [
    "## for ease of code I will rename the variables\n",
    "DATAFRAMES = data.generate_dataframes(csv_fpath=path, warm_up=365)\n",
    "observed = DATAFRAMES[\"DF_OBSERVED\"]\n",
    "simulated = DATAFRAMES[\"DF_SIMULATED\"]"
   ]
  },
  {
   "cell_type": "code",
   "execution_count": null,
   "id": "befeb6ac-5584-4634-90aa-e9b89e81b0c7",
   "metadata": {},
   "outputs": [],
   "source": [
    "# You are also able to split the data into their respective stations in the cases where you might want to do so\n",
    "for station in data.station_dataframe(observed=observed, simulated=simulated):\n",
    "    print(station)"
   ]
  },
  {
   "cell_type": "markdown",
   "id": "e6602fb8-1897-4dc8-914f-b943a8dcb6ad",
   "metadata": {},
   "source": [
    "<mark>Note: As it stands, that is the only kind of data that we it is currently able to handle. In future releases, It will be able to handle more file types including, netcdf file, shape file, arrays, and more.<mark/>"
   ]
  },
  {
   "cell_type": "markdown",
   "id": "0fd4e62c-e241-445e-852e-d6947276d0d6",
   "metadata": {},
   "source": [
    "### Analysis"
   ]
  },
  {
   "cell_type": "markdown",
   "id": "43384892-63fe-491b-9fc7-8dda53be87ff",
   "metadata": {},
   "source": [
    "Because the library is in active development, there will be regular removals and additions to its features. As a rule of thumb therefore it is always a good idea to check what it can do at the time of use."
   ]
  },
  {
   "cell_type": "code",
   "execution_count": null,
   "id": "db52d1b3-16f4-4628-94b4-104b75977d7d",
   "metadata": {},
   "outputs": [],
   "source": [
    "# We do this by calling on its available metrics\n",
    "for metric in metrics.available_metrics():\n",
    "    print(metric)"
   ]
  },
  {
   "cell_type": "markdown",
   "id": "4d8f7f5a-df66-42ce-b27a-ff86589adc1d",
   "metadata": {},
   "source": [
    "Now that we know what it can currently do, we know what we want to ask for."
   ]
  },
  {
   "cell_type": "markdown",
   "id": "995eace1-082f-47eb-9663-92bae5fc042e",
   "metadata": {},
   "source": [
    "##### Mean Square Error"
   ]
  },
  {
   "cell_type": "code",
   "execution_count": null,
   "id": "9e5447fe-c907-4f96-905c-37c511d949b6",
   "metadata": {},
   "outputs": [],
   "source": [
    "# Mean square error for the first station in the data we were given\n",
    "print(metrics.mse(observed=observed, simulated=simulated))"
   ]
  },
  {
   "cell_type": "markdown",
   "id": "1c791ee4-a104-42bf-9912-2544ab33a533",
   "metadata": {},
   "source": [
    "##### Root Mean Square Error"
   ]
  },
  {
   "cell_type": "code",
   "execution_count": null,
   "id": "89beaa4d-602b-4463-a884-c95c05f71f36",
   "metadata": {},
   "outputs": [],
   "source": [
    "# lets calculate for the root mean square error for the first station in the data we were given\n",
    "# The syntax goes:-\n",
    "print(metrics.rmse(observed=observed, simulated=simulated))"
   ]
  },
  {
   "cell_type": "markdown",
   "id": "5fbce470-00f5-4421-928d-373ddc473cde",
   "metadata": {},
   "source": [
    "##### Mean Average Error"
   ]
  },
  {
   "cell_type": "code",
   "execution_count": null,
   "id": "814750eb-20a6-4c3d-a9a2-337f4ef56266",
   "metadata": {},
   "outputs": [],
   "source": [
    "# Similarly, the mean absolute error for the first station in the data we were given will look like \n",
    "print(metrics.mae(observed=observed, simulated=simulated))"
   ]
  },
  {
   "cell_type": "markdown",
   "id": "b8b89a01-0f13-4f67-bfc7-eb9621d1a5bb",
   "metadata": {},
   "source": [
    "##### Nash-Sutcliffe Efficiency"
   ]
  },
  {
   "cell_type": "code",
   "execution_count": null,
   "id": "ed477e2e-0475-468d-867e-50c48cf2008b",
   "metadata": {},
   "outputs": [],
   "source": [
    "# Similarly, the Nash-Sutcliffe Efficiency for the first station in the data we were given will look like \n",
    "print(metrics.nse(observed=observed, simulated=simulated))"
   ]
  },
  {
   "cell_type": "markdown",
   "id": "2b477635-31ad-4086-99bc-1b3a6884b536",
   "metadata": {},
   "source": [
    "##### Kling-Gupta Efficiency"
   ]
  },
  {
   "cell_type": "code",
   "execution_count": null,
   "id": "add8b858-1cf2-4795-9b6c-3f3ce1e9e46a",
   "metadata": {},
   "outputs": [],
   "source": [
    "# Similarly, the Kling-Gupta Efficiency for the first station in the data we were given will look like \n",
    "print(metrics.kge(observed=observed, simulated=simulated))"
   ]
  },
  {
   "cell_type": "markdown",
   "id": "63a1b546-4b01-4b92-980a-34df9350517c",
   "metadata": {},
   "source": [
    "##### The Updated Kling-Gupta Efficiency (2012)"
   ]
  },
  {
   "cell_type": "code",
   "execution_count": null,
   "id": "b853f560-412f-479b-b3d0-f80183d9c607",
   "metadata": {},
   "outputs": [],
   "source": [
    "# Similarly, the Kling-Gupta Efficiency for the first station in the data we were given will look like \n",
    "print(metrics.kge_2012(observed=observed, simulated=simulated))"
   ]
  },
  {
   "cell_type": "markdown",
   "id": "5c74bf29-d59c-4d4e-a466-536e3144f8e0",
   "metadata": {},
   "source": [
    "##### Percentage Bias"
   ]
  },
  {
   "cell_type": "code",
   "execution_count": null,
   "id": "c94f7f0c-92c6-40c4-944a-2d0645ae071b",
   "metadata": {},
   "outputs": [],
   "source": [
    "# Similarly, the Percentage Bias for the first station in the data we were given will look like \n",
    "print(metrics.bias(observed=observed, simulated=simulated))\n",
    "\n",
    "# Observed that it returns the percentage not the actual value i.e 27% not 0.27"
   ]
  },
  {
   "cell_type": "markdown",
   "id": "4cc8d77f-1c31-42a8-9274-d8e1dc5666f0",
   "metadata": {},
   "source": [
    "##### Time to Peak"
   ]
  },
  {
   "cell_type": "code",
   "execution_count": null,
   "id": "7e68e931-55b6-476b-bd34-ada6b2d19fc4",
   "metadata": {},
   "outputs": [],
   "source": [
    "# Similarly, the Time to Peak for the simulated data from the first station in the data we were given will look like \n",
    "print(metrics.time_to_peak(df=simulated))\n",
    "\n",
    "# The time to peak for the observed data for the same station looks like:-\n",
    "print(metrics.time_to_peak(df=observed))"
   ]
  },
  {
   "cell_type": "markdown",
   "id": "b59691e4-ec08-488a-a413-6f8a7ce4c994",
   "metadata": {},
   "source": [
    "##### Time to Centre of Mass"
   ]
  },
  {
   "cell_type": "code",
   "execution_count": null,
   "id": "a1de9ecf-a3d1-4c04-a020-8723c760fd69",
   "metadata": {},
   "outputs": [],
   "source": [
    "# Similarly, the Time to Peak for the simulated data from the first station in the data we were given will look like \n",
    "print(metrics.time_to_centre_of_mass(df=simulated))\n",
    "\n",
    "# The time to peak for the observed data for the same station looks like:-\n",
    "print(metrics.time_to_centre_of_mass(df=observed))"
   ]
  },
  {
   "cell_type": "markdown",
   "id": "74c76437-7fa0-44ea-b14a-761169021b38",
   "metadata": {},
   "source": [
    "##### Spring Pulse Onset Delay"
   ]
  },
  {
   "cell_type": "code",
   "execution_count": null,
   "id": "ac3ed735-2d5b-4b67-99ea-c97b086bcbd3",
   "metadata": {},
   "outputs": [],
   "source": [
    "# Similarly, the Time to Peak for the simulated data from the first station in the data we were given will look like \n",
    "print(metrics.SpringPulseOnset(df=simulated))\n",
    "\n",
    "# The time to peak for the observed data for the same station looks like:-\n",
    "print(metrics.SpringPulseOnset(df=observed))"
   ]
  },
  {
   "cell_type": "markdown",
   "id": "b4a5a056-06bd-48cd-aaef-1fc2e9a9d74e",
   "metadata": {},
   "source": [
    "##### Multiple metrics"
   ]
  },
  {
   "cell_type": "code",
   "execution_count": null,
   "id": "97a45d1a-f68a-4054-ac33-b292f8a88b2f",
   "metadata": {},
   "outputs": [],
   "source": [
    "# You are also able to calculate possible available metrics \n",
    "for key, value in metrics.calculate_all_metrics(observed=observed, simulated=simulated).items():\n",
    "    print(f\"{key}: {value}\")"
   ]
  },
  {
   "cell_type": "markdown",
   "id": "25b9fcbb-8b15-4cfe-91d3-d7162f687a0d",
   "metadata": {},
   "source": [
    "Note: There will be an option to have this returned in a text file for easy observation in the coming days"
   ]
  },
  {
   "cell_type": "code",
   "execution_count": null,
   "id": "17a78000-a835-4c5e-805c-7cb6be5dad0b",
   "metadata": {},
   "outputs": [],
   "source": [
    "# Naturally, you are also able to calculate a few metrics at a time but putting then in a list and passing them into the function\n",
    "# as shown below\n",
    "metrices = [\"MSE\", \"RMSE\", \"MAE\", \"NSE\", \"NegNSE\", \"LogNSE\"]\n",
    "for key, value in metrics.calculate_metrics(observed=observed, simulated=simulated, metrices=metrices).items():\n",
    "    print(f\"{key}: {value}\")"
   ]
  },
  {
   "cell_type": "markdown",
   "id": "32179ebc-cf81-4081-ba4c-75c95464f11e",
   "metadata": {},
   "source": [
    "### Visualizations"
   ]
  },
  {
   "cell_type": "markdown",
   "id": "792c39d0-1fd3-4235-97da-e1ab6fd3e5eb",
   "metadata": {},
   "source": [
    "<mark>Note: The visualization modules are still under review<mark/>"
   ]
  },
  {
   "cell_type": "code",
   "execution_count": null,
   "id": "8df1a7f2-8e50-468e-9515-cc887d775598",
   "metadata": {},
   "outputs": [],
   "source": [
    "visuals.plot(\n",
    "    # merged_df = DATAFRAMES[\"DF\"]['1981-01-01':'1990-12-31'],\n",
    "    df = DATAFRAMES[\"DF_SIMULATED\"]['1981-01-01':'1990-12-31'],\n",
    "    title='Hydrograph of the time series from 1981-1990',\n",
    "    # linestyles=['r-', 'b-'],\n",
    "    linestyles=['c-'],\n",
    "    labels=['Datetime', 'Streamflow'],\n",
    "    metrices=['KGE'],\n",
    "    # linewidth = [.75, 1.25],\n",
    "    linewidth = [1.25],\n",
    "    )"
   ]
  },
  {
   "cell_type": "code",
   "execution_count": null,
   "id": "83b9985d-b087-4f04-8795-aa9fecd43a4e",
   "metadata": {},
   "outputs": [],
   "source": [
    "sim_monthly = data.monthly_aggregate(df=simulated)\n",
    "obs_monthly = data.monthly_aggregate(df=observed)\n",
    "Stations_by_monthly = data.station_dataframe(observed=obs_monthly, simulated=sim_monthly)\n",
    "# plot of the second station in the dataframe within the time period aggregated monthly by mean(default)\n",
    "# visuals.plot(merged_df = Stations_by_monthly[0]['1981-01':'1990-12'],\n",
    "#             title='Hydrograph of the time series aggregated monthly from 1981-1990',\n",
    "#             linestyles=['r-', 'b-'],\n",
    "#             labels=['Datetime', 'Streamflow'],\n",
    "#             metrices=['RMSE', 'MSE', 'PBIAS'],\n",
    "#             grid = True\n",
    "#             )\n",
    "Stations_by_monthly"
   ]
  },
  {
   "cell_type": "code",
   "execution_count": null,
   "id": "adbebd58",
   "metadata": {},
   "outputs": [],
   "source": [
    "visuals.scatter(merged_df = DATAFRAMES['DF']['1981-01-01':'1985-01-31'],\n",
    "               grid = True,\n",
    "               labels = (\"Simulated\", \"Observed\"),\n",
    "               markerstyle = 'b.',\n",
    "               title = \"Scatterplot of January 1981 to January 1985\",\n",
    "               line45 = True,\n",
    "               metrices = ['KGE', 'RMSE'],\n",
    "               )"
   ]
  },
  {
   "cell_type": "code",
   "execution_count": null,
   "id": "088f226c",
   "metadata": {},
   "outputs": [],
   "source": []
  },
  {
   "cell_type": "code",
   "execution_count": null,
   "id": "d6ff1819",
   "metadata": {},
   "outputs": [],
   "source": []
  },
  {
   "cell_type": "code",
   "execution_count": null,
   "id": "704254bb",
   "metadata": {},
   "outputs": [],
   "source": []
  },
  {
   "cell_type": "code",
   "execution_count": null,
   "id": "aa10678a",
   "metadata": {},
   "outputs": [],
   "source": [
    "# There is an optional dependency required with using read_excel so first we install it\n",
    "# !pip install openpyxl\n",
    "\n",
    "path_output_2 = \"MESH_output_streamflow_2.csv\"\n",
    "path_input_2 = \"Station_data.xlsx\"\n",
    "\n",
    "\n",
    "#### Newer data\n",
    "DATA_2 = data.generate_dataframes(csv_fpath=path_output_2, warm_up=365,\n",
    "                                 # long term\n",
    "                                 long_term = True, lt_method = [\"q33.33\", \"median\" ,'q75' ,'Q25' ,'q33' ],)\n",
    "Stations_2 = pd.read_excel(io=path_input_2)\n",
    "\n",
    "ignore = []\n",
    "for i in range(0, len(Stations_2)):\n",
    "    if Stations_2['Properties'][i] == 'X':\n",
    "        ignore.append(i)\n",
    "\n",
    "Stations_2 = Stations_2.drop(Stations_2[Stations_2['Properties'] == 'X'].index)\n",
    "Stations_2 = Stations_2.set_index('Station Number')\n",
    "\n",
    "for i in reversed(ignore):\n",
    "    DATA_2['DF'] = DATA_2['DF'].drop(columns = DATA_2['DF'].columns[[2*i, 2*i+1]])\n",
    "    DATA_2[\"DF_OBSERVED\"] = DATA_2[\"DF_OBSERVED\"].drop(columns = DATA_2['DF_OBSERVED'].columns[i])\n",
    "    DATA_2['DF_SIMULATED']  = DATA_2[\"DF_SIMULATED\"].drop(columns = DATA_2['DF_SIMULATED'].columns[i]) \n"
   ]
  },
  {
   "cell_type": "code",
   "execution_count": null,
   "id": "2d9e17b6",
   "metadata": {},
   "outputs": [],
   "source": [
    "shapefile_path = r\"SaskRB_SubDrainage2.shp\"\n",
    "\n",
    "visuals.scatter(shapefile_path = shapefile_path,\n",
    "                        title = \"SRB SubDrainage and KGE\",\n",
    "                        x_axis = Stations_2[\"Lon\"],\n",
    "                        y_axis = Stations_2[\"Lat\"],\n",
    "                        metric = \"KGE\",\n",
    "                        fig_size = (24, 30),\n",
    "                        observed = DATA_2[\"DF_OBSERVED\"],\n",
    "                        simulated = DATA_2[\"DF_SIMULATED\"],\n",
    "                        labels=['Longitude', 'Latitude'],\n",
    "                cmap = 'jet', vmin = 0, vmax=0.5\n",
    "                    )"
   ]
  },
  {
   "cell_type": "code",
   "execution_count": null,
   "id": "8efa404d",
   "metadata": {},
   "outputs": [],
   "source": [
    "visuals.scatter(merged_df = DATAFRAMES['DF']['1981-01-01':'1985-01-31'],\n",
    "               grid = True,\n",
    "               labels = (\"Simulated\", \"Observed\"),\n",
    "               markerstyle = 'b.',\n",
    "               title = \"Scatterplot of January 1981 to January 1985\",\n",
    "               line45 = True,\n",
    "               metrices = ['KGE', 'RMSE'],\n",
    "               )"
   ]
  },
  {
   "cell_type": "code",
   "execution_count": null,
   "id": "828721fa",
   "metadata": {},
   "outputs": [],
   "source": [
    "DATAFRAMES = data.generate_dataframes(csv_fpath=path_output_2, warm_up=365, start_date = \"1981-01-01\", end_date = \"1990-12-31\",\n",
    "                                      # optional arguments\n",
    "                                      # lets see a weekly aggregation\n",
    "                                      daily_agg = True, da_method = 'min',\n",
    "                                      # lets see a weekly aggregation\n",
    "                                      weekly_agg = True, wa_method = 'min',\n",
    "                                      # lets also see monthly aggregation\n",
    "                                      monthly_agg = True, ma_method = 'inst',\n",
    "                                      # lets also see yearly aggregation\n",
    "                                      yearly_agg = True, ya_method = 'sum',\n",
    "                                      # seasonal aggregation\n",
    "                                      # obtaining the month of January from every year from 1981 to 1985\n",
    "                                      seasonal_p = True, sp_dperiod = ('04-01', '08-30'),\n",
    "                                      sp_subset = ('1981-01-01', '1985-12-31'),\n",
    "                                      # long term\n",
    "                                      long_term = True, lt_method = [\"q33.33\", \"median\" ,'q75' ,'Q25' ,'q33' ],\n",
    "                                     )\n",
    "for key, value in DATAFRAMES.items():\n",
    "    print(f\"{key}:\\n{value}\")"
   ]
  },
  {
   "cell_type": "code",
   "execution_count": null,
   "id": "2c650b60",
   "metadata": {},
   "outputs": [],
   "source": [
    "visuals.bounded_plot(\n",
    "    lines = merged_df,\n",
    "    upper_bounds = upper_bounds,\n",
    "    lower_bounds = lower_bounds,\n",
    "    title=['05AD007-OLDMAN RIVER NEAR LETHBRIDGE'],\n",
    "    linestyles=['b-', 'r-'],\n",
    "    labels=['Datetime', 'Streamflow'],\n",
    "    grid=True,\n",
    "    transparency = [0.3, 0.3],\n",
    "    )"
   ]
  },
  {
   "cell_type": "code",
   "execution_count": null,
   "id": "b630c157-4018-4751-99a4-195bc343e944",
   "metadata": {},
   "outputs": [],
   "source": [
    "visuals.scatter(merged_df = DATAFRAMES['DF']['1990-01-01':'1990-12-31'].iloc[:, [10, 11]],\n",
    "labels=(\"Observed\", \"Simulated\"),\n",
    "title=\"Scatter Plot Example\",\n",
    "   grid=True,\n",
    "    metrices = ['KGE','RMSE'],\n",
    "   line45=True,\n",
    "  markerstyle = 'b.',\n",
    "\n",
    "               )"
   ]
  },
  {
   "cell_type": "code",
   "execution_count": null,
   "id": "7a524b0e-807b-45e5-b75f-21ca5bc481ce",
   "metadata": {},
   "outputs": [],
   "source": [
    "visuals.bounded_plot(\n",
    "    lines = DATA_2[\"LONG_TERM_MEDIAN\"].iloc[:, [8,9]],\n",
    "    upper_bounds = [DATA_2[\"LONG_TERM_MAX\"].iloc[:, [8,9]]],\n",
    "    lower_bounds = [DATA_2[\"LONG_TERM_MIN\"].iloc[:, [8,9]]],\n",
    "    # upper_bounds = [DATAFRAMES[\"LONG_TERM_Q75\"]],\n",
    "    # lower_bounds = [DATAFRAMES[\"LONG_TERM_Q25\"]],\n",
    "#     title=['Long Term Aggregation by days of the Year', 12.55],\n",
    "    linestyles=['b', 'r-'],\n",
    "    labels=['Datetime', 'Streamflow'],\n",
    "    grid=True,\n",
    "    transparency = [0.4, 0.3],\n",
    "    )"
   ]
  },
  {
   "cell_type": "code",
   "execution_count": null,
   "id": "dff91000-ed93-4861-bf0f-f2b0b490b811",
   "metadata": {},
   "outputs": [],
   "source": [
    "visuals.bounded_plot(\n",
    "  lines = merged_df,\n",
    "  upper_bounds = upper_bounds,\n",
    "  lower_bounds = lower_bounds,\n",
    "  title=['Long Term Aggregation by days of the Year'],\n",
    "  legend = ['Predicted Streamflow','Recorded Streamflow'],\n",
    "  linestyles=['k', 'r-'],\n",
    "  labels=['Days of the year', 'Streamflow Values'],\n",
    "  transparency = [0.4, 0.7],\n",
    "  save = True,\n",
    "  save_as = \"b_plot_1\", dir= '../b_plots'\n",
    ")"
   ]
  },
  {
   "cell_type": "code",
   "execution_count": null,
   "id": "dae9ef18-1c68-48df-a282-e1ea8cb3541f",
   "metadata": {},
   "outputs": [],
   "source": [
    "visuals.qqplot(\n",
    "    merged_df = DATAFRAMES[\"DF\"]['1990-01-01':'1990-12-31'].iloc[:, [6,7, 8,9]],\n",
    "    title=['05AD007 - OLDMAN RIVER NEAR LETHBRIDGE - 1990','05AG006 - OLDMAN RIVER NEAR THE MOUTH- 1990'],\n",
    "    linestyle = ['b.','r-.','r-'],\n",
    "    labels=[\"Quantiles (Simulated)\", \"Quantiles (Observed)\"],\n",
    "    linewidth = [.75, 1.25],\n",
    "    legend = True, grid = True,\n",
    "#     save = True\n",
    "    )"
   ]
  },
  {
   "cell_type": "code",
   "execution_count": null,
   "id": "936eeffc-c2fe-4cce-a3e5-81b499d795b4",
   "metadata": {},
   "outputs": [],
   "source": [
    "index = pd.date_range(start=\"2022-01-01\", periods=50, freq=\"D\")"
   ]
  },
  {
   "cell_type": "code",
   "execution_count": null,
   "id": "9edc1bc6",
   "metadata": {},
   "outputs": [],
   "source": [
    "import numpy as np"
   ]
  },
  {
   "cell_type": "code",
   "execution_count": null,
   "id": "96080000-dbcf-494b-8f82-24fdc1fe6ec9",
   "metadata": {},
   "outputs": [],
   "source": [
    "\n",
    "obs_df = pd.DataFrame({\n",
    "\"Station1\": np.random.rand(50),\n",
    "# \"Station2\": np.random.rand(50)\n",
    "}, index=index)\n",
    "# obs_df"
   ]
  },
  {
   "cell_type": "code",
   "execution_count": null,
   "id": "0c6e303b",
   "metadata": {},
   "outputs": [],
   "source": [
    "sim_df = pd.DataFrame({\n",
    "\"Station1\": np.random.rand(50),\n",
    "# \"Station2\": np.random.rand(50)\n",
    "}, index=index)\n",
    "# sim_df"
   ]
  },
  {
   "cell_type": "code",
   "execution_count": null,
   "id": "9e33ec07",
   "metadata": {},
   "outputs": [],
   "source": [
    "merged_df = pd.DataFrame({\n",
    "    \"obs\": obs_df[\"Station1\"],\n",
    "    \"sim\": sim_df[\"Station1\"]\n",
    "})"
   ]
  },
  {
   "cell_type": "code",
   "execution_count": null,
   "id": "a0910005",
   "metadata": {
    "scrolled": true
   },
   "outputs": [],
   "source": [
    "visuals.plot(merged_df = merged_df,\n",
    "             title='Simulated vs Observed',\n",
    "             labels=['Time', 'Value'],\n",
    "             grid=True,\n",
    "             metrices = ['KGE','RMSE'],\n",
    "             save = True,\n",
    "             save_as = \"plot1_example\",\n",
    "             dir = \"../Figures\"\n",
    "            )"
   ]
  },
  {
   "cell_type": "code",
   "execution_count": null,
   "id": "e52da0e1",
   "metadata": {},
   "outputs": [],
   "source": [
    "visuals.plot(obs_df = obs_df,\n",
    "             sim_df = sim_df,\n",
    "             linestyles=('g-', 'b-'),\n",
    "             linewidth=(1.5, 1.25),\n",
    "             save = True,\n",
    "             save_as = \"plot_example\"\n",
    "             dir = \"./plots\"\n",
    "            )"
   ]
  },
  {
   "cell_type": "code",
   "execution_count": null,
   "id": "1a598901",
   "metadata": {},
   "outputs": [],
   "source": [
    "visuals.plot(df=obs_df,\n",
    "             grid=True,\n",
    "             title=\"Single Line Plot\",\n",
    "             labels=(\"Time\", \"Value\"),\n",
    "             legend = ['Single line Data']\n",
    "             fig_size=(9, 5)\n",
    "            )\n"
   ]
  },
  {
   "cell_type": "code",
   "execution_count": null,
   "id": "a4b7084f",
   "metadata": {},
   "outputs": [],
   "source": [
    "upper_bounds = [\n",
    "   pd.DataFrame({\n",
    "        \"Obs_Upper\": np.random.rand(50) + 0.1,\n",
    "       \"Sim_Upper\": np.random.rand(50) + 0.1,\n",
    "   }, index=index)\n",
    "]\n"
   ]
  },
  {
   "cell_type": "code",
   "execution_count": null,
   "id": "a682c1b8",
   "metadata": {},
   "outputs": [],
   "source": [
    "lower_bounds = [\n",
    "   pd.DataFrame({\n",
    "        \"Obs_Lower\": np.random.rand(50) - 0.1,\n",
    "       \"Sim_Lower\": np.random.rand(50) - 0.1,\n",
    "   }, index=index)\n",
    "]\n"
   ]
  },
  {
   "cell_type": "code",
   "execution_count": null,
   "id": "967dce94",
   "metadata": {},
   "outputs": [],
   "source": [
    "visuals.bounded_plot(\n",
    "  lines=merged_df,\n",
    "  upper_bounds=upper_bounds,\n",
    "  lower_bounds=lower_bounds,\n",
    "  legend=('Simulated Data', 'Observed Data'),\n",
    "  title=['Observed Data'],\n",
    "  labels=('Time', 'Flow'),\n",
    "  grid=True,\n",
    "#   save=False,\n",
    "#   save_as = ''\n",
    ")"
   ]
  },
  {
   "cell_type": "code",
   "execution_count": null,
   "id": "39a0241e",
   "metadata": {},
   "outputs": [],
   "source": [
    "visuals.scatter(\n",
    "     obs_df=obs_df,\n",
    "   sim_df=sim_df,\n",
    "     labels=(\"Observed\", \"Simulated\"),\n",
    "         title=\"Scatter Plot Example\",\n",
    "         best_fit=True,\n",
    "         line45=True,\n",
    "#          save=True,\n",
    "#          save_as=\"scatter_plot_example.png\"\n",
    "     )"
   ]
  },
  {
   "cell_type": "code",
   "execution_count": null,
   "id": "a6ddffa7",
   "metadata": {},
   "outputs": [],
   "source": [
    "visuals.qqplot(\n",
    "    merged_df = merged_df,\n",
    "#     title=['Title'],\n",
    "#     linestyle = ['bo','r-.','r-'],\n",
    "    labels=[\"Quantiles (Simulated)\", \"Quantiles (Observed)\"],\n",
    "    title=\"QQ Plot Example\",\n",
    "#     linewidth = [.75, 1.25],\n",
    "#     legend = True,\n",
    "#     grid = True,\n",
    "    save=True,\n",
    "    save_as=\"qqplot_example\",\n",
    "    dir = '../Figures'\n",
    ")"
   ]
  },
  {
   "cell_type": "code",
   "execution_count": null,
   "id": "69b252dd",
   "metadata": {},
   "outputs": [],
   "source": [
    "visuals.qqplot(\n",
    "    merged_df = merged_df,\n",
    "    title=['QQ plot'],\n",
    "    linestyle = ['r*','b-.','k-'],\n",
    "    labels=[\"Simulated\", \"Observed\"],\n",
    "    linewidth = [1.25, 1.25],\n",
    "    legend = True,\n",
    "    q_labels = ['Q Values',\n",
    "                \"Range of Q's\",\n",
    "                \"Upper Band Quartile\"],\n",
    "    quantile = [75, 100],\n",
    "    grid = True,\n",
    ")"
   ]
  },
  {
   "cell_type": "code",
   "execution_count": 22,
   "id": "09acc8a4",
   "metadata": {},
   "outputs": [
    {
     "name": "stdout",
     "output_type": "stream",
     "text": [
      "The start date for the Observed Data is 1982-10-02\n",
      "The start date for the Simulated Data is 1982-10-02\n",
      "The start date for the Merged Data is 1982-10-02\n",
      "DF\n",
      "DF_SIMULATED\n",
      "DF_OBSERVED\n",
      "DF_DAILY\n",
      "DF_WEEKLY\n",
      "DF_MONTHLY\n",
      "DF_YEARLY\n",
      "DF:\n",
      "<bound method NDFrame.head of             QOMEAS_05AA024  QOSIM_05AA024  QOMEAS_05AB046  QOSIM_05AB046  \\\n",
      "1982-10-02           15.00      12.727950             NaN       2.151088   \n",
      "1982-10-03           14.80      12.070300             NaN       1.282258   \n",
      "1982-10-04           15.20      11.928440             NaN       0.864993   \n",
      "1982-10-05           15.00      11.873910             NaN       0.662052   \n",
      "1982-10-06           14.10      11.845160             NaN       0.560041   \n",
      "...                    ...            ...             ...            ...   \n",
      "2016-12-27            8.62       0.626161             NaN       0.426263   \n",
      "2016-12-28            8.64       0.619734             NaN       0.425050   \n",
      "2016-12-29            8.63       0.612944             NaN       0.423842   \n",
      "2016-12-30            8.64       0.606437             NaN       0.422638   \n",
      "2016-12-31            8.61       0.599758             NaN       0.421438   \n",
      "\n",
      "            QOMEAS_05AC003  QOSIM_05AC003  QOMEAS_05AD007  QOSIM_05AD007  \\\n",
      "1982-10-02           1.840       1.452520            37.6      41.470610   \n",
      "1982-10-03           1.840       1.230331            39.6      28.868720   \n",
      "1982-10-04           1.690       1.087916            38.7      23.806940   \n",
      "1982-10-05           1.580       0.993243            37.6      21.888450   \n",
      "1982-10-06           1.430       0.918875            29.8      21.085320   \n",
      "...                    ...            ...             ...            ...   \n",
      "2016-12-27           0.966       0.341739            20.7       6.993578   \n",
      "2016-12-28           1.010       0.339073            22.0       6.978570   \n",
      "2016-12-29           1.030       0.336443            24.5       6.963836   \n",
      "2016-12-30           1.030       0.333846            25.5       6.949335   \n",
      "2016-12-31           1.010       0.331275            25.1       6.935077   \n",
      "\n",
      "            QOMEAS_05AE006  QOSIM_05AE006  ...  QOMEAS_05KB003  QOSIM_05KB003  \\\n",
      "1982-10-02           10.70       7.882280  ...           0.032       0.292633   \n",
      "1982-10-03           11.80       7.821773  ...           0.038       0.331423   \n",
      "1982-10-04           11.30       7.813555  ...           0.047       0.408661   \n",
      "1982-10-05            8.40       7.810593  ...           0.040       0.496929   \n",
      "1982-10-06            3.12       7.807860  ...           0.035       0.571135   \n",
      "...                    ...            ...  ...             ...            ...   \n",
      "2016-12-27            9.80       2.704071  ...             NaN       1.966892   \n",
      "2016-12-28            9.88       2.704070  ...             NaN       1.962993   \n",
      "2016-12-29            9.89       2.704069  ...             NaN       1.959016   \n",
      "2016-12-30            9.86       2.704068  ...             NaN       1.954979   \n",
      "2016-12-31            9.82       2.704067  ...             NaN       1.950883   \n",
      "\n",
      "            QOMEAS_05KC001  QOSIM_05KC001  QOMEAS_05KD003  QOSIM_05KD003  \\\n",
      "1982-10-02            1.29       4.522949           359.0       378.7940   \n",
      "1982-10-03            1.16       4.225453           209.0       375.5247   \n",
      "1982-10-04            1.36       4.403022           316.0       372.8839   \n",
      "1982-10-05            1.57       4.743589           351.0       371.0161   \n",
      "1982-10-06            1.66       3.613402           319.0       372.7308   \n",
      "...                    ...            ...             ...            ...   \n",
      "2016-12-27             NaN      10.546220           301.0       347.1989   \n",
      "2016-12-28             NaN      10.569290           424.0       346.5004   \n",
      "2016-12-29             NaN      10.587600           450.0       346.5625   \n",
      "2016-12-30             NaN      10.602230           413.0       345.2052   \n",
      "2016-12-31             NaN      10.613740           415.0       344.2019   \n",
      "\n",
      "            QOMEAS_05KE002  QOSIM_05KE002  QOMEAS_05KJ001  QOSIM_05KJ001  \n",
      "1982-10-02            5.49       3.542509           345.0       471.4854  \n",
      "1982-10-03            6.50       4.084993           354.0       458.5116  \n",
      "1982-10-04            7.69       6.119847           416.0       441.2670  \n",
      "1982-10-05            9.33      10.667590           422.0       430.9001  \n",
      "1982-10-06           10.50      13.339480           382.0       425.5986  \n",
      "...                    ...            ...             ...            ...  \n",
      "2016-12-27             NaN       0.788829           646.0       374.4542  \n",
      "2016-12-28             NaN       0.786149           628.0       373.7992  \n",
      "2016-12-29             NaN       0.783223           615.0       373.6897  \n",
      "2016-12-30             NaN       0.780030           603.0       373.3807  \n",
      "2016-12-31             NaN       0.776684           597.0       372.4619  \n",
      "\n",
      "[12510 rows x 108 columns]>\n",
      "DF_SIMULATED:\n",
      "<bound method NDFrame.head of             QOSIM_05AA024  QOSIM_05AB046  QOSIM_05AC003  QOSIM_05AD007  \\\n",
      "1982-10-02      12.727950       2.151088       1.452520      41.470610   \n",
      "1982-10-03      12.070300       1.282258       1.230331      28.868720   \n",
      "1982-10-04      11.928440       0.864993       1.087916      23.806940   \n",
      "1982-10-05      11.873910       0.662052       0.993243      21.888450   \n",
      "1982-10-06      11.845160       0.560041       0.918875      21.085320   \n",
      "...                   ...            ...            ...            ...   \n",
      "2016-12-27       0.626161       0.426263       0.341739       6.993578   \n",
      "2016-12-28       0.619734       0.425050       0.339073       6.978570   \n",
      "2016-12-29       0.612944       0.423842       0.336443       6.963836   \n",
      "2016-12-30       0.606437       0.422638       0.333846       6.949335   \n",
      "2016-12-31       0.599758       0.421438       0.331275       6.935077   \n",
      "\n",
      "            QOSIM_05AE006  QOSIM_05AG006  QOSIM_05AH005  QOSIM_05AJ001  \\\n",
      "1982-10-02       7.882280      82.633610       0.586384      221.63040   \n",
      "1982-10-03       7.821773      72.782590       0.457176      194.35790   \n",
      "1982-10-04       7.813555      58.236480       0.354255      169.19080   \n",
      "1982-10-05       7.810593      45.029110       0.267057      140.63650   \n",
      "1982-10-06       7.807860      35.632970       0.202217      114.57850   \n",
      "...                   ...            ...            ...            ...   \n",
      "2016-12-27       2.704071       7.146379       0.021221       27.92496   \n",
      "2016-12-28       2.704070       7.128211       0.019380       27.29509   \n",
      "2016-12-29       2.704069       7.110573       0.017837       26.89507   \n",
      "2016-12-30       2.704068       7.093432       0.016536       26.61276   \n",
      "2016-12-31       2.704067       7.076759       0.015432       26.38714   \n",
      "\n",
      "            QOSIM_05BA001  QOSIM_05BB001  ...  QOSIM_05GF002  QOSIM_05GG001  \\\n",
      "1982-10-02       2.287444       9.522259  ...       0.118124       138.8791   \n",
      "1982-10-03       2.312526      10.002810  ...       0.146382       136.5933   \n",
      "1982-10-04       2.064803       9.619368  ...       0.187640       134.8002   \n",
      "1982-10-05       1.884399       8.541642  ...       0.223217       133.0535   \n",
      "1982-10-06       1.751974       7.669628  ...       0.556881       131.3290   \n",
      "...                   ...            ...  ...            ...            ...   \n",
      "2016-12-27       0.378100       2.201314  ...       0.197280       110.2660   \n",
      "2016-12-28       0.373522       2.172311  ...       0.195952       110.0245   \n",
      "2016-12-29       0.369035       2.143977  ...       0.194724       109.7813   \n",
      "2016-12-30       0.364645       2.111674  ...       0.193582       109.5422   \n",
      "2016-12-31       0.360348       2.080352  ...       0.192511       109.3090   \n",
      "\n",
      "            QOSIM_05HD039  QOSIM_05HG001  QOSIM_05KA001  QOSIM_05KB003  \\\n",
      "1982-10-02       0.004145       211.1882       0.043692       0.292633   \n",
      "1982-10-03       0.101997       221.3527       0.069693       0.331423   \n",
      "1982-10-04       0.120259       231.0193       0.231897       0.408661   \n",
      "1982-10-05       0.106829       231.2442       0.514727       0.496929   \n",
      "1982-10-06       0.302513       228.5721       0.485923       0.571135   \n",
      "...                   ...            ...            ...            ...   \n",
      "2016-12-27       0.113367       223.7898       0.157078       1.966892   \n",
      "2016-12-28       0.105351       223.8707       0.155982       1.962993   \n",
      "2016-12-29       0.097989       223.1373       0.154899       1.959016   \n",
      "2016-12-30       0.091243       223.2267       0.153827       1.954979   \n",
      "2016-12-31       0.085089       223.6875       0.152767       1.950883   \n",
      "\n",
      "            QOSIM_05KC001  QOSIM_05KD003  QOSIM_05KE002  QOSIM_05KJ001  \n",
      "1982-10-02       4.522949       378.7940       3.542509       471.4854  \n",
      "1982-10-03       4.225453       375.5247       4.084993       458.5116  \n",
      "1982-10-04       4.403022       372.8839       6.119847       441.2670  \n",
      "1982-10-05       4.743589       371.0161      10.667590       430.9001  \n",
      "1982-10-06       3.613402       372.7308      13.339480       425.5986  \n",
      "...                   ...            ...            ...            ...  \n",
      "2016-12-27      10.546220       347.1989       0.788829       374.4542  \n",
      "2016-12-28      10.569290       346.5004       0.786149       373.7992  \n",
      "2016-12-29      10.587600       346.5625       0.783223       373.6897  \n",
      "2016-12-30      10.602230       345.2052       0.780030       373.3807  \n",
      "2016-12-31      10.613740       344.2019       0.776684       372.4619  \n",
      "\n",
      "[12510 rows x 54 columns]>\n",
      "DF_OBSERVED:\n",
      "<bound method NDFrame.head of             QOMEAS_05AA024  QOMEAS_05AB046  QOMEAS_05AC003  QOMEAS_05AD007  \\\n",
      "1982-10-02           15.00             NaN           1.840            37.6   \n",
      "1982-10-03           14.80             NaN           1.840            39.6   \n",
      "1982-10-04           15.20             NaN           1.690            38.7   \n",
      "1982-10-05           15.00             NaN           1.580            37.6   \n",
      "1982-10-06           14.10             NaN           1.430            29.8   \n",
      "...                    ...             ...             ...             ...   \n",
      "2016-12-27            8.62             NaN           0.966            20.7   \n",
      "2016-12-28            8.64             NaN           1.010            22.0   \n",
      "2016-12-29            8.63             NaN           1.030            24.5   \n",
      "2016-12-30            8.64             NaN           1.030            25.5   \n",
      "2016-12-31            8.61             NaN           1.010            25.1   \n",
      "\n",
      "            QOMEAS_05AE006  QOMEAS_05AG006  QOMEAS_05AH005  QOMEAS_05AJ001  \\\n",
      "1982-10-02           10.70            31.2            1.75            85.4   \n",
      "1982-10-03           11.80            39.7            1.76            65.8   \n",
      "1982-10-04           11.30            41.9            1.65            60.9   \n",
      "1982-10-05            8.40            42.2            1.49            56.9   \n",
      "1982-10-06            3.12            42.4            1.44            59.2   \n",
      "...                    ...             ...             ...             ...   \n",
      "2016-12-27            9.80            21.7             NaN            82.6   \n",
      "2016-12-28            9.88            22.6             NaN            85.5   \n",
      "2016-12-29            9.89            24.3             NaN            86.4   \n",
      "2016-12-30            9.86            25.7             NaN            85.6   \n",
      "2016-12-31            9.82            25.8             NaN            83.5   \n",
      "\n",
      "            QOMEAS_05BA001  QOMEAS_05BB001  ...  QOMEAS_05GF002  \\\n",
      "1982-10-02            7.91            31.5  ...           0.890   \n",
      "1982-10-03            7.88            31.6  ...           0.873   \n",
      "1982-10-04            7.35            30.8  ...           1.010   \n",
      "1982-10-05            6.87            29.5  ...           0.918   \n",
      "1982-10-06            6.51            28.6  ...           0.943   \n",
      "...                    ...             ...  ...             ...   \n",
      "2016-12-27             NaN            11.7  ...             NaN   \n",
      "2016-12-28             NaN            12.2  ...             NaN   \n",
      "2016-12-29             NaN            11.8  ...             NaN   \n",
      "2016-12-30             NaN            11.5  ...             NaN   \n",
      "2016-12-31             NaN            11.2  ...             NaN   \n",
      "\n",
      "            QOMEAS_05GG001  QOMEAS_05HD039  QOMEAS_05HG001  QOMEAS_05KA001  \\\n",
      "1982-10-02           210.0            1.48           161.0           0.063   \n",
      "1982-10-03           197.0            1.36           162.0           0.065   \n",
      "1982-10-04           190.0            1.29           154.0           0.085   \n",
      "1982-10-05           180.0            1.31           147.0           0.116   \n",
      "1982-10-06           181.0            1.48           169.0           0.118   \n",
      "...                    ...             ...             ...             ...   \n",
      "2016-12-27           191.0            1.65           294.0             NaN   \n",
      "2016-12-28           197.0            1.67           291.0             NaN   \n",
      "2016-12-29           197.0            1.70           290.0             NaN   \n",
      "2016-12-30           189.0            1.70           291.0             NaN   \n",
      "2016-12-31           181.0            1.71           296.0             NaN   \n",
      "\n",
      "            QOMEAS_05KB003  QOMEAS_05KC001  QOMEAS_05KD003  QOMEAS_05KE002  \\\n",
      "1982-10-02           0.032            1.29           359.0            5.49   \n",
      "1982-10-03           0.038            1.16           209.0            6.50   \n",
      "1982-10-04           0.047            1.36           316.0            7.69   \n",
      "1982-10-05           0.040            1.57           351.0            9.33   \n",
      "1982-10-06           0.035            1.66           319.0           10.50   \n",
      "...                    ...             ...             ...             ...   \n",
      "2016-12-27             NaN             NaN           301.0             NaN   \n",
      "2016-12-28             NaN             NaN           424.0             NaN   \n",
      "2016-12-29             NaN             NaN           450.0             NaN   \n",
      "2016-12-30             NaN             NaN           413.0             NaN   \n",
      "2016-12-31             NaN             NaN           415.0             NaN   \n",
      "\n",
      "            QOMEAS_05KJ001  \n",
      "1982-10-02           345.0  \n",
      "1982-10-03           354.0  \n",
      "1982-10-04           416.0  \n",
      "1982-10-05           422.0  \n",
      "1982-10-06           382.0  \n",
      "...                    ...  \n",
      "2016-12-27           646.0  \n",
      "2016-12-28           628.0  \n",
      "2016-12-29           615.0  \n",
      "2016-12-30           603.0  \n",
      "2016-12-31           597.0  \n",
      "\n",
      "[12510 rows x 54 columns]>\n",
      "DF_DAILY:\n",
      "<bound method NDFrame.head of           QOMEAS_05AA024  QOSIM_05AA024  QOMEAS_05AB046  QOSIM_05AB046  \\\n",
      "1982/275           15.00      12.727950             NaN       2.151088   \n",
      "1982/276           14.80      12.070300             NaN       1.282258   \n",
      "1982/277           15.20      11.928440             NaN       0.864993   \n",
      "1982/278           15.00      11.873910             NaN       0.662052   \n",
      "1982/279           14.10      11.845160             NaN       0.560041   \n",
      "...                  ...            ...             ...            ...   \n",
      "2016/362            8.62       0.626161             NaN       0.426263   \n",
      "2016/363            8.64       0.619734             NaN       0.425050   \n",
      "2016/364            8.63       0.612944             NaN       0.423842   \n",
      "2016/365            8.64       0.606437             NaN       0.422638   \n",
      "2016/366            8.61       0.599758             NaN       0.421438   \n",
      "\n",
      "          QOMEAS_05AC003  QOSIM_05AC003  QOMEAS_05AD007  QOSIM_05AD007  \\\n",
      "1982/275           1.840       1.452520            37.6      41.470610   \n",
      "1982/276           1.840       1.230331            39.6      28.868720   \n",
      "1982/277           1.690       1.087916            38.7      23.806940   \n",
      "1982/278           1.580       0.993243            37.6      21.888450   \n",
      "1982/279           1.430       0.918875            29.8      21.085320   \n",
      "...                  ...            ...             ...            ...   \n",
      "2016/362           0.966       0.341739            20.7       6.993578   \n",
      "2016/363           1.010       0.339073            22.0       6.978570   \n",
      "2016/364           1.030       0.336443            24.5       6.963836   \n",
      "2016/365           1.030       0.333846            25.5       6.949335   \n",
      "2016/366           1.010       0.331275            25.1       6.935077   \n",
      "\n",
      "          QOMEAS_05AE006  QOSIM_05AE006  ...  QOMEAS_05KB003  QOSIM_05KB003  \\\n",
      "1982/275           10.70       7.882280  ...           0.032       0.292633   \n",
      "1982/276           11.80       7.821773  ...           0.038       0.331423   \n",
      "1982/277           11.30       7.813555  ...           0.047       0.408661   \n",
      "1982/278            8.40       7.810593  ...           0.040       0.496929   \n",
      "1982/279            3.12       7.807860  ...           0.035       0.571135   \n",
      "...                  ...            ...  ...             ...            ...   \n",
      "2016/362            9.80       2.704071  ...             NaN       1.966892   \n",
      "2016/363            9.88       2.704070  ...             NaN       1.962993   \n",
      "2016/364            9.89       2.704069  ...             NaN       1.959016   \n",
      "2016/365            9.86       2.704068  ...             NaN       1.954979   \n",
      "2016/366            9.82       2.704067  ...             NaN       1.950883   \n",
      "\n",
      "          QOMEAS_05KC001  QOSIM_05KC001  QOMEAS_05KD003  QOSIM_05KD003  \\\n",
      "1982/275            1.29       4.522949           359.0       378.7940   \n",
      "1982/276            1.16       4.225453           209.0       375.5247   \n",
      "1982/277            1.36       4.403022           316.0       372.8839   \n",
      "1982/278            1.57       4.743589           351.0       371.0161   \n",
      "1982/279            1.66       3.613402           319.0       372.7308   \n",
      "...                  ...            ...             ...            ...   \n",
      "2016/362             NaN      10.546220           301.0       347.1989   \n",
      "2016/363             NaN      10.569290           424.0       346.5004   \n",
      "2016/364             NaN      10.587600           450.0       346.5625   \n",
      "2016/365             NaN      10.602230           413.0       345.2052   \n",
      "2016/366             NaN      10.613740           415.0       344.2019   \n",
      "\n",
      "          QOMEAS_05KE002  QOSIM_05KE002  QOMEAS_05KJ001  QOSIM_05KJ001  \n",
      "1982/275            5.49       3.542509           345.0       471.4854  \n",
      "1982/276            6.50       4.084993           354.0       458.5116  \n",
      "1982/277            7.69       6.119847           416.0       441.2670  \n",
      "1982/278            9.33      10.667590           422.0       430.9001  \n",
      "1982/279           10.50      13.339480           382.0       425.5986  \n",
      "...                  ...            ...             ...            ...  \n",
      "2016/362             NaN       0.788829           646.0       374.4542  \n",
      "2016/363             NaN       0.786149           628.0       373.7992  \n",
      "2016/364             NaN       0.783223           615.0       373.6897  \n",
      "2016/365             NaN       0.780030           603.0       373.3807  \n",
      "2016/366             NaN       0.776684           597.0       372.4619  \n",
      "\n",
      "[12510 rows x 108 columns]>\n",
      "DF_WEEKLY:\n",
      "<bound method NDFrame.head of          QOMEAS_05AA024  QOSIM_05AA024  QOMEAS_05AB046  QOSIM_05AB046  \\\n",
      "1982.39           15.00      12.727950             NaN       2.151088   \n",
      "1982.40           14.10      11.845160             NaN       0.560041   \n",
      "1982.41           12.10      11.781770             NaN       0.425833   \n",
      "1982.42           11.60      11.775820             NaN       0.429528   \n",
      "1982.43           13.70      11.772950             NaN       0.391170   \n",
      "...                 ...            ...             ...            ...   \n",
      "2016.48           20.00       1.125952             NaN       0.657500   \n",
      "2016.49           10.00       0.815714             NaN       0.454647   \n",
      "2016.50            7.98       0.727756             NaN       0.442523   \n",
      "2016.51            8.67       0.670187             NaN       0.433636   \n",
      "2016.52            8.64       0.619734             NaN       0.425050   \n",
      "\n",
      "         QOMEAS_05AC003  QOSIM_05AC003  QOMEAS_05AD007  QOSIM_05AD007  \\\n",
      "1982.39           1.840       1.452520            37.6      41.470610   \n",
      "1982.40           1.430       0.918875            29.8      21.085320   \n",
      "1982.41           1.610       1.214604            33.5      20.208440   \n",
      "1982.42           1.660       1.050918            32.1      23.717010   \n",
      "1982.43           1.050       0.768808            38.3      23.732490   \n",
      "...                 ...            ...             ...            ...   \n",
      "2016.48           0.772       0.437891            77.4       9.306254   \n",
      "2016.49           0.525       0.411793            20.7       7.477931   \n",
      "2016.50           0.786       0.380498            16.7       7.232302   \n",
      "2016.51           0.969       0.358563            23.3       7.091391   \n",
      "2016.52           1.010       0.339073            22.0       6.978570   \n",
      "\n",
      "         QOMEAS_05AE006  QOSIM_05AE006  ...  QOMEAS_05KB003  QOSIM_05KB003  \\\n",
      "1982.39           10.70       7.882280  ...           0.032       0.292633   \n",
      "1982.40            3.93       7.807860  ...           0.035       0.571135   \n",
      "1982.41           11.30       7.786929  ...           0.015       0.640911   \n",
      "1982.42           11.00       7.725792  ...           0.024       0.372375   \n",
      "1982.43           17.60       7.645405  ...           0.025       0.269870   \n",
      "...                 ...            ...  ...             ...            ...   \n",
      "2016.48           33.00       2.835428  ...             NaN       1.661116   \n",
      "2016.49           27.30       2.704097  ...             NaN       1.765406   \n",
      "2016.50           17.10       2.704083  ...             NaN       1.877453   \n",
      "2016.51           12.40       2.704076  ...             NaN       1.955613   \n",
      "2016.52            9.82       2.704070  ...             NaN       1.962993   \n",
      "\n",
      "         QOMEAS_05KC001  QOSIM_05KC001  QOMEAS_05KD003  QOSIM_05KD003  \\\n",
      "1982.39           1.290       4.522949           359.0       378.7940   \n",
      "1982.40           1.470       3.613402           320.0       372.8839   \n",
      "1982.41           1.450       1.032362           324.0       379.9848   \n",
      "1982.42           1.010       0.791833           411.0       504.3695   \n",
      "1982.43           0.818       0.469238           433.0       431.6122   \n",
      "...                 ...            ...             ...            ...   \n",
      "2016.48             NaN       8.210376           355.0       347.5753   \n",
      "2016.49             NaN       8.990513           397.0       320.7221   \n",
      "2016.50             NaN       9.713207           311.0       354.4937   \n",
      "2016.51             NaN      10.266320           392.0       348.4049   \n",
      "2016.52             NaN      10.569290           413.0       346.5004   \n",
      "\n",
      "         QOMEAS_05KE002  QOSIM_05KE002  QOMEAS_05KJ001  QOSIM_05KJ001  \n",
      "1982.39            5.49       3.542509           345.0       471.4854  \n",
      "1982.40           10.50      11.802060           402.0       425.5986  \n",
      "1982.41            8.43      11.931270           379.0       413.4009  \n",
      "1982.42            7.75       8.498117           467.0       535.2514  \n",
      "1982.43            6.41       7.501717           396.0       502.5744  \n",
      "...                 ...            ...             ...            ...  \n",
      "2016.48             NaN       1.158121           870.0       411.8554  \n",
      "2016.49             NaN       0.928169           773.0       379.5824  \n",
      "2016.50             NaN       0.855713           721.0       374.0435  \n",
      "2016.51             NaN       0.809149           685.0       381.6831  \n",
      "2016.52             NaN       0.786149           628.0       373.7992  \n",
      "\n",
      "[1817 rows x 108 columns]>\n",
      "DF_MONTHLY:\n",
      "<bound method NDFrame.head of          QOMEAS_05AA024  QOSIM_05AA024  QOMEAS_05AB046  QOSIM_05AB046  \\\n",
      "1982-10           12.55      11.781685             NaN       0.426252   \n",
      "1982-11            7.10       9.690133             NaN       0.596541   \n",
      "1982-12            8.01       7.482031             NaN       0.371824   \n",
      "1983-01            7.55       6.890578             NaN       0.414047   \n",
      "1983-02            9.14       7.008301             NaN       0.344692   \n",
      "...                 ...            ...             ...            ...   \n",
      "2016-08           23.40      29.274960            2.41       0.955108   \n",
      "2016-09           25.25      21.760365            1.55       0.501222   \n",
      "2016-10           22.30      11.786810            1.43       0.468303   \n",
      "2016-11           26.05       9.706027            1.62       0.810403   \n",
      "2016-12            8.64       0.710190             NaN       0.439942   \n",
      "\n",
      "         QOMEAS_05AC003  QOSIM_05AC003  QOMEAS_05AD007  QOSIM_05AD007  \\\n",
      "1982-10          1.4000       0.954544           35.25      23.569985   \n",
      "1982-11          0.5765       0.464717           24.40      16.893095   \n",
      "1982-12          0.2690       0.325731           17.20      13.800360   \n",
      "1983-01          0.2845       0.257916           15.90      12.168250   \n",
      "1983-02          0.2850       0.203580           18.80      13.042730   \n",
      "...                 ...            ...             ...            ...   \n",
      "2016-08          2.1900       2.718297           30.30      65.866740   \n",
      "2016-09          1.6000       1.087516           31.80      51.581010   \n",
      "2016-10          0.9150       1.143493           69.10      21.501380   \n",
      "2016-11          1.0050       1.095849           93.60      18.518245   \n",
      "2016-12          0.8190       0.373896           21.90       7.186846   \n",
      "\n",
      "         QOMEAS_05AE006  QOSIM_05AE006  ...  QOMEAS_05KB003  QOSIM_05KB003  \\\n",
      "1982-10          11.300       7.770258  ...          0.0255       0.402391   \n",
      "1982-11          11.800       2.982034  ...          0.0250       0.202097   \n",
      "1982-12           5.600       2.772694  ...             NaN       0.165405   \n",
      "1983-01           3.100       2.566922  ...             NaN       0.141821   \n",
      "1983-02           3.225       2.765003  ...             NaN       0.124392   \n",
      "...                 ...            ...  ...             ...            ...   \n",
      "2016-08           6.750      34.645110  ...          3.2600       3.285414   \n",
      "2016-09           6.200      28.826085  ...          0.9945       2.169340   \n",
      "2016-10          18.300       4.329972  ...         27.7000       2.476255   \n",
      "2016-11          32.850       2.834658  ...             NaN       1.621185   \n",
      "2016-12          13.200       2.704082  ...             NaN       1.904964   \n",
      "\n",
      "         QOMEAS_05KC001  QOSIM_05KC001  QOMEAS_05KD003  QOSIM_05KD003  \\\n",
      "1982-10           1.155       0.902202           339.5      408.42900   \n",
      "1982-11           0.484       0.231377           249.0      356.13135   \n",
      "1982-12           0.335       0.179224           347.0      360.30270   \n",
      "1983-01           0.440       0.151452           450.0      350.42920   \n",
      "1983-02           0.534       0.132649           511.0      338.31940   \n",
      "...                 ...            ...             ...            ...   \n",
      "2016-08          12.100      10.273000           402.0      478.19260   \n",
      "2016-09           5.330       7.313683           500.0      509.97065   \n",
      "2016-10          82.300      24.455620           450.0      367.35700   \n",
      "2016-11             NaN       8.237603           430.5      394.66750   \n",
      "2016-12             NaN       9.893385           362.0      347.57530   \n",
      "\n",
      "         QOMEAS_05KE002  QOSIM_05KE002  QOMEAS_05KJ001  QOSIM_05KJ001  \n",
      "1982-10           7.720       8.629156           403.5      457.73130  \n",
      "1982-11           3.445       2.599055           378.0      384.98455  \n",
      "1982-12           1.430       2.047596           249.0      378.63060  \n",
      "1983-01           1.720       1.763164           400.0      367.59240  \n",
      "1983-02           1.200       1.526229           494.0      354.14920  \n",
      "...                 ...            ...             ...            ...  \n",
      "2016-08          14.600       1.694103           826.0      572.26650  \n",
      "2016-09           8.980       0.753589           933.0      599.15835  \n",
      "2016-10          31.300       9.642802           994.0      700.73580  \n",
      "2016-11             NaN      27.667635          1170.0      606.23715  \n",
      "2016-12             NaN       0.841328           708.0      377.82760  \n",
      "\n",
      "[411 rows x 108 columns]>\n",
      "DF_YEARLY:\n",
      "<bound method NDFrame.head of       QOMEAS_05AA024  QOSIM_05AA024  QOMEAS_05AB046  QOSIM_05AB046  \\\n",
      "1982           8.100       9.690128             NaN       0.426671   \n",
      "1983           9.260       7.020013             NaN       0.392217   \n",
      "1984           9.515       1.029158             NaN       0.344008   \n",
      "1985          16.100       9.839235             NaN       0.579885   \n",
      "1986          22.600      15.751400             NaN       0.575438   \n",
      "1987          15.300      12.224300             NaN       0.419744   \n",
      "1988           9.605       7.202101             NaN       0.398846   \n",
      "1989          18.900      11.999280             NaN       0.434959   \n",
      "1990          17.500      15.620090             NaN       0.443596   \n",
      "1991          21.200      13.596150             NaN       0.647467   \n",
      "1992          11.400      12.021690             NaN       0.807383   \n",
      "1993          19.500      21.046620             NaN       2.428928   \n",
      "1994          19.600      13.287010             NaN       1.177365   \n",
      "1995           7.230      19.255200             NaN       0.934942   \n",
      "1996          39.400      13.460255             NaN       0.841007   \n",
      "1997          24.500      12.152610             NaN       0.747514   \n",
      "1998          14.000      12.150860             NaN       1.323003   \n",
      "1999          24.200      11.931390           0.810       1.100474   \n",
      "2000          14.050      11.866785           0.600       0.695174   \n",
      "2001           9.800       0.748310           0.941       0.407040   \n",
      "2002          15.100      12.589070           2.400       1.212228   \n",
      "2003          13.900      12.073180           1.920       0.909680   \n",
      "2004          19.450      10.620990           2.060       0.868715   \n",
      "2005          36.400      20.491980           7.810       2.316591   \n",
      "2006          21.700      12.758510           3.650       1.474726   \n",
      "2007          27.600      12.018750           2.070       0.666718   \n",
      "2008          10.400      12.209780           2.300       0.656167   \n",
      "2009          18.000      12.623250           1.900       0.741253   \n",
      "2010          22.000      15.165130           4.930       0.961596   \n",
      "2011          20.600      18.207570           6.880       2.317081   \n",
      "2012          20.200      13.409560           2.185       1.140024   \n",
      "2013          20.200      16.816400           5.880       1.620739   \n",
      "2014          27.400      18.241400           9.010       3.340931   \n",
      "2015          22.700      11.912570           3.940       1.639516   \n",
      "2016          23.400      10.686800           1.595       0.723391   \n",
      "\n",
      "      QOMEAS_05AC003  QOSIM_05AC003  QOMEAS_05AD007  QOSIM_05AD007  \\\n",
      "1982           1.340       0.459247           24.00      16.880190   \n",
      "1983           1.010       0.406541           17.40      16.274730   \n",
      "1984           0.841       0.503092           13.00      13.586935   \n",
      "1985           1.180       0.713576           20.40      48.449800   \n",
      "1986           1.230       0.695862           30.80      55.267720   \n",
      "1987           1.120       0.648597           27.90      28.789590   \n",
      "1988           1.140       0.508602           10.70      15.204500   \n",
      "1989           1.080       0.658679           30.00      37.860250   \n",
      "1990           0.865       0.576663           37.00      54.566320   \n",
      "1991           1.130       0.647388           36.00      31.394840   \n",
      "1992           1.010       0.690580           19.70      24.681225   \n",
      "1993           2.220       1.362840           55.60      55.006420   \n",
      "1994           1.040       1.100184           29.00      35.623750   \n",
      "1995           1.390       0.925618           52.90      41.719030   \n",
      "1996           1.280       0.920182           47.70      35.489570   \n",
      "1997           1.280       0.930239           37.10      26.478790   \n",
      "1998           1.440       1.563804           28.60      23.846200   \n",
      "1999           1.220       1.175616           40.40      35.922680   \n",
      "2000           0.977       0.809566           23.30      27.417230   \n",
      "2001           0.582       0.437083           18.90      11.099090   \n",
      "2002           1.080       0.926014           33.50      39.243110   \n",
      "2003           1.040       0.946091           22.40      24.679120   \n",
      "2004           1.100       0.727256           26.50      24.938475   \n",
      "2005           2.240       2.997643           50.00      42.876260   \n",
      "2006           2.030       2.089316           40.70      39.869400   \n",
      "2007           1.780       1.043413           24.80      22.815570   \n",
      "2008           1.785       1.043637           24.90      22.113765   \n",
      "2009           1.440       1.214623           29.60      27.563480   \n",
      "2010           1.580       1.073973           51.50      39.039100   \n",
      "2011           2.820       1.747315           42.80      47.871960   \n",
      "2012           2.040       1.353233           31.65      31.981080   \n",
      "2013           1.700       1.197209           45.90      33.837220   \n",
      "2014           3.420       1.921280           54.40      41.354490   \n",
      "2015           2.200       1.441215           32.30      37.024280   \n",
      "2016           1.680       1.115158           29.85      18.894850   \n",
      "\n",
      "      QOMEAS_05AE006  QOSIM_05AE006  ...  QOMEAS_05KB003  QOSIM_05KB003  \\\n",
      "1982           8.500       2.981952  ...          0.0255       0.201364   \n",
      "1983           3.010       6.896138  ...          0.2690       0.204290   \n",
      "1984           1.560       6.935911  ...          2.3300       0.232749   \n",
      "1985           2.080      24.600540  ...          0.5100       0.278154   \n",
      "1986           4.810      16.955670  ...          0.4580       0.185452   \n",
      "1987           3.190       8.916601  ...          0.0975       0.093876   \n",
      "1988           1.895       4.800737  ...          1.1800       0.073451   \n",
      "1989           2.880      10.315860  ...          0.0275       0.084013   \n",
      "1990           4.900      22.032800  ...          0.1710       0.026772   \n",
      "1991           6.020       8.832099  ...          0.0355       0.110704   \n",
      "1992           4.510       6.689548  ...          0.4900       0.125286   \n",
      "1993           9.730      11.436080  ...          0.1515       0.125846   \n",
      "1994           5.620       8.039405  ...          0.7670       0.125744   \n",
      "1995          10.200       9.067405  ...          0.0935       0.109080   \n",
      "1996          11.400       8.794372  ...          0.2935       0.097280   \n",
      "1997           6.360       8.034635  ...          0.0780       0.076253   \n",
      "1998           4.530       6.462342  ...          0.3280       0.127561   \n",
      "1999           6.880       8.929443  ...          0.0720       0.120950   \n",
      "2000           4.405       7.279333  ...          0.2810       0.265941   \n",
      "2001           3.460       6.706173  ...          0.0845       0.179525   \n",
      "2002           4.880       9.324618  ...             NaN       0.098554   \n",
      "2003           4.220       6.981831  ...          0.5810       0.112111   \n",
      "2004           3.705       8.308174  ...          0.2490       0.158294   \n",
      "2005           5.000       8.462247  ...          2.1500       0.678548   \n",
      "2006           6.160       6.541018  ...          7.5350       1.826833   \n",
      "2007           5.140       6.456056  ...          3.9500       1.549033   \n",
      "2008           5.120       7.773023  ...          0.1370       0.383769   \n",
      "2009           5.080       7.492918  ...          0.0405       0.255214   \n",
      "2010           8.900       8.495247  ...         15.1000       1.810944   \n",
      "2011          11.100       9.045672  ...          2.5300       5.882542   \n",
      "2012           5.245       8.393142  ...          4.4000       1.746962   \n",
      "2013           6.640       7.645063  ...          1.3900       7.301748   \n",
      "2014          10.100       8.259694  ...          3.9000       3.956249   \n",
      "2015           7.600       5.056254  ...          3.5900       2.305522   \n",
      "2016           6.340       4.098668  ...          4.2500       1.916900   \n",
      "\n",
      "      QOMEAS_05KC001  QOSIM_05KC001  QOMEAS_05KD003  QOSIM_05KD003  \\\n",
      "1982          0.4780       0.229662           330.0      363.63990   \n",
      "1983          1.4500       0.392425           335.0      336.38310   \n",
      "1984          0.7835       0.328440           243.0      298.40090   \n",
      "1985          1.5800       0.373633           234.0      327.46850   \n",
      "1986          0.6880       0.251759           448.0      378.30120   \n",
      "1987          0.6320       0.264848           341.0      330.60570   \n",
      "1988          0.3540       0.163256           214.5      289.46600   \n",
      "1989          0.7090       0.149692           305.0      338.89580   \n",
      "1990          0.3880       0.068331           480.0      349.60420   \n",
      "1991          0.3530       0.179585           502.0      380.03370   \n",
      "1992          0.3425       0.260738           302.0      342.31245   \n",
      "1993          1.2300       1.501832           425.0      356.09480   \n",
      "1994          0.5270       0.886938           379.0      334.98660   \n",
      "1995          0.6340       0.906737           444.0      342.81740   \n",
      "1996          0.4735       1.441464           497.5      341.07235   \n",
      "1997          0.5980       1.161972           418.0      351.51020   \n",
      "1998          0.8360       0.479965           369.0      334.97010   \n",
      "1999          0.7780       0.891569           450.0      363.80110   \n",
      "2000          1.8850       0.899111           337.0      344.33035   \n",
      "2001          0.4010       0.346800           221.0      260.66210   \n",
      "2002          0.3140       0.151167           270.0      319.67370   \n",
      "2003          0.3140       0.250427           329.0      313.33230   \n",
      "2004          3.6750       1.550642           295.0      344.76265   \n",
      "2005          8.2600       3.241608           554.0      422.36130   \n",
      "2006         13.6500       9.393910           422.0      359.35130   \n",
      "2007          6.4000       6.386568           446.0      378.29780   \n",
      "2008          1.3800       0.990868           392.5      362.40940   \n",
      "2009          3.1450       0.473700           312.0      321.67800   \n",
      "2010         24.1000       7.343875           416.0      369.20010   \n",
      "2011          3.2600      13.715920           492.0      388.10660   \n",
      "2012         11.4000       3.500670           443.0      379.39900   \n",
      "2013          3.0200       9.480415           473.0      389.02890   \n",
      "2014          5.9400       6.812693           492.0      441.04000   \n",
      "2015          5.9100       4.278202           354.0      389.91820   \n",
      "2016         15.3000       7.677731           400.0      355.43960   \n",
      "\n",
      "      QOMEAS_05KE002  QOSIM_05KE002  QOMEAS_05KJ001  QOSIM_05KJ001  \n",
      "1982           3.360       2.584782           354.0      387.57200  \n",
      "1983           4.240       1.638214           457.0      371.38380  \n",
      "1984           3.770       1.323345           363.5      344.39260  \n",
      "1985           4.890       1.196561           415.0      369.18800  \n",
      "1986           3.150       0.450367           566.0      459.92800  \n",
      "1987           4.030       0.409925           422.0      352.30090  \n",
      "1988           1.745       0.283293           272.0      314.50735  \n",
      "1989           1.350       0.181069           365.0      367.43220  \n",
      "1990           1.020       0.111598           475.0      354.07640  \n",
      "1991           1.190       0.202983           500.0      403.77990  \n",
      "1992           1.420       0.286106           373.5      347.91335  \n",
      "1993           3.000       0.632282           467.0      388.15030  \n",
      "1994           3.080       0.471423           480.0      347.03070  \n",
      "1995           2.270       0.460087           596.0      354.49310  \n",
      "1996           5.845       0.397986           560.0      396.83490  \n",
      "1997           3.100       0.569430           550.0      396.64610  \n",
      "1998           2.020       0.360833           506.0      345.88780  \n",
      "1999           9.125       0.411004           494.0      372.53920  \n",
      "2000          11.500       0.864576           386.0      357.06220  \n",
      "2001           3.215       0.367254           310.0      313.09980  \n",
      "2002           2.250       0.173297           329.0      353.56920  \n",
      "2003           2.345       0.257551           390.0      328.53950  \n",
      "2004          17.500       1.817552           456.0      375.95040  \n",
      "2005          36.000       4.352971           909.0      542.09940  \n",
      "2006          22.900       1.950773           632.0      404.38660  \n",
      "2007          11.000       1.455027           565.0      423.44730  \n",
      "2008           4.440       0.562881           467.0      384.07740  \n",
      "2009           9.300       0.699246           424.0      343.89520  \n",
      "2010          19.600       2.135620           708.0      460.95100  \n",
      "2011          23.200       1.113893           708.0      456.70450  \n",
      "2012          11.400       1.929992           663.0      496.03225  \n",
      "2013           8.985       0.916149           589.0      423.13550  \n",
      "2014          16.800       1.107711           617.0      469.67280  \n",
      "2015          17.800       0.884413           471.0      438.65060  \n",
      "2016          14.900       1.010725           763.0      455.09350  \n",
      "\n",
      "[35 rows x 108 columns]>\n"
     ]
    }
   ],
   "source": [
    "# passing a controlled csv file for testing\n",
    "path = 'MESH_output_streamflow_3.csv'\n",
    "\n",
    "DATAFRAMES = data.generate_dataframes(csv_fpath=path, warm_up=365, start_date = \"1981-10-01\", end_date = \"2017-12-31\",\n",
    "#                                       # optional arguments\n",
    "#                                       # lets see a weekly aggregation\n",
    "                                      daily_agg = True, da_method = 'median',\n",
    "#                                       # lets see a weekly aggregation\n",
    "                                      weekly_agg = True, wa_method = 'median',\n",
    "#                                       # lets also see monthly aggregation\n",
    "                                      monthly_agg = True, ma_method = 'median',\n",
    "#                                       # lets also see yearly aggregation\n",
    "                                      yearly_agg = True, ya_method = 'median',\n",
    "#                                       # note that without inputing the respective methods,\n",
    "#                                       # the functions default to mean as the method of aggregation\n",
    "#                                       seasonal_p = True, sp_dperiod = ('03-01', '08-30'),\n",
    "#                                       sp_subset = ('1981-01-01', '2017-12-31')    # YYYY-MM-DD\n",
    "                                     )\n",
    "for key, value in DATAFRAMES.items():\n",
    "    print(f\"{key}\")\n",
    "for key, value in DATAFRAMES.items():\n",
    "    print(f\"{key}:\\n{value.head}\")"
   ]
  },
  {
   "cell_type": "code",
   "execution_count": 26,
   "id": "f2163b01",
   "metadata": {},
   "outputs": [
    {
     "data": {
      "image/png": "[encoded data removed]",
      "text/plain": [
       "<Figure size 1000x600 with 1 Axes>"
      ]
     },
     "metadata": {},
     "output_type": "display_data"
    },
    {
     "data": {
      "image/png": "[encoded data removed]",
      "text/plain": [
       "<Figure size 1000x600 with 1 Axes>"
      ]
     },
     "metadata": {},
     "output_type": "display_data"
    },
    {
     "data": {
      "image/png": "[encoded data removed]",
      "text/plain": [
       "<Figure size 1000x600 with 1 Axes>"
      ]
     },
     "metadata": {},
     "output_type": "display_data"
    },
    {
     "data": {
      "image/png": "[encoded data removed]",
      "text/plain": [
       "<Figure size 1000x600 with 1 Axes>"
      ]
     },
     "metadata": {},
     "output_type": "display_data"
    }
   ],
   "source": [
    "visuals.plot(\n",
    "    df = DATAFRAMES[\"DF_SIMULATED\"].iloc[:, [0]]['1985-01-01':'1990-12-31'],\n",
    "    title='Daily Aggregation',\n",
    "    grid=True,\n",
    "#     save=True, save_as='d', dir='../',\n",
    "#     metrices = 'all'\n",
    ")\n",
    "\n",
    "visuals.plot(\n",
    "    df = DATAFRAMES[\"DF_WEEKLY\"].iloc[:, [1]]['1985-01-01':'1991-12-31'],\n",
    "    title='Weekly Aggregation',\n",
    "    grid=True,\n",
    "#     save=True, save_as='we', dir='../',\n",
    "#     metrices = 'all'\n",
    ")\n",
    "\n",
    "visuals.plot(\n",
    "    df = DATAFRAMES[\"DF_MONTHLY\"].iloc[:, [1]]['1985-01-01':'1990-12-31'],\n",
    "    title='Monthly Aggregation',\n",
    "    grid=True,\n",
    "#     save=True, save_as='m', dir='../',\n",
    "#     metrices = 'all'\n",
    ")\n",
    "\n",
    "visuals.plot(\n",
    "    df = DATAFRAMES[\"DF_YEARLY\"].iloc[:, [1]]['1985-01-01':'1995-12-31'],\n",
    "    title='Yearly Aggregation',\n",
    "    grid=True,\n",
    "#     save=True, save_as='y', dir='../',\n",
    "#     metrices = 'all'\n",
    ")"
   ]
  },
  {
   "cell_type": "code",
   "execution_count": 23,
   "id": "f78120c3",
   "metadata": {},
   "outputs": [],
   "source": [
    "# importing matplotlib module \n",
    "import matplotlib.pyplot as plt \n",
    "import matplotlib.dates as mdates\n",
    "import datetime\n",
    "# plt.style.use('default') "
   ]
  },
  {
   "cell_type": "code",
   "execution_count": 24,
   "id": "05af8dcb",
   "metadata": {},
   "outputs": [],
   "source": [
    "# Ensure the index is datetime\n",
    "DATAFRAMES[\"DF_SIMULATED\"].index = pd.to_datetime(DATAFRAMES[\"DF_SIMULATED\"].index)\n",
    "DATAFRAMES[\"DF_WEEKLY\"].index = [pd.to_datetime(f\"{int(float(week))}-W{int((float(week) - int(float(week))) * 100):02d}-1\", format=\"%Y-W%U-%w\") for week in DATAFRAMES[\"DF_WEEKLY\"].index]\n",
    "DATAFRAMES[\"DF_MONTHLY\"].index = [pd.to_datetime(f\"{month}-15\") for month in DATAFRAMES[\"DF_MONTHLY\"].index]\n",
    "DATAFRAMES[\"DF_YEARLY\"].index = [pd.Timestamp(f\"{year}-07-15\") for year in DATAFRAMES[\"DF_YEARLY\"].index]\n",
    "\n",
    "# def convert_fractional_year_to_datetime(fractional_year):\n",
    "#     # Ensure the fractional year is a float\n",
    "#     fractional_year = float(fractional_year)\n",
    "    \n",
    "#     # Extract the year (integer part) and the fractional part\n",
    "#     year = int(fractional_year)  # Get the year from the integer part\n",
    "#     week_fraction = fractional_year - year  # Get the fractional part (0.0-1.0)\n",
    "    \n",
    "#     # Convert the fractional part to a week number (assuming 52 weeks per year)\n",
    "#     week = int(week_fraction * 52)  # Convert fractional part to week number (0-52)\n",
    "    \n",
    "#     # Create a datetime object from the year and week number\n",
    "#     # This creates the datetime object for the first day of the given week\n",
    "#     return pd.to_datetime(f\"{year}-W{week:02d}-1\", format=\"%Y-W%U-%w\")\n",
    "\n",
    "# DATAFRAMES[\"DF_WEEKLY\"].index = [convert_fractional_year_to_datetime(year) for year in DATAFRAMES[\"DF_WEEKLY\"].index]"
   ]
  },
  {
   "cell_type": "code",
   "execution_count": 25,
   "id": "9b67117e",
   "metadata": {},
   "outputs": [
    {
     "data": {
      "text/plain": [
       "<Figure size 3600x1500 with 0 Axes>"
      ]
     },
     "metadata": {},
     "output_type": "display_data"
    },
    {
     "data": {
      "image/png": "[encoded data removed]",
      "text/plain": [
       "<Figure size 640x480 with 1 Axes>"
      ]
     },
     "metadata": {},
     "output_type": "display_data"
    }
   ],
   "source": [
    "# to set the plot size \n",
    "plt.figure(figsize=(24, 10), dpi=150) \n",
    "  \n",
    "# using plot method to plot open prices. \n",
    "# in plot method we set the label and color of the curve. \n",
    "ax = DATAFRAMES[\"DF_SIMULATED\"].iloc[:, [0]]['1986-01-01':'1990-12-31'].plot(color='red') \n",
    "DATAFRAMES[\"DF_WEEKLY\"].iloc[:, [1]]['1986-01-01':'1990-12-31'].plot(ax=ax, color='blue')\n",
    "DATAFRAMES[\"DF_MONTHLY\"].iloc[:, [1]]['1986-01-01':'1990-12-31'].plot(ax=ax, color='cyan') \n",
    "DATAFRAMES[\"DF_YEARLY\"].iloc[:, [1]]['1986-01-01':'1990-12-31'].plot(ax=ax, linestyle='None', marker='o', color='black', markersize=4) \n",
    "  \n",
    "# adding title to the plot \n",
    "plt.title('Aggregation comparison') \n",
    "  \n",
    "# adding Label to the x-axis \n",
    "plt.xlabel('Time Series') \n",
    "\n",
    "# adding Label to the x-axis \n",
    "plt.ylabel('Streamflow(m/s^3)')\n",
    "  \n",
    "# adding legend to the curve \n",
    "plt.legend(labels=['Daily', 'Weekly', 'Monthly', 'Yearly'])\n",
    "\n",
    "# Format the x-axis to show dates in a readable format\n",
    "ax.xaxis.set_major_locator(mdates.YearLocator(1))  # Set major ticks to each year\n",
    "ax.xaxis.set_major_formatter(mdates.DateFormatter('%Y'))  # Format the date to show the year\n",
    "\n",
    "# Rotate the x-axis labels for readability\n",
    "# plt.xticks(rotation=45)\n",
    "\n",
    "plt.grid()"
   ]
  },
  {
   "cell_type": "code",
   "execution_count": 33,
   "id": "556abe52",
   "metadata": {},
   "outputs": [],
   "source": [
    "time = ['1982.52', '1982.53', '1965.45', '1988.00']\n",
    "test = [pd.to_datetime(f\"{int(float(week))}-W{int((float(week) - int(float(week))) * 100):02d}-3\", format=\"%Y-W%U-%w\") for week in time]"
   ]
  },
  {
   "cell_type": "code",
   "execution_count": 34,
   "id": "e83eef53",
   "metadata": {},
   "outputs": [
    {
     "data": {
      "text/plain": [
       "[Timestamp('1982-12-22 00:00:00'),\n",
       " Timestamp('1982-12-29 00:00:00'),\n",
       " Timestamp('1965-11-10 00:00:00'),\n",
       " Timestamp('1988-01-01 00:00:00')]"
      ]
     },
     "execution_count": 34,
     "metadata": {},
     "output_type": "execute_result"
    }
   ],
   "source": [
    "test"
   ]
  },
  {
   "cell_type": "code",
   "execution_count": 6,
   "id": "88a5602d",
   "metadata": {},
   "outputs": [
    {
     "name": "stdout",
     "output_type": "stream",
     "text": [
      "1982\n"
     ]
    }
   ],
   "source": [
    "print(DATAFRAMES['DF_YEARLY'].index[0])"
   ]
  },
  {
   "cell_type": "code",
   "execution_count": 27,
   "id": "10cb83f2",
   "metadata": {},
   "outputs": [
    {
     "data": {
      "text/plain": [
       "45.00000000000455"
      ]
     },
     "execution_count": 27,
     "metadata": {},
     "output_type": "execute_result"
    }
   ],
   "source": [
    "(float('1982.45')-int(float('1982.45'))) *100"
   ]
  },
  {
   "cell_type": "code",
   "execution_count": null,
   "id": "0b0338e3",
   "metadata": {},
   "outputs": [],
   "source": []
  }
 ],
 "metadata": {
  "kernelspec": {
   "display_name": "Python 3 (ipykernel)",
   "language": "python",
   "name": "python3"
  },
  "language_info": {
   "codemirror_mode": {
    "name": "ipython",
    "version": 3
   },
   "file_extension": ".py",
   "mimetype": "text/x-python",
   "name": "python",
   "nbconvert_exporter": "python",
   "pygments_lexer": "ipython3",
   "version": "3.11.9"
  },
  "widgets": {
   "application/vnd.jupyter.widget-state+json": {
    "state": {
     "01fd6d9c6cad401abe54f3aa28aad6b7": {
      "model_module": "@jupyter-widgets/base",
      "model_module_version": "2.0.0",
      "model_name": "LayoutModel",
      "state": {}
     },
     "05beb67dcf94427899bde7e8cd786482": {
      "model_module": "@jupyter-widgets/controls",
      "model_module_version": "2.0.0",
      "model_name": "ComboboxModel",
      "state": {
       "description": "Combobox:",
       "ensure_option": true,
       "layout": "IPY_MODEL_0e95ac20d46647a481e17ae48810ee21",
       "options": [
        "Paul",
        "John",
        "George",
        "Ringo"
       ],
       "placeholder": "Choose Someone",
       "style": "IPY_MODEL_5ff57f9503ec4a9db51716f4ff48f31f"
      }
     },
     "0c65255fb21b41ee9b87be112bf93f95": {
      "model_module": "@jupyter-widgets/base",
      "model_module_version": "2.0.0",
      "model_name": "LayoutModel",
      "state": {}
     },
     "0e95ac20d46647a481e17ae48810ee21": {
      "model_module": "@jupyter-widgets/base",
      "model_module_version": "2.0.0",
      "model_name": "LayoutModel",
      "state": {}
     },
     "29643db66ea44e839a1ed82687118610": {
      "model_module": "@jupyter-widgets/output",
      "model_module_version": "1.0.0",
      "model_name": "OutputModel",
      "state": {
       "layout": "IPY_MODEL_ce4b703e32a04f819265d8100efde752",
       "outputs": [
        {
         "name": "stdout",
         "output_type": "stream",
         "text": "\n\n\n"
        }
       ]
      }
     },
     "2ba9dc412dda427ab4a6d314a8652348": {
      "model_module": "@jupyter-widgets/base",
      "model_module_version": "2.0.0",
      "model_name": "LayoutModel",
      "state": {}
     },
     "399beafc12a64a8193001ae5ec7ef941": {
      "model_module": "@jupyter-widgets/controls",
      "model_module_version": "2.0.0",
      "model_name": "VBoxModel",
      "state": {
       "_dom_classes": [
        "widget-interact"
       ],
       "children": [
        "IPY_MODEL_5369e4452e9247b295da925c94f75ffc",
        "IPY_MODEL_8d14ed96a2d84d89bba4a944967e6d45",
        "IPY_MODEL_cc0c8a9379744255b3a3e6d7497e7b3e",
        "IPY_MODEL_8ae6159752864a8680dc8ed8ed1eee2b"
       ],
       "layout": "IPY_MODEL_aa256992f7694954b920f8dcd7126909"
      }
     },
     "4ba5e97ea94b4f2a83d2fbcfc34120b6": {
      "model_module": "@jupyter-widgets/base",
      "model_module_version": "2.0.0",
      "model_name": "LayoutModel",
      "state": {}
     },
     "4d4d020a62914c93985c494be6739fc6": {
      "model_module": "@jupyter-widgets/controls",
      "model_module_version": "2.0.0",
      "model_name": "ComboboxModel",
      "state": {
       "description": "Combobox:",
       "ensure_option": true,
       "layout": "IPY_MODEL_4ba5e97ea94b4f2a83d2fbcfc34120b6",
       "options": [
        "Paul",
        "John",
        "George",
        "Ringo"
       ],
       "placeholder": "Choose Someone",
       "style": "IPY_MODEL_ff8e76ecc6ad4b9f908ec8036c7149b2"
      }
     },
     "5369e4452e9247b295da925c94f75ffc": {
      "model_module": "@jupyter-widgets/controls",
      "model_module_version": "2.0.0",
      "model_name": "ToggleButtonsModel",
      "state": {
       "_options_labels": [
        "Not Included",
        "Included",
        "Favorite"
       ],
       "button_style": "",
       "description": "choice1",
       "icons": [],
       "index": 0,
       "layout": "IPY_MODEL_2ba9dc412dda427ab4a6d314a8652348",
       "style": "IPY_MODEL_cb20186aca564d7faeaf6cbcee45ce0d",
       "tooltips": []
      }
     },
     "58aacec898fa4098a9db90d7fc0bef74": {
      "model_module": "@jupyter-widgets/controls",
      "model_module_version": "2.0.0",
      "model_name": "TextStyleModel",
      "state": {
       "description_width": "",
       "font_size": null,
       "text_color": null
      }
     },
     "5d476058d03540bd83aed85989607be3": {
      "model_module": "@jupyter-widgets/controls",
      "model_module_version": "2.0.0",
      "model_name": "DescriptionStyleModel",
      "state": {
       "description_width": ""
      }
     },
     "5ff57f9503ec4a9db51716f4ff48f31f": {
      "model_module": "@jupyter-widgets/controls",
      "model_module_version": "2.0.0",
      "model_name": "TextStyleModel",
      "state": {
       "description_width": "",
       "font_size": null,
       "text_color": null
      }
     },
     "70fad96799aa4ca0a8ba72ff08c2f64a": {
      "model_module": "@jupyter-widgets/controls",
      "model_module_version": "2.0.0",
      "model_name": "ComboboxModel",
      "state": {
       "description": "choice2",
       "ensure_option": true,
       "layout": "IPY_MODEL_0c65255fb21b41ee9b87be112bf93f95",
       "options": [
        "Not Included",
        "Included",
        "Favorite"
       ],
       "placeholder": "Choose Someone",
       "style": "IPY_MODEL_8b3cef81d1d744d98cbb8d157160743a"
      }
     },
     "76be316692b441b9aaeb77ffc28633ba": {
      "model_module": "@jupyter-widgets/base",
      "model_module_version": "2.0.0",
      "model_name": "LayoutModel",
      "state": {}
     },
     "7989b76e4fbe4735afba0094fe29966e": {
      "model_module": "@jupyter-widgets/base",
      "model_module_version": "2.0.0",
      "model_name": "LayoutModel",
      "state": {}
     },
     "7b84300fae1242079118ccee1f5c6cdc": {
      "model_module": "@jupyter-widgets/base",
      "model_module_version": "2.0.0",
      "model_name": "LayoutModel",
      "state": {}
     },
     "8ae6159752864a8680dc8ed8ed1eee2b": {
      "model_module": "@jupyter-widgets/output",
      "model_module_version": "1.0.0",
      "model_name": "OutputModel",
      "state": {
       "layout": "IPY_MODEL_76be316692b441b9aaeb77ffc28633ba",
       "outputs": [
        {
         "name": "stdout",
         "output_type": "stream",
         "text": "Not Included\nNot Included\nNot Included\n"
        }
       ]
      }
     },
     "8b3cef81d1d744d98cbb8d157160743a": {
      "model_module": "@jupyter-widgets/controls",
      "model_module_version": "2.0.0",
      "model_name": "TextStyleModel",
      "state": {
       "description_width": "",
       "font_size": null,
       "text_color": null
      }
     },
     "8d14ed96a2d84d89bba4a944967e6d45": {
      "model_module": "@jupyter-widgets/controls",
      "model_module_version": "2.0.0",
      "model_name": "ToggleButtonsModel",
      "state": {
       "_options_labels": [
        "Not Included",
        "Included",
        "Favorite"
       ],
       "button_style": "",
       "description": "choice2",
       "icons": [],
       "index": 0,
       "layout": "IPY_MODEL_7b84300fae1242079118ccee1f5c6cdc",
       "style": "IPY_MODEL_dfcb158c677d41d0bcf217f2540a9208",
       "tooltips": []
      }
     },
     "8eb7a8148be7403b87817d0056bab5d5": {
      "model_module": "@jupyter-widgets/controls",
      "model_module_version": "2.0.0",
      "model_name": "ComboboxModel",
      "state": {
       "description": "choice1",
       "ensure_option": true,
       "layout": "IPY_MODEL_01fd6d9c6cad401abe54f3aa28aad6b7",
       "options": [
        "Not Included",
        "Included",
        "Favorite"
       ],
       "placeholder": "Choose Someone",
       "style": "IPY_MODEL_58aacec898fa4098a9db90d7fc0bef74"
      }
     },
     "a13fedeaba944bf0bf0b481bf2182d3a": {
      "model_module": "@jupyter-widgets/base",
      "model_module_version": "2.0.0",
      "model_name": "LayoutModel",
      "state": {}
     },
     "aa256992f7694954b920f8dcd7126909": {
      "model_module": "@jupyter-widgets/base",
      "model_module_version": "2.0.0",
      "model_name": "LayoutModel",
      "state": {}
     },
     "ab789ad39e9f44cb97863f71defe0ba6": {
      "model_module": "@jupyter-widgets/base",
      "model_module_version": "2.0.0",
      "model_name": "LayoutModel",
      "state": {}
     },
     "b7c18009d2ad4627b4d2b64a09dd85e7": {
      "model_module": "@jupyter-widgets/controls",
      "model_module_version": "2.0.0",
      "model_name": "RadioButtonsModel",
      "state": {
       "_options_labels": [
        "QOMEAS_05BB001",
        "QOMEAS_05BA001"
       ],
       "description": "Stations:",
       "index": 0,
       "layout": "IPY_MODEL_ab789ad39e9f44cb97863f71defe0ba6",
       "style": "IPY_MODEL_5d476058d03540bd83aed85989607be3"
      }
     },
     "c81051665ae04a00855666edee3a2547": {
      "model_module": "@jupyter-widgets/controls",
      "model_module_version": "2.0.0",
      "model_name": "DropdownModel",
      "state": {
       "_options_labels": [
        "QOMEAS_05BB001",
        "QOMEAS_05BA001"
       ],
       "description": "Station:",
       "index": 0,
       "layout": "IPY_MODEL_a13fedeaba944bf0bf0b481bf2182d3a",
       "style": "IPY_MODEL_cc673e0984ec450f8cf6548bdc98f7d6"
      }
     },
     "cb20186aca564d7faeaf6cbcee45ce0d": {
      "model_module": "@jupyter-widgets/controls",
      "model_module_version": "2.0.0",
      "model_name": "ToggleButtonsStyleModel",
      "state": {
       "button_width": "",
       "description_width": "300px"
      }
     },
     "cb63420e07ea43a3b83642d668076c5e": {
      "model_module": "@jupyter-widgets/controls",
      "model_module_version": "2.0.0",
      "model_name": "TextStyleModel",
      "state": {
       "description_width": "",
       "font_size": null,
       "text_color": null
      }
     },
     "cc0c8a9379744255b3a3e6d7497e7b3e": {
      "model_module": "@jupyter-widgets/controls",
      "model_module_version": "2.0.0",
      "model_name": "ToggleButtonsModel",
      "state": {
       "_options_labels": [
        "Not Included",
        "Included",
        "Favorite"
       ],
       "button_style": "",
       "description": "choice3",
       "icons": [],
       "index": 0,
       "layout": "IPY_MODEL_7989b76e4fbe4735afba0094fe29966e",
       "style": "IPY_MODEL_cf6b5af89d3541ba91d7f05b4c247418",
       "tooltips": []
      }
     },
     "cc673e0984ec450f8cf6548bdc98f7d6": {
      "model_module": "@jupyter-widgets/controls",
      "model_module_version": "2.0.0",
      "model_name": "DescriptionStyleModel",
      "state": {
       "description_width": ""
      }
     },
     "ce4b703e32a04f819265d8100efde752": {
      "model_module": "@jupyter-widgets/base",
      "model_module_version": "2.0.0",
      "model_name": "LayoutModel",
      "state": {}
     },
     "cf6b5af89d3541ba91d7f05b4c247418": {
      "model_module": "@jupyter-widgets/controls",
      "model_module_version": "2.0.0",
      "model_name": "ToggleButtonsStyleModel",
      "state": {
       "button_width": "",
       "description_width": "300px"
      }
     },
     "d00815ddbe2c4d26916edb8fdc5fae90": {
      "model_module": "@jupyter-widgets/controls",
      "model_module_version": "2.0.0",
      "model_name": "VBoxModel",
      "state": {
       "_dom_classes": [
        "widget-interact"
       ],
       "children": [
        "IPY_MODEL_8eb7a8148be7403b87817d0056bab5d5",
        "IPY_MODEL_70fad96799aa4ca0a8ba72ff08c2f64a",
        "IPY_MODEL_faf461f7e24b454fa2d70e011823d890",
        "IPY_MODEL_29643db66ea44e839a1ed82687118610"
       ],
       "layout": "IPY_MODEL_f9ed9c2dc0df4a42a5de8428cf7dedf6"
      }
     },
     "d27555baee154d87a3711d1f5f27a5ff": {
      "model_module": "@jupyter-widgets/base",
      "model_module_version": "2.0.0",
      "model_name": "LayoutModel",
      "state": {}
     },
     "dfcb158c677d41d0bcf217f2540a9208": {
      "model_module": "@jupyter-widgets/controls",
      "model_module_version": "2.0.0",
      "model_name": "ToggleButtonsStyleModel",
      "state": {
       "button_width": "",
       "description_width": "300px"
      }
     },
     "f9ed9c2dc0df4a42a5de8428cf7dedf6": {
      "model_module": "@jupyter-widgets/base",
      "model_module_version": "2.0.0",
      "model_name": "LayoutModel",
      "state": {}
     },
     "faf461f7e24b454fa2d70e011823d890": {
      "model_module": "@jupyter-widgets/controls",
      "model_module_version": "2.0.0",
      "model_name": "ComboboxModel",
      "state": {
       "description": "choice3",
       "ensure_option": true,
       "layout": "IPY_MODEL_d27555baee154d87a3711d1f5f27a5ff",
       "options": [
        "Not Included",
        "Included",
        "Favorite"
       ],
       "placeholder": "Choose Someone",
       "style": "IPY_MODEL_cb63420e07ea43a3b83642d668076c5e"
      }
     },
     "ff8e76ecc6ad4b9f908ec8036c7149b2": {
      "model_module": "@jupyter-widgets/controls",
      "model_module_version": "2.0.0",
      "model_name": "TextStyleModel",
      "state": {
       "description_width": "",
       "font_size": null,
       "text_color": null
      }
     }
    },
    "version_major": 2,
    "version_minor": 0
   }
  }
 },
 "nbformat": 4,
 "nbformat_minor": 5
}
