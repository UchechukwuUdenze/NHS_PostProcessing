{
 "cells": [
  {
   "cell_type": "markdown",
   "id": "59b665b0-bb3d-4d0e-a068-41fcf8d86767",
   "metadata": {},
   "source": [
    "## NHS Post processing Library"
   ]
  },
  {
   "cell_type": "markdown",
   "id": "96e227fe-f756-4348-94eb-f6f0e9415c0c",
   "metadata": {},
   "source": [
    "This notebook provides examples on how to carry out data evaluation, visualization and analysis using the post_processing python library. Be sure to go through the [Quick Start](https://nhs-postprocessing.readthedocs.io/en/latest/QuickStart.html) section of the [documentation](https://nhs-postprocessing.readthedocs.io/en/latest/index.html) for instructions on how to access and import the libary and its packages."
   ]
  },
  {
   "cell_type": "markdown",
   "id": "cb625051-179d-4dbc-99be-9330195a6a3d",
   "metadata": {},
   "source": [
    "##### Note: \n",
    "The Library is still under active development and empty sections will be completed in Due time"
   ]
  },
  {
   "cell_type": "markdown",
   "id": "97d26aea-9801-4e45-bd16-fa798d7653fe",
   "metadata": {},
   "source": [
    "### Table of content\n",
    "- Requirements\n",
    "- Data Manipulation(generating and obtaining the Dataframes required)\n",
    "- Analysis\n",
    "- Viaualizations\n"
   ]
  },
  {
   "cell_type": "markdown",
   "id": "d461430d-90a0-49c4-9f00-d63b3be689ed",
   "metadata": {},
   "source": [
    "### Requirements\n",
    "\n",
    "The conda environmnent contains all libraries associated the post processing library. After setting up the conda environment, you only have to import the metrics and visualization modules from postprocessinglib.evaluation"
   ]
  },
  {
   "cell_type": "code",
   "execution_count": 1,
   "id": "3a8a04fa-76e9-4087-abdd-43624d882750",
   "metadata": {},
   "outputs": [],
   "source": [
    "### Remove and modify these later.\n",
    "import ipywidgets as widgets\n",
    "from ipywidgets import interactive, ToggleButtons\n",
    "import datetime\n",
    "import sys\n",
    "import numpy as np\n",
    "sys.path.append(\"../../../../postprocessing\")"
   ]
  },
  {
   "cell_type": "code",
   "execution_count": 2,
   "id": "e5e8f878",
   "metadata": {},
   "outputs": [],
   "source": [
    "from postprocessinglib.evaluation import data, metrics, visuals\n",
    "from postprocessinglib.utilities import helper_functions as hlp"
   ]
  },
  {
   "cell_type": "markdown",
   "id": "1ceff7d7-826a-408e-8ca1-0c7b2825ab45",
   "metadata": {},
   "source": [
    "From this point on, the function you use will depend on which project you are working on and what sort of data i.e., the datatype of the data, you have."
   ]
  },
  {
   "cell_type": "markdown",
   "id": "ad7da2ff-5f95-4854-8762-cb507aa9688b",
   "metadata": {},
   "source": [
    "### MESH CSV files"
   ]
  },
  {
   "cell_type": "markdown",
   "id": "45d6a99e-d83b-4ce0-8250-33ae2f3962e9",
   "metadata": {},
   "source": [
    "Assuming you have a csv file containing an csv file with observed and simulated values for a list of stations of the form:\n",
    "| Some datetime  | station1_obs | station1_sim | station2_obs | station2_sim |\n",
    "| -------------- | ------------ | ------------ | ------------ | ------------ | \n",
    "\n",
    "We simply pass it into our generate dataframes function as shown below:\n"
   ]
  },
  {
   "cell_type": "code",
   "execution_count": 3,
   "id": "65104fc1",
   "metadata": {},
   "outputs": [],
   "source": [
    "# passing a controlled csv file for testing\n",
    "path = \"MESH_output_streamflow.csv\"\n",
    "\n",
    "# assuming the simulation model needs 365 days to warm up and account for erros during the learning phase.\n",
    "DATAFRAMES = data.generate_dataframes(csv_fpath=path, warm_up=365)"
   ]
  },
  {
   "cell_type": "markdown",
   "id": "75906704-57b6-498e-9248-17be0f9e3b69",
   "metadata": {},
   "source": [
    "In this case, because we dont pass in aggregation parameters, we end up with the three default dataframnes in our dictionary; the merged dataframe, the observed data and the simulated data"
   ]
  },
  {
   "cell_type": "code",
   "execution_count": 4,
   "id": "241edcc1",
   "metadata": {},
   "outputs": [
    {
     "name": "stdout",
     "output_type": "stream",
     "text": [
      "The Merged dataframe: \n",
      "\n",
      "            QOMEAS_05BB001  QOSIM_05BB001  QOMEAS_05BA001  QOSIM_05BA001\n",
      "1980-12-31           10.20       2.530770             NaN       1.006860\n",
      "1981-01-01            9.85       2.518999             NaN       1.001954\n",
      "1981-01-02           10.20       2.507289             NaN       0.997078\n",
      "1981-01-03           10.00       2.495637             NaN       0.992233\n",
      "1981-01-04           10.10       2.484073             NaN       0.987417\n",
      "...                    ...            ...             ...            ...\n",
      "2017-12-27             NaN       4.418050             NaN       1.380227\n",
      "2017-12-28             NaN       4.393084             NaN       1.372171\n",
      "2017-12-29             NaN       4.368303             NaN       1.364174\n",
      "2017-12-30             NaN       4.343699             NaN       1.356237\n",
      "2017-12-31             NaN       4.319275             NaN       1.348359\n",
      "\n",
      "[13515 rows x 4 columns]\n",
      "The Observed dataframe: \n",
      "\n",
      "            QOMEAS_05BB001  QOMEAS_05BA001\n",
      "1980-12-31           10.20             NaN\n",
      "1981-01-01            9.85             NaN\n",
      "1981-01-02           10.20             NaN\n",
      "1981-01-03           10.00             NaN\n",
      "1981-01-04           10.10             NaN\n",
      "...                    ...             ...\n",
      "2017-12-27             NaN             NaN\n",
      "2017-12-28             NaN             NaN\n",
      "2017-12-29             NaN             NaN\n",
      "2017-12-30             NaN             NaN\n",
      "2017-12-31             NaN             NaN\n",
      "\n",
      "[13515 rows x 2 columns]\n",
      "\n",
      "The Simulated dataframe: \n",
      "\n",
      "            QOSIM_05BB001  QOSIM_05BA001\n",
      "1980-12-31       2.530770       1.006860\n",
      "1981-01-01       2.518999       1.001954\n",
      "1981-01-02       2.507289       0.997078\n",
      "1981-01-03       2.495637       0.992233\n",
      "1981-01-04       2.484073       0.987417\n",
      "...                   ...            ...\n",
      "2017-12-27       4.418050       1.380227\n",
      "2017-12-28       4.393084       1.372171\n",
      "2017-12-29       4.368303       1.364174\n",
      "2017-12-30       4.343699       1.356237\n",
      "2017-12-31       4.319275       1.348359\n",
      "\n",
      "[13515 rows x 2 columns]\n"
     ]
    }
   ],
   "source": [
    "print(\"The Merged dataframe: \\n\")\n",
    "print(DATAFRAMES[\"DF\"])\n",
    "print(\"The Observed dataframe: \\n\")\n",
    "print(DATAFRAMES[\"DF_OBSERVED\"])\n",
    "print(\"\\nThe Simulated dataframe: \\n\")\n",
    "print(DATAFRAMES[\"DF_SIMULATED\"])"
   ]
  },
  {
   "cell_type": "markdown",
   "id": "b3dee15b-ce4b-466e-9a90-2369e19a7471",
   "metadata": {},
   "source": [
    "The Simulated and Observed dataframes are particularly important in the calculation of our metrics"
   ]
  },
  {
   "cell_type": "code",
   "execution_count": 5,
   "id": "1ea8b99f-a3a4-4f28-95cb-84407a25e2e8",
   "metadata": {},
   "outputs": [],
   "source": [
    "# You are also  able to generate the dataframes for a given period of time i.e from a start date, till an end date\n",
    "# and everything in between\n",
    "DATAFRAMES_January2010 = data.generate_dataframes(csv_fpath=path, warm_up=365, start_date='2010-01-01' , end_date='2010-1-31')\n",
    "DATAFRAMES_till2009 = data.generate_dataframes(csv_fpath=path, warm_up=365, end_date='2009-12-31')\n",
    "DATAFRAMES_from1995 = data.generate_dataframes(csv_fpath=path, warm_up=365, start_date='1995-01-01')"
   ]
  },
  {
   "cell_type": "code",
   "execution_count": 6,
   "id": "4e75fcaa-cd5c-49b3-a7e4-64b4e3e0d581",
   "metadata": {},
   "outputs": [
    {
     "name": "stdout",
     "output_type": "stream",
     "text": [
      "The Merged dataframe for January 2010: \n",
      "\n",
      "            QOMEAS_05BB001  QOSIM_05BB001  QOMEAS_05BA001  QOSIM_05BA001\n",
      "2010-01-01             NaN       4.000698             NaN       0.793435\n",
      "2010-01-02             NaN       3.978494             NaN       0.789141\n",
      "2010-01-03             NaN       3.956450             NaN       0.784877\n",
      "2010-01-04             NaN       3.934558             NaN       0.780643\n",
      "2010-01-05             NaN       3.912824             NaN       0.776437\n",
      "2010-01-06             NaN       3.891242             NaN       0.772261\n",
      "2010-01-07             NaN       3.869810             NaN       0.768114\n",
      "2010-01-08             NaN       3.848532             NaN       0.763995\n",
      "2010-01-09             NaN       3.827400             NaN       0.759905\n",
      "2010-01-10             NaN       3.806418             NaN       0.755842\n",
      "2010-01-11             NaN       3.785582             NaN       0.751808\n",
      "2010-01-12             NaN       3.764892             NaN       0.747801\n",
      "2010-01-13             NaN       3.744347             NaN       0.743821\n",
      "2010-01-14             NaN       3.723943             NaN       0.739868\n",
      "2010-01-15             NaN       3.703679             NaN       0.735942\n",
      "2010-01-16             NaN       3.683560             NaN       0.732043\n",
      "2010-01-17             NaN       3.663576             NaN       0.728171\n",
      "2010-01-18             NaN       3.643738             NaN       0.724324\n",
      "2010-01-19             NaN       3.624028             NaN       0.720504\n",
      "2010-01-20             NaN       3.604458             NaN       0.716710\n",
      "2010-01-21             NaN       3.585024             NaN       0.712941\n",
      "2010-01-22             NaN       3.565720             NaN       0.709197\n",
      "2010-01-23             NaN       3.546552             NaN       0.705479\n",
      "2010-01-24             NaN       3.527510             NaN       0.701786\n",
      "2010-01-25             NaN       3.508604             NaN       0.698118\n",
      "2010-01-26             NaN       3.489822             NaN       0.694474\n",
      "2010-01-27             NaN       3.471175             NaN       0.690854\n",
      "2010-01-28             NaN       3.452648             NaN       0.687258\n",
      "2010-01-29             NaN       3.434252             NaN       0.683687\n",
      "2010-01-30             NaN       3.415977             NaN       0.680139\n",
      "2010-01-31             NaN       3.397829             NaN       0.676615\n",
      "The Observed dataframe for January 2010: \n",
      "\n",
      "            QOMEAS_05BB001  QOMEAS_05BA001\n",
      "2010-01-01             NaN             NaN\n",
      "2010-01-02             NaN             NaN\n",
      "2010-01-03             NaN             NaN\n",
      "2010-01-04             NaN             NaN\n",
      "2010-01-05             NaN             NaN\n",
      "2010-01-06             NaN             NaN\n",
      "2010-01-07             NaN             NaN\n",
      "2010-01-08             NaN             NaN\n",
      "2010-01-09             NaN             NaN\n",
      "2010-01-10             NaN             NaN\n",
      "2010-01-11             NaN             NaN\n",
      "2010-01-12             NaN             NaN\n",
      "2010-01-13             NaN             NaN\n",
      "2010-01-14             NaN             NaN\n",
      "2010-01-15             NaN             NaN\n",
      "2010-01-16             NaN             NaN\n",
      "2010-01-17             NaN             NaN\n",
      "2010-01-18             NaN             NaN\n",
      "2010-01-19             NaN             NaN\n",
      "2010-01-20             NaN             NaN\n",
      "2010-01-21             NaN             NaN\n",
      "2010-01-22             NaN             NaN\n",
      "2010-01-23             NaN             NaN\n",
      "2010-01-24             NaN             NaN\n",
      "2010-01-25             NaN             NaN\n",
      "2010-01-26             NaN             NaN\n",
      "2010-01-27             NaN             NaN\n",
      "2010-01-28             NaN             NaN\n",
      "2010-01-29             NaN             NaN\n",
      "2010-01-30             NaN             NaN\n",
      "2010-01-31             NaN             NaN\n",
      "\n",
      "The Simulated dataframe for January 2010: \n",
      "\n",
      "            QOMEAS_05BB001  QOMEAS_05BA001\n",
      "2010-01-01             NaN             NaN\n",
      "2010-01-02             NaN             NaN\n",
      "2010-01-03             NaN             NaN\n",
      "2010-01-04             NaN             NaN\n",
      "2010-01-05             NaN             NaN\n",
      "2010-01-06             NaN             NaN\n",
      "2010-01-07             NaN             NaN\n",
      "2010-01-08             NaN             NaN\n",
      "2010-01-09             NaN             NaN\n",
      "2010-01-10             NaN             NaN\n",
      "2010-01-11             NaN             NaN\n",
      "2010-01-12             NaN             NaN\n",
      "2010-01-13             NaN             NaN\n",
      "2010-01-14             NaN             NaN\n",
      "2010-01-15             NaN             NaN\n",
      "2010-01-16             NaN             NaN\n",
      "2010-01-17             NaN             NaN\n",
      "2010-01-18             NaN             NaN\n",
      "2010-01-19             NaN             NaN\n",
      "2010-01-20             NaN             NaN\n",
      "2010-01-21             NaN             NaN\n",
      "2010-01-22             NaN             NaN\n",
      "2010-01-23             NaN             NaN\n",
      "2010-01-24             NaN             NaN\n",
      "2010-01-25             NaN             NaN\n",
      "2010-01-26             NaN             NaN\n",
      "2010-01-27             NaN             NaN\n",
      "2010-01-28             NaN             NaN\n",
      "2010-01-29             NaN             NaN\n",
      "2010-01-30             NaN             NaN\n",
      "2010-01-31             NaN             NaN\n"
     ]
    }
   ],
   "source": [
    "print(\"The Merged dataframe for January 2010: \\n\")\n",
    "print(DATAFRAMES_January2010[\"DF\"])\n",
    "print(\"The Observed dataframe for January 2010: \\n\")\n",
    "print(DATAFRAMES_January2010[\"DF_OBSERVED\"])\n",
    "print(\"\\nThe Simulated dataframe for January 2010: \\n\")\n",
    "print(DATAFRAMES_January2010[\"DF_OBSERVED\"])"
   ]
  },
  {
   "cell_type": "code",
   "execution_count": 7,
   "id": "4178af61-532c-4486-8f5b-531df6187ef9",
   "metadata": {},
   "outputs": [
    {
     "name": "stdout",
     "output_type": "stream",
     "text": [
      "The Merged dataframe until 2009: \n",
      "\n",
      "            QOMEAS_05BB001  QOSIM_05BB001  QOMEAS_05BA001  QOSIM_05BA001\n",
      "1980-12-31           10.20       2.530770             NaN       1.006860\n",
      "1981-01-01            9.85       2.518999             NaN       1.001954\n",
      "1981-01-02           10.20       2.507289             NaN       0.997078\n",
      "1981-01-03           10.00       2.495637             NaN       0.992233\n",
      "1981-01-04           10.10       2.484073             NaN       0.987417\n",
      "...                    ...            ...             ...            ...\n",
      "2009-12-27             NaN       4.114114             NaN       0.815359\n",
      "2009-12-28             NaN       4.091105             NaN       0.810912\n",
      "2009-12-29             NaN       4.068261             NaN       0.806497\n",
      "2009-12-30             NaN       4.045577             NaN       0.802113\n",
      "2009-12-31             NaN       4.023057             NaN       0.797758\n",
      "\n",
      "[10593 rows x 4 columns]\n",
      "The Observed dataframe until 2009: \n",
      "\n",
      "            QOMEAS_05BB001  QOMEAS_05BA001\n",
      "1980-12-31           10.20             NaN\n",
      "1981-01-01            9.85             NaN\n",
      "1981-01-02           10.20             NaN\n",
      "1981-01-03           10.00             NaN\n",
      "1981-01-04           10.10             NaN\n",
      "...                    ...             ...\n",
      "2009-12-27             NaN             NaN\n",
      "2009-12-28             NaN             NaN\n",
      "2009-12-29             NaN             NaN\n",
      "2009-12-30             NaN             NaN\n",
      "2009-12-31             NaN             NaN\n",
      "\n",
      "[10593 rows x 2 columns]\n",
      "\n",
      "The Simulated dataframe until 2009: \n",
      "\n",
      "            QOSIM_05BB001  QOSIM_05BA001\n",
      "1980-12-31       2.530770       1.006860\n",
      "1981-01-01       2.518999       1.001954\n",
      "1981-01-02       2.507289       0.997078\n",
      "1981-01-03       2.495637       0.992233\n",
      "1981-01-04       2.484073       0.987417\n",
      "...                   ...            ...\n",
      "2009-12-27       4.114114       0.815359\n",
      "2009-12-28       4.091105       0.810912\n",
      "2009-12-29       4.068261       0.806497\n",
      "2009-12-30       4.045577       0.802113\n",
      "2009-12-31       4.023057       0.797758\n",
      "\n",
      "[10593 rows x 2 columns]\n"
     ]
    }
   ],
   "source": [
    "print(\"The Merged dataframe until 2009: \\n\")\n",
    "print(DATAFRAMES_till2009[\"DF\"])\n",
    "print(\"The Observed dataframe until 2009: \\n\")\n",
    "print(DATAFRAMES_till2009[\"DF_OBSERVED\"])\n",
    "print(\"\\nThe Simulated dataframe until 2009: \\n\")\n",
    "print(DATAFRAMES_till2009[\"DF_SIMULATED\"])"
   ]
  },
  {
   "cell_type": "code",
   "execution_count": 8,
   "id": "fedf6244-257c-41b6-91a8-e2a35a4427da",
   "metadata": {},
   "outputs": [
    {
     "name": "stdout",
     "output_type": "stream",
     "text": [
      "The Merged dataframe from 1995: \n",
      "\n",
      "            QOMEAS_05BB001  QOSIM_05BB001  QOMEAS_05BA001  QOSIM_05BA001\n",
      "1995-01-01            8.37       3.170254             NaN       0.884237\n",
      "1995-01-02           10.10       3.153162             NaN       0.879155\n",
      "1995-01-03           12.20       3.136179             NaN       0.874110\n",
      "1995-01-04           13.00       3.119328             NaN       0.869102\n",
      "1995-01-05           13.20       3.102574             NaN       0.864132\n",
      "...                    ...            ...             ...            ...\n",
      "2017-12-27             NaN       4.418050             NaN       1.380227\n",
      "2017-12-28             NaN       4.393084             NaN       1.372171\n",
      "2017-12-29             NaN       4.368303             NaN       1.364174\n",
      "2017-12-30             NaN       4.343699             NaN       1.356237\n",
      "2017-12-31             NaN       4.319275             NaN       1.348359\n",
      "\n",
      "[8401 rows x 4 columns]\n",
      "The Observed dataframe from 1995: \n",
      "\n",
      "            QOMEAS_05BB001  QOMEAS_05BA001\n",
      "1995-01-01            8.37             NaN\n",
      "1995-01-02           10.10             NaN\n",
      "1995-01-03           12.20             NaN\n",
      "1995-01-04           13.00             NaN\n",
      "1995-01-05           13.20             NaN\n",
      "...                    ...             ...\n",
      "2017-12-27             NaN             NaN\n",
      "2017-12-28             NaN             NaN\n",
      "2017-12-29             NaN             NaN\n",
      "2017-12-30             NaN             NaN\n",
      "2017-12-31             NaN             NaN\n",
      "\n",
      "[8401 rows x 2 columns]\n",
      "\n",
      "The Simulated dataframe from 1995: \n",
      "\n",
      "            QOSIM_05BB001  QOSIM_05BA001\n",
      "1995-01-01       3.170254       0.884237\n",
      "1995-01-02       3.153162       0.879155\n",
      "1995-01-03       3.136179       0.874110\n",
      "1995-01-04       3.119328       0.869102\n",
      "1995-01-05       3.102574       0.864132\n",
      "...                   ...            ...\n",
      "2017-12-27       4.418050       1.380227\n",
      "2017-12-28       4.393084       1.372171\n",
      "2017-12-29       4.368303       1.364174\n",
      "2017-12-30       4.343699       1.356237\n",
      "2017-12-31       4.319275       1.348359\n",
      "\n",
      "[8401 rows x 2 columns]\n"
     ]
    }
   ],
   "source": [
    "print(\"The Merged dataframe from 1995: \\n\")\n",
    "print(DATAFRAMES_from1995[\"DF\"])\n",
    "print(\"The Observed dataframe from 1995: \\n\")\n",
    "print(DATAFRAMES_from1995[\"DF_OBSERVED\"])\n",
    "print(\"\\nThe Simulated dataframe from 1995: \\n\")\n",
    "print(DATAFRAMES_from1995[\"DF_SIMULATED\"])"
   ]
  },
  {
   "cell_type": "markdown",
   "id": "a8ef70c7-9f03-485c-a682-b3c9d30b9f01",
   "metadata": {},
   "source": [
    "You are also able to go a step further by aggregating your data right from the beggining by using the optional arguments "
   ]
  },
  {
   "cell_type": "code",
   "execution_count": 9,
   "id": "9f088fda-6c2b-4b7c-a7cb-2cd78ff38083",
   "metadata": {},
   "outputs": [
    {
     "name": "stdout",
     "output_type": "stream",
     "text": [
      "DF:\n",
      "            QOMEAS_05BB001  QOSIM_05BB001  QOMEAS_05BA001  QOSIM_05BA001\n",
      "1981-01-01            9.85       2.518999             NaN       1.001954\n",
      "1981-01-02           10.20       2.507289             NaN       0.997078\n",
      "1981-01-03           10.00       2.495637             NaN       0.992233\n",
      "1981-01-04           10.10       2.484073             NaN       0.987417\n",
      "1981-01-05            9.99       2.472571             NaN       0.982631\n",
      "...                    ...            ...             ...            ...\n",
      "1990-12-27           10.10       6.615961             NaN       1.737144\n",
      "1990-12-28            9.50       6.573054             NaN       1.725025\n",
      "1990-12-29            8.60       6.530500             NaN       1.713013\n",
      "1990-12-30            8.20       6.488300             NaN       1.701107\n",
      "1990-12-31            8.25       6.446449             NaN       1.689308\n",
      "\n",
      "[3652 rows x 4 columns]\n",
      "DF_SIMULATED:\n",
      "            QOSIM_05BB001  QOSIM_05BA001\n",
      "1981-01-01       2.518999       1.001954\n",
      "1981-01-02       2.507289       0.997078\n",
      "1981-01-03       2.495637       0.992233\n",
      "1981-01-04       2.484073       0.987417\n",
      "1981-01-05       2.472571       0.982631\n",
      "...                   ...            ...\n",
      "1990-12-27       6.615961       1.737144\n",
      "1990-12-28       6.573054       1.725025\n",
      "1990-12-29       6.530500       1.713013\n",
      "1990-12-30       6.488300       1.701107\n",
      "1990-12-31       6.446449       1.689308\n",
      "\n",
      "[3652 rows x 2 columns]\n",
      "DF_OBSERVED:\n",
      "            QOMEAS_05BB001  QOMEAS_05BA001\n",
      "1981-01-01            9.85             NaN\n",
      "1981-01-02           10.20             NaN\n",
      "1981-01-03           10.00             NaN\n",
      "1981-01-04           10.10             NaN\n",
      "1981-01-05            9.99             NaN\n",
      "...                    ...             ...\n",
      "1990-12-27           10.10             NaN\n",
      "1990-12-28            9.50             NaN\n",
      "1990-12-29            8.60             NaN\n",
      "1990-12-30            8.20             NaN\n",
      "1990-12-31            8.25             NaN\n",
      "\n",
      "[3652 rows x 2 columns]\n",
      "DF_WEEKLY:\n",
      "         QOMEAS_05BB001  QOSIM_05BB001  QOMEAS_05BA001  QOSIM_05BA001\n",
      "1981/00            9.85       2.484073             NaN       0.987417\n",
      "1981/01            8.70       2.404939             NaN       0.954524\n",
      "1981/02            8.24       2.328990             NaN       0.923008\n",
      "1981/03            7.86       2.256059             NaN       0.892801\n",
      "1981/04            8.10       2.186006             NaN       0.863836\n",
      "...                 ...            ...             ...            ...\n",
      "1990/49           10.80       7.453629             NaN       1.975199\n",
      "1990/50            8.70       7.112537             NaN       1.877937\n",
      "1990/51            8.10       6.791226             NaN       1.786726\n",
      "1990/52            8.20       6.488300             NaN       1.701107\n",
      "1990/53            8.25       6.446449             NaN       1.689308\n",
      "\n",
      "[531 rows x 4 columns]\n",
      "DF_MONTHLY:\n",
      "         QOMEAS_05BB001  QOSIM_05BB001  QOMEAS_05BA001  QOSIM_05BA001\n",
      "1981/01            8.62       2.195846             NaN       0.867900\n",
      "1981/02            7.20       1.940355             NaN       0.762678\n",
      "1981/03            7.25       1.699932             NaN       0.664341\n",
      "1981/04           15.30       3.859564             NaN       0.584523\n",
      "1981/05          113.00     220.485800           28.20      96.363520\n",
      "...                 ...            ...             ...            ...\n",
      "1990/08           33.60      40.431200           10.10      23.856810\n",
      "1990/09           90.90      19.438340           30.50       6.175078\n",
      "1990/10           21.10       9.648046            4.01       2.642092\n",
      "1990/11           12.00       7.920140            3.90       2.109938\n",
      "1990/12            8.25       6.446449             NaN       1.689308\n",
      "\n",
      "[120 rows x 4 columns]\n",
      "DF_YEARLY:\n",
      "      QOMEAS_05BB001  QOSIM_05BB001  QOMEAS_05BA001  QOSIM_05BA001\n",
      "1981        10386.27    9273.383180         2424.26    4007.949313\n",
      "1982        12635.47    8874.369067         3163.23    4123.606233\n",
      "1983        11909.23    8214.793557         3198.17    3810.515038\n",
      "1984        13298.33    7459.351671         2699.42    3431.981225\n",
      "1985        13730.50    8487.241498         2992.40    3756.822014\n",
      "1986        12576.84   10651.883689         3103.15    4794.825198\n",
      "1987        15066.57    8947.025052         3599.74    4260.917801\n",
      "1988        12642.53   10377.241643         2972.87    4614.234614\n",
      "1989        10860.93   11118.336160         2624.79    5193.322199\n",
      "1990        11129.76   11226.011936         2650.50    5273.448490\n"
     ]
    }
   ],
   "source": [
    "## Lets use a time period of 1981 to 1990 to demonstrate this\n",
    "DATAFRAMES = data.generate_dataframes(csv_fpath=path, warm_up=365, start_date = \"1981-01-01\", end_date = \"1990-12-31\",\n",
    "                                      # optional arguments\n",
    "                                      # lets see a weekly aggregation\n",
    "                                      weekly_agg = True, wa_method = 'min',\n",
    "                                      # lets also see monthly aggregation\n",
    "                                      monthly_agg = True, ma_method = 'inst',\n",
    "                                      # lets also see yearly aggregation\n",
    "                                      yearly_agg = True, ya_method = 'sum'\n",
    "                                      # note that without inputing the respective methods,\n",
    "                                      # the functions default to mean as the method of aggregation\n",
    "                                     )\n",
    "for key, value in DATAFRAMES.items():\n",
    "    print(f\"{key}:\\n{value}\")"
   ]
  },
  {
   "cell_type": "markdown",
   "id": "48af3507-3148-4123-8404-e7a08c18f8a5",
   "metadata": {},
   "source": [
    "Observe how the methods inputed dictate the means of aggregation"
   ]
  },
  {
   "cell_type": "markdown",
   "id": "eacc2ffc-34d0-4e51-9869-1d7328e2521c",
   "metadata": {},
   "source": [
    "We are also able to obtain a seasonal period from this step as show below "
   ]
  },
  {
   "cell_type": "code",
   "execution_count": 10,
   "id": "26d93b73-f4e5-48d3-b2a6-17e57e510b1b",
   "metadata": {},
   "outputs": [
    {
     "name": "stdout",
     "output_type": "stream",
     "text": [
      "DF:\n",
      "            QOMEAS_05BB001  QOSIM_05BB001  QOMEAS_05BA001  QOSIM_05BA001\n",
      "1981-01-01            9.85       2.518999             NaN       1.001954\n",
      "1981-01-02           10.20       2.507289             NaN       0.997078\n",
      "1981-01-03           10.00       2.495637             NaN       0.992233\n",
      "1981-01-04           10.10       2.484073             NaN       0.987417\n",
      "1981-01-05            9.99       2.472571             NaN       0.982631\n",
      "...                    ...            ...             ...            ...\n",
      "1990-12-27           10.10       6.615961             NaN       1.737144\n",
      "1990-12-28            9.50       6.573054             NaN       1.725025\n",
      "1990-12-29            8.60       6.530500             NaN       1.713013\n",
      "1990-12-30            8.20       6.488300             NaN       1.701107\n",
      "1990-12-31            8.25       6.446449             NaN       1.689308\n",
      "\n",
      "[3652 rows x 4 columns]\n",
      "DF_SIMULATED:\n",
      "            QOSIM_05BB001  QOSIM_05BA001\n",
      "1981-01-01       2.518999       1.001954\n",
      "1981-01-02       2.507289       0.997078\n",
      "1981-01-03       2.495637       0.992233\n",
      "1981-01-04       2.484073       0.987417\n",
      "1981-01-05       2.472571       0.982631\n",
      "...                   ...            ...\n",
      "1990-12-27       6.615961       1.737144\n",
      "1990-12-28       6.573054       1.725025\n",
      "1990-12-29       6.530500       1.713013\n",
      "1990-12-30       6.488300       1.701107\n",
      "1990-12-31       6.446449       1.689308\n",
      "\n",
      "[3652 rows x 2 columns]\n",
      "DF_OBSERVED:\n",
      "            QOMEAS_05BB001  QOMEAS_05BA001\n",
      "1981-01-01            9.85             NaN\n",
      "1981-01-02           10.20             NaN\n",
      "1981-01-03           10.00             NaN\n",
      "1981-01-04           10.10             NaN\n",
      "1981-01-05            9.99             NaN\n",
      "...                    ...             ...\n",
      "1990-12-27           10.10             NaN\n",
      "1990-12-28            9.50             NaN\n",
      "1990-12-29            8.60             NaN\n",
      "1990-12-30            8.20             NaN\n",
      "1990-12-31            8.25             NaN\n",
      "\n",
      "[3652 rows x 2 columns]\n",
      "DF_CUSTOM:\n",
      "            QOMEAS_05BB001  QOSIM_05BB001  QOMEAS_05BA001  QOSIM_05BA001\n",
      "1981-01-01            9.85       2.518999             NaN       1.001954\n",
      "1981-01-02           10.20       2.507289             NaN       0.997078\n",
      "1981-01-03           10.00       2.495637             NaN       0.992233\n",
      "1981-01-04           10.10       2.484073             NaN       0.987417\n",
      "1981-01-05            9.99       2.472571             NaN       0.982631\n",
      "...                    ...            ...             ...            ...\n",
      "1985-01-27           11.40       2.734883             NaN       0.809116\n",
      "1985-01-28           11.60       2.721414             NaN       0.805189\n",
      "1985-01-29           11.70       2.708047             NaN       0.801287\n",
      "1985-01-30           11.60       2.694749             NaN       0.797410\n",
      "1985-01-31           11.60       2.681550             NaN       0.793556\n",
      "\n",
      "[155 rows x 4 columns]\n"
     ]
    }
   ],
   "source": [
    "DATAFRAMES = data.generate_dataframes(csv_fpath=path, warm_up=365, start_date = \"1981-01-01\", end_date = \"1990-12-31\",\n",
    "                                      # seasonal aggregation\n",
    "                                      # obtaining the month of January from every year from 1981 to 1985\n",
    "                                      seasonal_p = True, sp_dperiod = ('01-01', '01-31'),\n",
    "                                      sp_time_range = ('1981-01-01', '1985-12-31')\n",
    "                                      # if the time range is not specified, it will return the daily period\n",
    "                                      # for the whole data whose time frame might be specified by the start and\n",
    "                                      # end date parameters\n",
    "                                     )\n",
    "for key, value in DATAFRAMES.items():\n",
    "    print(f\"{key}:\\n{value}\")"
   ]
  },
  {
   "cell_type": "markdown",
   "id": "64fe3686-b2a7-43ed-b10a-4ff4509a14ba",
   "metadata": {},
   "source": [
    "Again observe how there is always an observed and simulated dataframe"
   ]
  },
  {
   "cell_type": "markdown",
   "id": "dd8d0588-2c90-49d3-a85d-2a62dec47c47",
   "metadata": {},
   "source": [
    "If the above weekly and daily aggregations werent done at the beginning you are also able to do them whenever you want during your evaluation using their respective functions "
   ]
  },
  {
   "cell_type": "code",
   "execution_count": 11,
   "id": "a1bfb767-2bd4-4bc7-919b-61a496beb0cf",
   "metadata": {},
   "outputs": [
    {
     "name": "stdout",
     "output_type": "stream",
     "text": [
      "            QOMEAS_05BB001  QOSIM_05BB001  QOMEAS_05BA001  QOSIM_05BA001\n",
      "1981-01-01            9.85       2.518999             NaN       1.001954\n",
      "1981-01-02           10.20       2.507289             NaN       0.997078\n",
      "1981-01-03           10.00       2.495637             NaN       0.992233\n",
      "1981-01-04           10.10       2.484073             NaN       0.987417\n",
      "1981-01-05            9.99       2.472571             NaN       0.982631\n",
      "...                    ...            ...             ...            ...\n",
      "1990-12-27           10.10       6.615961             NaN       1.737144\n",
      "1990-12-28            9.50       6.573054             NaN       1.725025\n",
      "1990-12-29            8.60       6.530500             NaN       1.713013\n",
      "1990-12-30            8.20       6.488300             NaN       1.701107\n",
      "1990-12-31            8.25       6.446449             NaN       1.689308\n",
      "\n",
      "[3652 rows x 4 columns]\n",
      "            QOMEAS_05BB001  QOSIM_05BB001  QOMEAS_05BA001  QOSIM_05BA001\n",
      "1981/01/01            9.85       2.518999             NaN       1.001954\n",
      "1981/01/02           10.20       2.507289             NaN       0.997078\n",
      "1981/01/03           10.00       2.495637             NaN       0.992233\n",
      "1981/01/04           10.10       2.484073             NaN       0.987417\n",
      "1981/01/05            9.99       2.472571             NaN       0.982631\n",
      "...                    ...            ...             ...            ...\n",
      "1990/12/27           10.10       6.615961             NaN       1.737144\n",
      "1990/12/28            9.50       6.573054             NaN       1.725025\n",
      "1990/12/29            8.60       6.530500             NaN       1.713013\n",
      "1990/12/30            8.20       6.488300             NaN       1.701107\n",
      "1990/12/31            8.25       6.446449             NaN       1.689308\n",
      "\n",
      "[3652 rows x 4 columns]\n"
     ]
    }
   ],
   "source": [
    "# calculating the daily aggregate outside the generate dataframe function\n",
    "merged_df = DATAFRAMES[\"DF\"]\n",
    "print(merged_df)\n",
    "print(data.daily_aggregate(df=merged_df))"
   ]
  },
  {
   "cell_type": "code",
   "execution_count": 12,
   "id": "8f1d4a7c-d265-4a08-9755-4eadad8707a8",
   "metadata": {},
   "outputs": [
    {
     "name": "stdout",
     "output_type": "stream",
     "text": [
      "         QOMEAS_05BB001  QOSIM_05BB001  QOMEAS_05BA001  QOSIM_05BA001\n",
      "1981/00            9.85       2.484073             NaN       0.987417\n",
      "1981/01            8.70       2.404939             NaN       0.954524\n",
      "1981/02            8.24       2.328990             NaN       0.923008\n",
      "1981/03            7.86       2.256059             NaN       0.892801\n",
      "1981/04            8.10       2.186006             NaN       0.863836\n",
      "...                 ...            ...             ...            ...\n",
      "1990/49           10.80       7.453629             NaN       1.975199\n",
      "1990/50            8.70       7.112537             NaN       1.877937\n",
      "1990/51            8.10       6.791226             NaN       1.786726\n",
      "1990/52            8.20       6.488300             NaN       1.701107\n",
      "1990/53            8.25       6.446449             NaN       1.689308\n",
      "\n",
      "[531 rows x 4 columns]\n"
     ]
    }
   ],
   "source": [
    "# We are also able to do the same weekly...\n",
    "# Recall that the default method is mean\n",
    "print(data.weekly_aggregate(df=merged_df, method=\"min\"))"
   ]
  },
  {
   "cell_type": "code",
   "execution_count": 13,
   "id": "3d55a08a-b8e0-4e6f-9092-ebdcd16d56d7",
   "metadata": {},
   "outputs": [
    {
     "name": "stdout",
     "output_type": "stream",
     "text": [
      "         QOMEAS_05BB001  QOSIM_05BB001  QOMEAS_05BA001  QOSIM_05BA001\n",
      "1981/01            8.62       2.195846             NaN       0.867900\n",
      "1981/02            7.20       1.940355             NaN       0.762678\n",
      "1981/03            7.25       1.699932             NaN       0.664341\n",
      "1981/04           15.30       3.859564             NaN       0.584523\n",
      "1981/05          113.00     220.485800           28.20      96.363520\n",
      "...                 ...            ...             ...            ...\n",
      "1990/08           33.60      40.431200           10.10      23.856810\n",
      "1990/09           90.90      19.438340           30.50       6.175078\n",
      "1990/10           21.10       9.648046            4.01       2.642092\n",
      "1990/11           12.00       7.920140            3.90       2.109938\n",
      "1990/12            8.25       6.446449             NaN       1.689308\n",
      "\n",
      "[120 rows x 4 columns]\n"
     ]
    }
   ],
   "source": [
    "# Monthly...\n",
    "print(data.monthly_aggregate(df=merged_df, method=\"inst\"))"
   ]
  },
  {
   "cell_type": "code",
   "execution_count": 14,
   "id": "f0d59e07-cf4f-4135-a884-ba4e10721e92",
   "metadata": {},
   "outputs": [
    {
     "name": "stdout",
     "output_type": "stream",
     "text": [
      "      QOMEAS_05BB001  QOSIM_05BB001  QOMEAS_05BA001  QOSIM_05BA001\n",
      "1981        10386.27    9273.383180         2424.26    4007.949313\n",
      "1982        12635.47    8874.369067         3163.23    4123.606233\n",
      "1983        11909.23    8214.793557         3198.17    3810.515038\n",
      "1984        13298.33    7459.351671         2699.42    3431.981225\n",
      "1985        13730.50    8487.241498         2992.40    3756.822014\n",
      "1986        12576.84   10651.883689         3103.15    4794.825198\n",
      "1987        15066.57    8947.025052         3599.74    4260.917801\n",
      "1988        12642.53   10377.241643         2972.87    4614.234614\n",
      "1989        10860.93   11118.336160         2624.79    5193.322199\n",
      "1990        11129.76   11226.011936         2650.50    5273.448490\n"
     ]
    }
   ],
   "source": [
    "# Yearly...\n",
    "print(data.yearly_aggregate(df=merged_df, method=\"sum\"))"
   ]
  },
  {
   "cell_type": "code",
   "execution_count": 15,
   "id": "fe0a7e37-9305-49cd-8073-5474e5e4e701",
   "metadata": {},
   "outputs": [
    {
     "name": "stdout",
     "output_type": "stream",
     "text": [
      "            QOMEAS_05BB001  QOSIM_05BB001  QOMEAS_05BA001  QOSIM_05BA001\n",
      "1981-01-01            9.85       2.518999             NaN       1.001954\n",
      "1981-01-02           10.20       2.507289             NaN       0.997078\n",
      "1981-01-03           10.00       2.495637             NaN       0.992233\n",
      "1981-01-04           10.10       2.484073             NaN       0.987417\n",
      "1981-01-05            9.99       2.472571             NaN       0.982631\n",
      "...                    ...            ...             ...            ...\n",
      "1985-01-27           11.40       2.734883             NaN       0.809116\n",
      "1985-01-28           11.60       2.721414             NaN       0.805189\n",
      "1985-01-29           11.70       2.708047             NaN       0.801287\n",
      "1985-01-30           11.60       2.694749             NaN       0.797410\n",
      "1985-01-31           11.60       2.681550             NaN       0.793556\n",
      "\n",
      "[155 rows x 4 columns]\n"
     ]
    }
   ],
   "source": [
    "# and we are also able to obtaining a customized seasonal period...\n",
    "print(data.seasonal_period(df=merged_df, daily_period=('01-01', '01-31'), time_range = ('1981-01-01', '1985-12-31')))"
   ]
  },
  {
   "cell_type": "markdown",
   "id": "cf2d6d1d-0106-4265-8d13-5c2a17700051",
   "metadata": {},
   "source": [
    "Finally, we are able to extract each station from the data"
   ]
  },
  {
   "cell_type": "code",
   "execution_count": 16,
   "id": "eeffe6a0-0454-423b-bd6f-4ca9b098ea7b",
   "metadata": {},
   "outputs": [],
   "source": [
    "## for ease of code I will rename the variables\n",
    "DATAFRAMES = data.generate_dataframes(csv_fpath=path, warm_up=365)\n",
    "observed = DATAFRAMES[\"DF_OBSERVED\"]\n",
    "simulated = DATAFRAMES[\"DF_SIMULATED\"]"
   ]
  },
  {
   "cell_type": "code",
   "execution_count": 17,
   "id": "befeb6ac-5584-4634-90aa-e9b89e81b0c7",
   "metadata": {},
   "outputs": [
    {
     "name": "stdout",
     "output_type": "stream",
     "text": [
      "            QOMEAS_05BB001  QOSIM_05BB001\n",
      "1980-12-31           10.20       2.530770\n",
      "1981-01-01            9.85       2.518999\n",
      "1981-01-02           10.20       2.507289\n",
      "1981-01-03           10.00       2.495637\n",
      "1981-01-04           10.10       2.484073\n",
      "...                    ...            ...\n",
      "2017-12-27             NaN       4.418050\n",
      "2017-12-28             NaN       4.393084\n",
      "2017-12-29             NaN       4.368303\n",
      "2017-12-30             NaN       4.343699\n",
      "2017-12-31             NaN       4.319275\n",
      "\n",
      "[13515 rows x 2 columns]\n",
      "            QOMEAS_05BA001  QOSIM_05BA001\n",
      "1980-12-31             NaN       1.006860\n",
      "1981-01-01             NaN       1.001954\n",
      "1981-01-02             NaN       0.997078\n",
      "1981-01-03             NaN       0.992233\n",
      "1981-01-04             NaN       0.987417\n",
      "...                    ...            ...\n",
      "2017-12-27             NaN       1.380227\n",
      "2017-12-28             NaN       1.372171\n",
      "2017-12-29             NaN       1.364174\n",
      "2017-12-30             NaN       1.356237\n",
      "2017-12-31             NaN       1.348359\n",
      "\n",
      "[13515 rows x 2 columns]\n"
     ]
    }
   ],
   "source": [
    "# You are also able to split the data into their respective stations in the cases where you might want to do so\n",
    "for station in data.station_dataframe(observed=observed, simulated=simulated):\n",
    "    print(station)"
   ]
  },
  {
   "cell_type": "markdown",
   "id": "e6602fb8-1897-4dc8-914f-b943a8dcb6ad",
   "metadata": {},
   "source": [
    "<mark>Note: As it stands, that is the only kind of data that we it is currently able to handle. In future releases, It will be able to handle more file types including, netcdf file, shape file, arrays, and more.<mark/>"
   ]
  },
  {
   "cell_type": "markdown",
   "id": "0fd4e62c-e241-445e-852e-d6947276d0d6",
   "metadata": {},
   "source": [
    "### Analysis"
   ]
  },
  {
   "cell_type": "markdown",
   "id": "43384892-63fe-491b-9fc7-8dda53be87ff",
   "metadata": {},
   "source": [
    "Because the library is in active development, there will be regular removals and additions to its features. As a rule of thumb therefore it is always a good idea to check what it can do at the time of use."
   ]
  },
  {
   "cell_type": "code",
   "execution_count": 18,
   "id": "db52d1b3-16f4-4628-94b4-104b75977d7d",
   "metadata": {},
   "outputs": [
    {
     "name": "stdout",
     "output_type": "stream",
     "text": [
      "MSE\n",
      "RMSE\n",
      "MAE\n",
      "NSE\n",
      "NegNSE\n",
      "LogNSE\n",
      "NegLogNSE\n",
      "KGE\n",
      "NegKGE\n",
      "KGE 2012\n",
      "BIAS\n",
      "AbsBIAS\n",
      "TTP\n",
      "TTCoM\n",
      "SPOD\n"
     ]
    }
   ],
   "source": [
    "# We do this by calling on its available metrics\n",
    "for metric in metrics.available_metrics():\n",
    "    print(metric)"
   ]
  },
  {
   "cell_type": "markdown",
   "id": "4d8f7f5a-df66-42ce-b27a-ff86589adc1d",
   "metadata": {},
   "source": [
    "Now that we know what it can currently do, we know what we want to ask for."
   ]
  },
  {
   "cell_type": "markdown",
   "id": "995eace1-082f-47eb-9663-92bae5fc042e",
   "metadata": {},
   "source": [
    "##### Mean Square Error"
   ]
  },
  {
   "cell_type": "code",
   "execution_count": 19,
   "id": "9e5447fe-c907-4f96-905c-37c511d949b6",
   "metadata": {},
   "outputs": [
    {
     "name": "stdout",
     "output_type": "stream",
     "text": [
      "[1656.685638835447, 730.4265136887851]\n"
     ]
    }
   ],
   "source": [
    "# Mean square error for the first station in the data we were given\n",
    "print(metrics.mse(observed=observed, simulated=simulated))"
   ]
  },
  {
   "cell_type": "markdown",
   "id": "1c791ee4-a104-42bf-9912-2544ab33a533",
   "metadata": {},
   "source": [
    "##### Root Mean Square Error"
   ]
  },
  {
   "cell_type": "code",
   "execution_count": 20,
   "id": "89beaa4d-602b-4463-a884-c95c05f71f36",
   "metadata": {},
   "outputs": [
    {
     "name": "stdout",
     "output_type": "stream",
     "text": [
      "[40.702403354537275, 27.02640400957525]\n"
     ]
    }
   ],
   "source": [
    "# lets calculate for the root mean square error for the first station in the data we were given\n",
    "# The syntax goes:-\n",
    "print(metrics.rmse(observed=observed, simulated=simulated))"
   ]
  },
  {
   "cell_type": "markdown",
   "id": "5fbce470-00f5-4421-928d-373ddc473cde",
   "metadata": {},
   "source": [
    "##### Mean Average Error"
   ]
  },
  {
   "cell_type": "code",
   "execution_count": 21,
   "id": "814750eb-20a6-4c3d-a9a2-337f4ef56266",
   "metadata": {},
   "outputs": [
    {
     "name": "stdout",
     "output_type": "stream",
     "text": [
      "[22.12912878335626, 13.558496468765133]\n"
     ]
    }
   ],
   "source": [
    "# Similarly, the mean absolute error for the first station in the data we were given will look like \n",
    "print(metrics.mae(observed=observed, simulated=simulated))"
   ]
  },
  {
   "cell_type": "markdown",
   "id": "b8b89a01-0f13-4f67-bfc7-eb9621d1a5bb",
   "metadata": {},
   "source": [
    "##### Nash-Sutcliffe Efficiency"
   ]
  },
  {
   "cell_type": "code",
   "execution_count": 22,
   "id": "ed477e2e-0475-468d-867e-50c48cf2008b",
   "metadata": {},
   "outputs": [
    {
     "name": "stdout",
     "output_type": "stream",
     "text": [
      "[0.0021806971124596064, -4.824700963459696]\n"
     ]
    }
   ],
   "source": [
    "# Similarly, the Nash-Sutcliffe Efficiency for the first station in the data we were given will look like \n",
    "print(metrics.nse(observed=observed, simulated=simulated))"
   ]
  },
  {
   "cell_type": "markdown",
   "id": "2b477635-31ad-4086-99bc-1b3a6884b536",
   "metadata": {},
   "source": [
    "##### Kling-Gupta Efficiency"
   ]
  },
  {
   "cell_type": "code",
   "execution_count": 23,
   "id": "add8b858-1cf2-4795-9b6c-3f3ce1e9e46a",
   "metadata": {},
   "outputs": [
    {
     "name": "stdout",
     "output_type": "stream",
     "text": [
      "[0.49061085454963205, -0.7628035230858525]\n"
     ]
    }
   ],
   "source": [
    "# Similarly, the Kling-Gupta Efficiency for the first station in the data we were given will look like \n",
    "print(metrics.kge(observed=observed, simulated=simulated))"
   ]
  },
  {
   "cell_type": "markdown",
   "id": "63a1b546-4b01-4b92-980a-34df9350517c",
   "metadata": {},
   "source": [
    "##### The Updated Kling-Gupta Efficiency (2012)"
   ]
  },
  {
   "cell_type": "code",
   "execution_count": 24,
   "id": "b853f560-412f-479b-b3d0-f80183d9c607",
   "metadata": {},
   "outputs": [
    {
     "name": "stdout",
     "output_type": "stream",
     "text": [
      "[0.27812840065858213, -0.1908546908670441]\n"
     ]
    }
   ],
   "source": [
    "# Similarly, the Kling-Gupta Efficiency for the first station in the data we were given will look like \n",
    "print(metrics.kge_2012(observed=observed, simulated=simulated))"
   ]
  },
  {
   "cell_type": "markdown",
   "id": "5c74bf29-d59c-4d4e-a466-536e3144f8e0",
   "metadata": {},
   "source": [
    "##### Percentage Bias"
   ]
  },
  {
   "cell_type": "code",
   "execution_count": 25,
   "id": "c94f7f0c-92c6-40c4-944a-2d0645ae071b",
   "metadata": {},
   "outputs": [
    {
     "name": "stdout",
     "output_type": "stream",
     "text": [
      "[-27.052012466427488, 31.551597410264947]\n"
     ]
    }
   ],
   "source": [
    "# Similarly, the Percentage Bias for the first station in the data we were given will look like \n",
    "print(metrics.bias(observed=observed, simulated=simulated))\n",
    "\n",
    "# Observed that it returns the percentage not the actual value i.e 27% not 0.27"
   ]
  },
  {
   "cell_type": "markdown",
   "id": "4cc8d77f-1c31-42a8-9274-d8e1dc5666f0",
   "metadata": {},
   "source": [
    "##### Time to Peak"
   ]
  },
  {
   "cell_type": "code",
   "execution_count": 26,
   "id": "7e68e931-55b6-476b-bd34-ada6b2d19fc4",
   "metadata": {},
   "outputs": [
    {
     "name": "stdout",
     "output_type": "stream",
     "text": [
      "[186.61111111111111, 172.72222222222223]\n",
      "[157.58823529411765, 170.77777777777777]\n"
     ]
    }
   ],
   "source": [
    "# Similarly, the Time to Peak for the simulated data from the first station in the data we were given will look like \n",
    "print(metrics.time_to_peak(df=simulated))\n",
    "\n",
    "# The time to peak for the observed data for the same station looks like:-\n",
    "print(metrics.time_to_peak(df=observed))"
   ]
  },
  {
   "cell_type": "markdown",
   "id": "b59691e4-ec08-488a-a413-6f8a7ce4c994",
   "metadata": {},
   "source": [
    "##### Time to Centre of Mass"
   ]
  },
  {
   "cell_type": "code",
   "execution_count": 27,
   "id": "a1de9ecf-a3d1-4c04-a020-8723c760fd69",
   "metadata": {},
   "outputs": [
    {
     "name": "stdout",
     "output_type": "stream",
     "text": [
      "[192.78635358563776, 192.42788801235076]\n",
      "[182.56368935854212, 200.31822645703028]\n"
     ]
    }
   ],
   "source": [
    "# Similarly, the Time to Peak for the simulated data from the first station in the data we were given will look like \n",
    "print(metrics.time_to_centre_of_mass(df=simulated))\n",
    "\n",
    "# The time to peak for the observed data for the same station looks like:-\n",
    "print(metrics.time_to_centre_of_mass(df=observed))"
   ]
  },
  {
   "cell_type": "markdown",
   "id": "74c76437-7fa0-44ea-b14a-761169021b38",
   "metadata": {},
   "source": [
    "##### Spring Pulse Onset Delay"
   ]
  },
  {
   "cell_type": "code",
   "execution_count": 28,
   "id": "ac3ed735-2d5b-4b67-99ea-c97b086bcbd3",
   "metadata": {},
   "outputs": [
    {
     "name": "stdout",
     "output_type": "stream",
     "text": [
      "[136.19444444444446, 142.94444444444446]\n",
      "[129.1764705882353, 0.0]\n"
     ]
    }
   ],
   "source": [
    "# Similarly, the Time to Peak for the simulated data from the first station in the data we were given will look like \n",
    "print(metrics.SpringPulseOnset(df=simulated))\n",
    "\n",
    "# The time to peak for the observed data for the same station looks like:-\n",
    "print(metrics.SpringPulseOnset(df=observed))"
   ]
  },
  {
   "cell_type": "markdown",
   "id": "b4a5a056-06bd-48cd-aaef-1fc2e9a9d74e",
   "metadata": {},
   "source": [
    "#### Multiple metrics"
   ]
  },
  {
   "cell_type": "code",
   "execution_count": 29,
   "id": "97a45d1a-f68a-4054-ac33-b292f8a88b2f",
   "metadata": {},
   "outputs": [
    {
     "name": "stdout",
     "output_type": "stream",
     "text": [
      "MSE: [1656.685638835447, 730.4265136887851]\n",
      "RMSE: [40.702403354537275, 27.02640400957525]\n",
      "MAE: [22.12912878335626, 13.558496468765133]\n",
      "NSE: [0.0021806971124596064, -4.824700963459696]\n",
      "NegNSE: [-0.0021806971124596064, 4.824700963459696]\n",
      "LogNSE: [-0.23787575482558498, -0.8608412562580361]\n",
      "NegLogNSE: [0.23787575482558498, 0.8608412562580361]\n",
      "KGE: [0.49061085454963205, -0.7628035230858525]\n",
      "NegKGE: [-0.49061085454963205, 0.7628035230858525]\n",
      "KGE 2012: [0.27812840065858213, -0.1908546908670441]\n",
      "BIAS: [-27.052012466427488, 31.551597410264947]\n",
      "AbsBIAS: [27.052012466427488, 31.551597410264947]\n",
      "TTP_obs: [157.58823529411765, 170.77777777777777]\n",
      "TTP_sim: [186.61111111111111, 172.72222222222223]\n",
      "TTCoM_obs: [182.56368935854212, 200.31822645703028]\n",
      "TTCoM_sim: [192.78635358563776, 192.42788801235076]\n",
      "SPOD_obs: [129.1764705882353, 0.0]\n",
      "SPOD_sim: [136.19444444444446, 142.94444444444446]\n"
     ]
    }
   ],
   "source": [
    "# You are also able to calculate possible available metrics \n",
    "for key, value in metrics.calculate_all_metrics(observed=observed, simulated=simulated, stations=[1, 2]).items():\n",
    "    print(f\"{key}: {value}\")"
   ]
  },
  {
   "cell_type": "markdown",
   "id": "25b9fcbb-8b15-4cfe-91d3-d7162f687a0d",
   "metadata": {},
   "source": [
    "Note: There will be an option to have this returned in a text file for easy observation in the coming days"
   ]
  },
  {
   "cell_type": "code",
   "execution_count": 30,
   "id": "17a78000-a835-4c5e-805c-7cb6be5dad0b",
   "metadata": {},
   "outputs": [
    {
     "name": "stdout",
     "output_type": "stream",
     "text": [
      "MSE: [1656.685638835447, 730.4265136887851]\n",
      "RMSE: [40.702403354537275, 27.02640400957525]\n",
      "MAE: [22.12912878335626, 13.558496468765133]\n",
      "NSE: [0.0021806971124596064, -4.824700963459696]\n",
      "NegNSE: [-0.0021806971124596064, 4.824700963459696]\n",
      "LogNSE: [-0.23787575482558498, -0.8608412562580361]\n"
     ]
    }
   ],
   "source": [
    "# Naturally, you are also able to calculate a few metrics at a time but putting then in a list and passing them into the function\n",
    "# as shown below\n",
    "metrices = [\"MSE\", \"RMSE\", \"MAE\", \"NSE\", \"NegNSE\", \"LogNSE\"]\n",
    "for key, value in metrics.calculate_metrics(observed=observed, simulated=simulated, metrices=metrices).items():\n",
    "    print(f\"{key}: {value}\")"
   ]
  },
  {
   "cell_type": "markdown",
   "id": "32179ebc-cf81-4081-ba4c-75c95464f11e",
   "metadata": {},
   "source": [
    "### Visualizations"
   ]
  },
  {
   "cell_type": "markdown",
   "id": "792c39d0-1fd3-4235-97da-e1ab6fd3e5eb",
   "metadata": {},
   "source": [
    "<mark>Note: The visualization modules are not yet at a point where it can be put into public use.<mark/>"
   ]
  },
  {
   "cell_type": "code",
   "execution_count": 31,
   "id": "1951be90-62d5-461c-a946-4ef60573d9d0",
   "metadata": {},
   "outputs": [
    {
     "name": "stdout",
     "output_type": "stream",
     "text": [
      "See metrics_out.txt file in directory\n"
     ]
    }
   ],
   "source": [
    "metrics.calculate_all_metrics(observed=observed, simulated=simulated, stations=[1, 2], format=\"txt\")"
   ]
  },
  {
   "cell_type": "code",
   "execution_count": 32,
   "id": "c8875e9c-4ff6-44a7-9ac7-530d0147790c",
   "metadata": {},
   "outputs": [
    {
     "name": "stdout",
     "output_type": "stream",
     "text": [
      "            QOMEAS_05BB001  QOMEAS_05BA001\n",
      "1980-12-31           10.20             NaN\n",
      "1981-01-01            9.85             NaN\n",
      "1981-01-02           10.20             NaN\n",
      "1981-01-03           10.00             NaN\n",
      "1981-01-04           10.10             NaN\n",
      "...                    ...             ...\n",
      "2017-12-27             NaN             NaN\n",
      "2017-12-28             NaN             NaN\n",
      "2017-12-29             NaN             NaN\n",
      "2017-12-30             NaN             NaN\n",
      "2017-12-31             NaN             NaN\n",
      "\n",
      "[13515 rows x 2 columns]\n",
      "<pandas.core.groupby.generic.DataFrameGroupBy object at 0x000002099F056710>\n",
      "            QOMEAS_05BB001  QOMEAS_05BA001\n",
      "1980-12-31           10.20             NaN\n",
      "1981-01-01            9.85             NaN\n",
      "1981-01-02           10.20             NaN\n",
      "1981-01-03           10.00             NaN\n",
      "1981-01-04           10.10             NaN\n",
      "...                    ...             ...\n",
      "2017-12-27             NaN             NaN\n",
      "2017-12-28             NaN             NaN\n",
      "2017-12-29             NaN             NaN\n",
      "2017-12-30             NaN             NaN\n",
      "2017-12-31             NaN             NaN\n",
      "\n",
      "[13515 rows x 2 columns]\n"
     ]
    }
   ],
   "source": [
    "observed.index.strftime(\"%Y\")\n",
    "print(observed)\n",
    "yearly_agg= observed.groupby(observed.index.strftime(\"%Y\"))\n",
    "print(yearly_agg)\n",
    "print(observed)"
   ]
  },
  {
   "cell_type": "code",
   "execution_count": null,
   "id": "8df1a7f2-8e50-468e-9515-cc887d775598",
   "metadata": {},
   "outputs": [],
   "source": []
  },
  {
   "cell_type": "code",
   "execution_count": null,
   "id": "83b9985d-b087-4f04-8795-aa9fecd43a4e",
   "metadata": {},
   "outputs": [],
   "source": [
    "\n"
   ]
  },
  {
   "cell_type": "code",
   "execution_count": null,
   "id": "d9561971-211d-4298-a31b-6fae17add111",
   "metadata": {},
   "outputs": [],
   "source": []
  }
 ],
 "metadata": {
  "kernelspec": {
   "display_name": "Python 3 (ipykernel)",
   "language": "python",
   "name": "python3"
  },
  "language_info": {
   "codemirror_mode": {
    "name": "ipython",
    "version": 3
   },
   "file_extension": ".py",
   "mimetype": "text/x-python",
   "name": "python",
   "nbconvert_exporter": "python",
   "pygments_lexer": "ipython3",
   "version": "3.11.7"
  },
  "widgets": {
   "application/vnd.jupyter.widget-state+json": {
    "state": {
     "01fd6d9c6cad401abe54f3aa28aad6b7": {
      "model_module": "@jupyter-widgets/base",
      "model_module_version": "2.0.0",
      "model_name": "LayoutModel",
      "state": {}
     },
     "05beb67dcf94427899bde7e8cd786482": {
      "model_module": "@jupyter-widgets/controls",
      "model_module_version": "2.0.0",
      "model_name": "ComboboxModel",
      "state": {
       "description": "Combobox:",
       "ensure_option": true,
       "layout": "IPY_MODEL_0e95ac20d46647a481e17ae48810ee21",
       "options": [
        "Paul",
        "John",
        "George",
        "Ringo"
       ],
       "placeholder": "Choose Someone",
       "style": "IPY_MODEL_5ff57f9503ec4a9db51716f4ff48f31f"
      }
     },
     "0c65255fb21b41ee9b87be112bf93f95": {
      "model_module": "@jupyter-widgets/base",
      "model_module_version": "2.0.0",
      "model_name": "LayoutModel",
      "state": {}
     },
     "0e95ac20d46647a481e17ae48810ee21": {
      "model_module": "@jupyter-widgets/base",
      "model_module_version": "2.0.0",
      "model_name": "LayoutModel",
      "state": {}
     },
     "29643db66ea44e839a1ed82687118610": {
      "model_module": "@jupyter-widgets/output",
      "model_module_version": "1.0.0",
      "model_name": "OutputModel",
      "state": {
       "layout": "IPY_MODEL_ce4b703e32a04f819265d8100efde752",
       "outputs": [
        {
         "name": "stdout",
         "output_type": "stream",
         "text": "\n\n\n"
        }
       ]
      }
     },
     "2ba9dc412dda427ab4a6d314a8652348": {
      "model_module": "@jupyter-widgets/base",
      "model_module_version": "2.0.0",
      "model_name": "LayoutModel",
      "state": {}
     },
     "399beafc12a64a8193001ae5ec7ef941": {
      "model_module": "@jupyter-widgets/controls",
      "model_module_version": "2.0.0",
      "model_name": "VBoxModel",
      "state": {
       "_dom_classes": [
        "widget-interact"
       ],
       "children": [
        "IPY_MODEL_5369e4452e9247b295da925c94f75ffc",
        "IPY_MODEL_8d14ed96a2d84d89bba4a944967e6d45",
        "IPY_MODEL_cc0c8a9379744255b3a3e6d7497e7b3e",
        "IPY_MODEL_8ae6159752864a8680dc8ed8ed1eee2b"
       ],
       "layout": "IPY_MODEL_aa256992f7694954b920f8dcd7126909"
      }
     },
     "4ba5e97ea94b4f2a83d2fbcfc34120b6": {
      "model_module": "@jupyter-widgets/base",
      "model_module_version": "2.0.0",
      "model_name": "LayoutModel",
      "state": {}
     },
     "4d4d020a62914c93985c494be6739fc6": {
      "model_module": "@jupyter-widgets/controls",
      "model_module_version": "2.0.0",
      "model_name": "ComboboxModel",
      "state": {
       "description": "Combobox:",
       "ensure_option": true,
       "layout": "IPY_MODEL_4ba5e97ea94b4f2a83d2fbcfc34120b6",
       "options": [
        "Paul",
        "John",
        "George",
        "Ringo"
       ],
       "placeholder": "Choose Someone",
       "style": "IPY_MODEL_ff8e76ecc6ad4b9f908ec8036c7149b2"
      }
     },
     "5369e4452e9247b295da925c94f75ffc": {
      "model_module": "@jupyter-widgets/controls",
      "model_module_version": "2.0.0",
      "model_name": "ToggleButtonsModel",
      "state": {
       "_options_labels": [
        "Not Included",
        "Included",
        "Favorite"
       ],
       "button_style": "",
       "description": "choice1",
       "icons": [],
       "index": 0,
       "layout": "IPY_MODEL_2ba9dc412dda427ab4a6d314a8652348",
       "style": "IPY_MODEL_cb20186aca564d7faeaf6cbcee45ce0d",
       "tooltips": []
      }
     },
     "58aacec898fa4098a9db90d7fc0bef74": {
      "model_module": "@jupyter-widgets/controls",
      "model_module_version": "2.0.0",
      "model_name": "TextStyleModel",
      "state": {
       "description_width": "",
       "font_size": null,
       "text_color": null
      }
     },
     "5d476058d03540bd83aed85989607be3": {
      "model_module": "@jupyter-widgets/controls",
      "model_module_version": "2.0.0",
      "model_name": "DescriptionStyleModel",
      "state": {
       "description_width": ""
      }
     },
     "5ff57f9503ec4a9db51716f4ff48f31f": {
      "model_module": "@jupyter-widgets/controls",
      "model_module_version": "2.0.0",
      "model_name": "TextStyleModel",
      "state": {
       "description_width": "",
       "font_size": null,
       "text_color": null
      }
     },
     "70fad96799aa4ca0a8ba72ff08c2f64a": {
      "model_module": "@jupyter-widgets/controls",
      "model_module_version": "2.0.0",
      "model_name": "ComboboxModel",
      "state": {
       "description": "choice2",
       "ensure_option": true,
       "layout": "IPY_MODEL_0c65255fb21b41ee9b87be112bf93f95",
       "options": [
        "Not Included",
        "Included",
        "Favorite"
       ],
       "placeholder": "Choose Someone",
       "style": "IPY_MODEL_8b3cef81d1d744d98cbb8d157160743a"
      }
     },
     "76be316692b441b9aaeb77ffc28633ba": {
      "model_module": "@jupyter-widgets/base",
      "model_module_version": "2.0.0",
      "model_name": "LayoutModel",
      "state": {}
     },
     "7989b76e4fbe4735afba0094fe29966e": {
      "model_module": "@jupyter-widgets/base",
      "model_module_version": "2.0.0",
      "model_name": "LayoutModel",
      "state": {}
     },
     "7b84300fae1242079118ccee1f5c6cdc": {
      "model_module": "@jupyter-widgets/base",
      "model_module_version": "2.0.0",
      "model_name": "LayoutModel",
      "state": {}
     },
     "8ae6159752864a8680dc8ed8ed1eee2b": {
      "model_module": "@jupyter-widgets/output",
      "model_module_version": "1.0.0",
      "model_name": "OutputModel",
      "state": {
       "layout": "IPY_MODEL_76be316692b441b9aaeb77ffc28633ba",
       "outputs": [
        {
         "name": "stdout",
         "output_type": "stream",
         "text": "Not Included\nNot Included\nNot Included\n"
        }
       ]
      }
     },
     "8b3cef81d1d744d98cbb8d157160743a": {
      "model_module": "@jupyter-widgets/controls",
      "model_module_version": "2.0.0",
      "model_name": "TextStyleModel",
      "state": {
       "description_width": "",
       "font_size": null,
       "text_color": null
      }
     },
     "8d14ed96a2d84d89bba4a944967e6d45": {
      "model_module": "@jupyter-widgets/controls",
      "model_module_version": "2.0.0",
      "model_name": "ToggleButtonsModel",
      "state": {
       "_options_labels": [
        "Not Included",
        "Included",
        "Favorite"
       ],
       "button_style": "",
       "description": "choice2",
       "icons": [],
       "index": 0,
       "layout": "IPY_MODEL_7b84300fae1242079118ccee1f5c6cdc",
       "style": "IPY_MODEL_dfcb158c677d41d0bcf217f2540a9208",
       "tooltips": []
      }
     },
     "8eb7a8148be7403b87817d0056bab5d5": {
      "model_module": "@jupyter-widgets/controls",
      "model_module_version": "2.0.0",
      "model_name": "ComboboxModel",
      "state": {
       "description": "choice1",
       "ensure_option": true,
       "layout": "IPY_MODEL_01fd6d9c6cad401abe54f3aa28aad6b7",
       "options": [
        "Not Included",
        "Included",
        "Favorite"
       ],
       "placeholder": "Choose Someone",
       "style": "IPY_MODEL_58aacec898fa4098a9db90d7fc0bef74"
      }
     },
     "a13fedeaba944bf0bf0b481bf2182d3a": {
      "model_module": "@jupyter-widgets/base",
      "model_module_version": "2.0.0",
      "model_name": "LayoutModel",
      "state": {}
     },
     "aa256992f7694954b920f8dcd7126909": {
      "model_module": "@jupyter-widgets/base",
      "model_module_version": "2.0.0",
      "model_name": "LayoutModel",
      "state": {}
     },
     "ab789ad39e9f44cb97863f71defe0ba6": {
      "model_module": "@jupyter-widgets/base",
      "model_module_version": "2.0.0",
      "model_name": "LayoutModel",
      "state": {}
     },
     "b7c18009d2ad4627b4d2b64a09dd85e7": {
      "model_module": "@jupyter-widgets/controls",
      "model_module_version": "2.0.0",
      "model_name": "RadioButtonsModel",
      "state": {
       "_options_labels": [
        "QOMEAS_05BB001",
        "QOMEAS_05BA001"
       ],
       "description": "Stations:",
       "index": 0,
       "layout": "IPY_MODEL_ab789ad39e9f44cb97863f71defe0ba6",
       "style": "IPY_MODEL_5d476058d03540bd83aed85989607be3"
      }
     },
     "c81051665ae04a00855666edee3a2547": {
      "model_module": "@jupyter-widgets/controls",
      "model_module_version": "2.0.0",
      "model_name": "DropdownModel",
      "state": {
       "_options_labels": [
        "QOMEAS_05BB001",
        "QOMEAS_05BA001"
       ],
       "description": "Station:",
       "index": 0,
       "layout": "IPY_MODEL_a13fedeaba944bf0bf0b481bf2182d3a",
       "style": "IPY_MODEL_cc673e0984ec450f8cf6548bdc98f7d6"
      }
     },
     "cb20186aca564d7faeaf6cbcee45ce0d": {
      "model_module": "@jupyter-widgets/controls",
      "model_module_version": "2.0.0",
      "model_name": "ToggleButtonsStyleModel",
      "state": {
       "button_width": "",
       "description_width": "300px"
      }
     },
     "cb63420e07ea43a3b83642d668076c5e": {
      "model_module": "@jupyter-widgets/controls",
      "model_module_version": "2.0.0",
      "model_name": "TextStyleModel",
      "state": {
       "description_width": "",
       "font_size": null,
       "text_color": null
      }
     },
     "cc0c8a9379744255b3a3e6d7497e7b3e": {
      "model_module": "@jupyter-widgets/controls",
      "model_module_version": "2.0.0",
      "model_name": "ToggleButtonsModel",
      "state": {
       "_options_labels": [
        "Not Included",
        "Included",
        "Favorite"
       ],
       "button_style": "",
       "description": "choice3",
       "icons": [],
       "index": 0,
       "layout": "IPY_MODEL_7989b76e4fbe4735afba0094fe29966e",
       "style": "IPY_MODEL_cf6b5af89d3541ba91d7f05b4c247418",
       "tooltips": []
      }
     },
     "cc673e0984ec450f8cf6548bdc98f7d6": {
      "model_module": "@jupyter-widgets/controls",
      "model_module_version": "2.0.0",
      "model_name": "DescriptionStyleModel",
      "state": {
       "description_width": ""
      }
     },
     "ce4b703e32a04f819265d8100efde752": {
      "model_module": "@jupyter-widgets/base",
      "model_module_version": "2.0.0",
      "model_name": "LayoutModel",
      "state": {}
     },
     "cf6b5af89d3541ba91d7f05b4c247418": {
      "model_module": "@jupyter-widgets/controls",
      "model_module_version": "2.0.0",
      "model_name": "ToggleButtonsStyleModel",
      "state": {
       "button_width": "",
       "description_width": "300px"
      }
     },
     "d00815ddbe2c4d26916edb8fdc5fae90": {
      "model_module": "@jupyter-widgets/controls",
      "model_module_version": "2.0.0",
      "model_name": "VBoxModel",
      "state": {
       "_dom_classes": [
        "widget-interact"
       ],
       "children": [
        "IPY_MODEL_8eb7a8148be7403b87817d0056bab5d5",
        "IPY_MODEL_70fad96799aa4ca0a8ba72ff08c2f64a",
        "IPY_MODEL_faf461f7e24b454fa2d70e011823d890",
        "IPY_MODEL_29643db66ea44e839a1ed82687118610"
       ],
       "layout": "IPY_MODEL_f9ed9c2dc0df4a42a5de8428cf7dedf6"
      }
     },
     "d27555baee154d87a3711d1f5f27a5ff": {
      "model_module": "@jupyter-widgets/base",
      "model_module_version": "2.0.0",
      "model_name": "LayoutModel",
      "state": {}
     },
     "dfcb158c677d41d0bcf217f2540a9208": {
      "model_module": "@jupyter-widgets/controls",
      "model_module_version": "2.0.0",
      "model_name": "ToggleButtonsStyleModel",
      "state": {
       "button_width": "",
       "description_width": "300px"
      }
     },
     "f9ed9c2dc0df4a42a5de8428cf7dedf6": {
      "model_module": "@jupyter-widgets/base",
      "model_module_version": "2.0.0",
      "model_name": "LayoutModel",
      "state": {}
     },
     "faf461f7e24b454fa2d70e011823d890": {
      "model_module": "@jupyter-widgets/controls",
      "model_module_version": "2.0.0",
      "model_name": "ComboboxModel",
      "state": {
       "description": "choice3",
       "ensure_option": true,
       "layout": "IPY_MODEL_d27555baee154d87a3711d1f5f27a5ff",
       "options": [
        "Not Included",
        "Included",
        "Favorite"
       ],
       "placeholder": "Choose Someone",
       "style": "IPY_MODEL_cb63420e07ea43a3b83642d668076c5e"
      }
     },
     "ff8e76ecc6ad4b9f908ec8036c7149b2": {
      "model_module": "@jupyter-widgets/controls",
      "model_module_version": "2.0.0",
      "model_name": "TextStyleModel",
      "state": {
       "description_width": "",
       "font_size": null,
       "text_color": null
      }
     }
    },
    "version_major": 2,
    "version_minor": 0
   }
  }
 },
 "nbformat": 4,
 "nbformat_minor": 5
}
